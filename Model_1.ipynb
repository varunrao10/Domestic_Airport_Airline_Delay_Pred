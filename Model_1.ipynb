{
 "cells": [
  {
   "cell_type": "code",
   "execution_count": 12,
   "metadata": {
    "id": "Gtt063w97Asa"
   },
   "outputs": [],
   "source": [
    "import pandas as pd\n",
    "import numpy as np"
   ]
  },
  {
   "cell_type": "code",
   "execution_count": 13,
   "metadata": {
    "colab": {
     "base_uri": "https://localhost:8080/"
    },
    "id": "8dD0b8Nt7Jbc",
    "outputId": "8ca4b956-17e1-4551-efbe-2e0c2ab61613"
   },
   "outputs": [
    {
     "name": "stderr",
     "output_type": "stream",
     "text": [
      "/usr/local/lib/python3.7/dist-packages/IPython/core/interactiveshell.py:2882: FutureWarning: The error_bad_lines argument has been deprecated and will be removed in a future version.\n",
      "\n",
      "\n",
      "  exec(code_obj, self.user_global_ns, self.user_ns)\n"
     ]
    }
   ],
   "source": [
    "# Data Loading\n",
    "file_path = '2018_clean_final.csv'\n",
    "flight_df = pd.read_csv(file_path, error_bad_lines=False)"
   ]
  },
  {
   "cell_type": "code",
   "execution_count": 14,
   "metadata": {
    "colab": {
     "base_uri": "https://localhost:8080/"
    },
    "id": "4xIOcXbB7cS2",
    "outputId": "e8da23a7-eb1f-4fde-c6ef-cf37554fd9af"
   },
   "outputs": [
    {
     "name": "stdout",
     "output_type": "stream",
     "text": [
      "<class 'pandas.core.frame.DataFrame'>\n",
      "RangeIndex: 4513116 entries, 0 to 4513115\n",
      "Data columns (total 31 columns):\n",
      " #   Column               Dtype  \n",
      "---  ------               -----  \n",
      " 0   FL_DATE              object \n",
      " 1   OP_CARRIER           object \n",
      " 2   CRS_DEP_TIME         int64  \n",
      " 3   DEP_DELAY            float64\n",
      " 4   TAXI_OUT             float64\n",
      " 5   WHEELS_OFF           float64\n",
      " 6   WHEELS_ON            float64\n",
      " 7   TAXI_IN              float64\n",
      " 8   CRS_ARR_TIME         int64  \n",
      " 9   ARR_DELAY            float64\n",
      " 10  CRS_ELAPSED_TIME     float64\n",
      " 11  ACTUAL_ELAPSED_TIME  float64\n",
      " 12  AIR_TIME             float64\n",
      " 13  DISTANCE             float64\n",
      " 14  CARRIER_DELAY        float64\n",
      " 15  WEATHER_DELAY        float64\n",
      " 16  NAS_DELAY            float64\n",
      " 17  SECURITY_DELAY       float64\n",
      " 18  LATE_AIRCRAFT_DELAY  float64\n",
      " 19  Org_Airport          object \n",
      " 20  Org_latitude         float64\n",
      " 21  Org_longitude        float64\n",
      " 22  Origin_city          object \n",
      " 23  Dest_Airport         object \n",
      " 24  Dest_latitude        float64\n",
      " 25  Dest_longitude       float64\n",
      " 26  Dest_city            object \n",
      " 27  month                float64\n",
      " 28  Day                  float64\n",
      " 29  MONTH_abbr           object \n",
      " 30  DELAY_STATUS         float64\n",
      "dtypes: float64(22), int64(2), object(7)\n",
      "memory usage: 1.0+ GB\n"
     ]
    }
   ],
   "source": [
    "flight_df.info()"
   ]
  },
  {
   "cell_type": "code",
   "execution_count": 15,
   "metadata": {
    "colab": {
     "base_uri": "https://localhost:8080/"
    },
    "id": "ceOO8Xf7-eUd",
    "outputId": "7a91d8c6-33e6-456f-c954-a08d113a67e5"
   },
   "outputs": [
    {
     "data": {
      "text/plain": [
       "(4513116, 31)"
      ]
     },
     "execution_count": 15,
     "metadata": {},
     "output_type": "execute_result"
    }
   ],
   "source": [
    "flight_df.shape"
   ]
  },
  {
   "cell_type": "code",
   "execution_count": 16,
   "metadata": {
    "colab": {
     "base_uri": "https://localhost:8080/"
    },
    "id": "qJXlVLzi-w-O",
    "outputId": "31dd9ef5-f17e-4a91-d811-279a5c64b468"
   },
   "outputs": [
    {
     "data": {
      "text/plain": [
       "FL_DATE                0\n",
       "OP_CARRIER             0\n",
       "CRS_DEP_TIME           0\n",
       "DEP_DELAY              0\n",
       "TAXI_OUT               0\n",
       "WHEELS_OFF             0\n",
       "WHEELS_ON              0\n",
       "TAXI_IN                0\n",
       "CRS_ARR_TIME           0\n",
       "ARR_DELAY              0\n",
       "CRS_ELAPSED_TIME       0\n",
       "ACTUAL_ELAPSED_TIME    0\n",
       "AIR_TIME               0\n",
       "DISTANCE               1\n",
       "CARRIER_DELAY          1\n",
       "WEATHER_DELAY          1\n",
       "NAS_DELAY              1\n",
       "SECURITY_DELAY         1\n",
       "LATE_AIRCRAFT_DELAY    1\n",
       "Org_Airport            1\n",
       "Org_latitude           1\n",
       "Org_longitude          1\n",
       "Origin_city            1\n",
       "Dest_Airport           1\n",
       "Dest_latitude          1\n",
       "Dest_longitude         1\n",
       "Dest_city              1\n",
       "month                  1\n",
       "Day                    1\n",
       "MONTH_abbr             1\n",
       "DELAY_STATUS           1\n",
       "dtype: int64"
      ]
     },
     "execution_count": 16,
     "metadata": {},
     "output_type": "execute_result"
    }
   ],
   "source": [
    "flight_df.isnull().sum()\n"
   ]
  },
  {
   "cell_type": "code",
   "execution_count": 17,
   "metadata": {
    "id": "Jdj5YVC75yz5"
   },
   "outputs": [],
   "source": [
    "flight_df = flight_df.dropna()"
   ]
  },
  {
   "cell_type": "code",
   "execution_count": 18,
   "metadata": {
    "colab": {
     "base_uri": "https://localhost:8080/"
    },
    "id": "MODvP1x56UXj",
    "outputId": "fd4e24e1-d974-4cf5-aa63-c983d51a5d2d"
   },
   "outputs": [
    {
     "data": {
      "text/plain": [
       "FL_DATE                0\n",
       "OP_CARRIER             0\n",
       "CRS_DEP_TIME           0\n",
       "DEP_DELAY              0\n",
       "TAXI_OUT               0\n",
       "WHEELS_OFF             0\n",
       "WHEELS_ON              0\n",
       "TAXI_IN                0\n",
       "CRS_ARR_TIME           0\n",
       "ARR_DELAY              0\n",
       "CRS_ELAPSED_TIME       0\n",
       "ACTUAL_ELAPSED_TIME    0\n",
       "AIR_TIME               0\n",
       "DISTANCE               0\n",
       "CARRIER_DELAY          0\n",
       "WEATHER_DELAY          0\n",
       "NAS_DELAY              0\n",
       "SECURITY_DELAY         0\n",
       "LATE_AIRCRAFT_DELAY    0\n",
       "Org_Airport            0\n",
       "Org_latitude           0\n",
       "Org_longitude          0\n",
       "Origin_city            0\n",
       "Dest_Airport           0\n",
       "Dest_latitude          0\n",
       "Dest_longitude         0\n",
       "Dest_city              0\n",
       "month                  0\n",
       "Day                    0\n",
       "MONTH_abbr             0\n",
       "DELAY_STATUS           0\n",
       "dtype: int64"
      ]
     },
     "execution_count": 18,
     "metadata": {},
     "output_type": "execute_result"
    }
   ],
   "source": [
    "flight_df.isnull().sum()"
   ]
  },
  {
   "cell_type": "code",
   "execution_count": 19,
   "metadata": {
    "colab": {
     "base_uri": "https://localhost:8080/"
    },
    "id": "v0vT1223Auih",
    "outputId": "9bc45efe-5f43-4a31-eab7-b6b93001dfdd"
   },
   "outputs": [
    {
     "data": {
      "text/plain": [
       "Index(['FL_DATE', 'OP_CARRIER', 'CRS_DEP_TIME', 'DEP_DELAY', 'TAXI_OUT',\n",
       "       'WHEELS_OFF', 'WHEELS_ON', 'TAXI_IN', 'CRS_ARR_TIME', 'ARR_DELAY',\n",
       "       'CRS_ELAPSED_TIME', 'ACTUAL_ELAPSED_TIME', 'AIR_TIME', 'DISTANCE',\n",
       "       'CARRIER_DELAY', 'WEATHER_DELAY', 'NAS_DELAY', 'SECURITY_DELAY',\n",
       "       'LATE_AIRCRAFT_DELAY', 'Org_Airport', 'Org_latitude', 'Org_longitude',\n",
       "       'Origin_city', 'Dest_Airport', 'Dest_latitude', 'Dest_longitude',\n",
       "       'Dest_city', 'month', 'Day', 'MONTH_abbr', 'DELAY_STATUS', 'WEEKDAY'],\n",
       "      dtype='object')"
      ]
     },
     "execution_count": 19,
     "metadata": {},
     "output_type": "execute_result"
    }
   ],
   "source": [
    "flight_df['FL_DATE'] = pd.to_datetime(flight_df['FL_DATE'])\n",
    "flight_df['WEEKDAY'] = flight_df['FL_DATE'].dt.dayofweek\n",
    "flight_df.columns"
   ]
  },
  {
   "cell_type": "code",
   "execution_count": 20,
   "metadata": {
    "colab": {
     "base_uri": "https://localhost:8080/"
    },
    "id": "3HU7MZ7vTV1k",
    "outputId": "b7009407-f146-468f-80a3-fa5e8e578dc0"
   },
   "outputs": [
    {
     "data": {
      "text/plain": [
       "0    678073\n",
       "4    671580\n",
       "3    666992\n",
       "2    650610\n",
       "1    644023\n",
       "6    643218\n",
       "5    558619\n",
       "Name: WEEKDAY, dtype: int64"
      ]
     },
     "execution_count": 20,
     "metadata": {},
     "output_type": "execute_result"
    }
   ],
   "source": [
    "flight_df.WEEKDAY.value_counts()"
   ]
  },
  {
   "cell_type": "code",
   "execution_count": 21,
   "metadata": {
    "colab": {
     "base_uri": "https://localhost:8080/",
     "height": 280
    },
    "id": "12KGRfY5TV1l",
    "outputId": "ae1b458c-b13b-4566-8ee9-a928a2407153"
   },
   "outputs": [
    {
     "data": {
      "text/html": [
       "\n",
       "  <div id=\"df-9a09bbe8-4398-450f-a8d7-ef6f58aee94a\">\n",
       "    <div class=\"colab-df-container\">\n",
       "      <div>\n",
       "<style scoped>\n",
       "    .dataframe tbody tr th:only-of-type {\n",
       "        vertical-align: middle;\n",
       "    }\n",
       "\n",
       "    .dataframe tbody tr th {\n",
       "        vertical-align: top;\n",
       "    }\n",
       "\n",
       "    .dataframe thead th {\n",
       "        text-align: right;\n",
       "    }\n",
       "</style>\n",
       "<table border=\"1\" class=\"dataframe\">\n",
       "  <thead>\n",
       "    <tr style=\"text-align: right;\">\n",
       "      <th></th>\n",
       "      <th>FL_DATE</th>\n",
       "      <th>OP_CARRIER</th>\n",
       "      <th>CRS_DEP_TIME</th>\n",
       "      <th>DEP_DELAY</th>\n",
       "      <th>TAXI_OUT</th>\n",
       "      <th>WHEELS_OFF</th>\n",
       "      <th>WHEELS_ON</th>\n",
       "      <th>TAXI_IN</th>\n",
       "      <th>CRS_ARR_TIME</th>\n",
       "      <th>ARR_DELAY</th>\n",
       "      <th>CRS_ELAPSED_TIME</th>\n",
       "      <th>ACTUAL_ELAPSED_TIME</th>\n",
       "      <th>AIR_TIME</th>\n",
       "      <th>DISTANCE</th>\n",
       "      <th>CARRIER_DELAY</th>\n",
       "      <th>WEATHER_DELAY</th>\n",
       "      <th>NAS_DELAY</th>\n",
       "      <th>SECURITY_DELAY</th>\n",
       "      <th>LATE_AIRCRAFT_DELAY</th>\n",
       "      <th>Org_Airport</th>\n",
       "      <th>Org_latitude</th>\n",
       "      <th>Org_longitude</th>\n",
       "      <th>Origin_city</th>\n",
       "      <th>Dest_Airport</th>\n",
       "      <th>Dest_latitude</th>\n",
       "      <th>Dest_longitude</th>\n",
       "      <th>Dest_city</th>\n",
       "      <th>month</th>\n",
       "      <th>Day</th>\n",
       "      <th>MONTH_abbr</th>\n",
       "      <th>DELAY_STATUS</th>\n",
       "      <th>WEEKDAY</th>\n",
       "    </tr>\n",
       "  </thead>\n",
       "  <tbody>\n",
       "    <tr>\n",
       "      <th>0</th>\n",
       "      <td>2018-01-01</td>\n",
       "      <td>United Airlines</td>\n",
       "      <td>1517</td>\n",
       "      <td>-5.0</td>\n",
       "      <td>15.0</td>\n",
       "      <td>1527.0</td>\n",
       "      <td>1712.0</td>\n",
       "      <td>10.0</td>\n",
       "      <td>1745</td>\n",
       "      <td>-23.0</td>\n",
       "      <td>268.0</td>\n",
       "      <td>250.0</td>\n",
       "      <td>225.0</td>\n",
       "      <td>1605.0</td>\n",
       "      <td>0.0</td>\n",
       "      <td>0.0</td>\n",
       "      <td>0.0</td>\n",
       "      <td>0.0</td>\n",
       "      <td>0.0</td>\n",
       "      <td>Newark Liberty International Airport</td>\n",
       "      <td>40.692501</td>\n",
       "      <td>-74.168701</td>\n",
       "      <td>New York</td>\n",
       "      <td>Denver International Airport</td>\n",
       "      <td>39.861698</td>\n",
       "      <td>-104.672996</td>\n",
       "      <td>Denver</td>\n",
       "      <td>1.0</td>\n",
       "      <td>1.0</td>\n",
       "      <td>Jan</td>\n",
       "      <td>0.0</td>\n",
       "      <td>0</td>\n",
       "    </tr>\n",
       "    <tr>\n",
       "      <th>1</th>\n",
       "      <td>2018-01-01</td>\n",
       "      <td>United Airlines</td>\n",
       "      <td>1657</td>\n",
       "      <td>161.0</td>\n",
       "      <td>14.0</td>\n",
       "      <td>1952.0</td>\n",
       "      <td>2130.0</td>\n",
       "      <td>7.0</td>\n",
       "      <td>1925</td>\n",
       "      <td>132.0</td>\n",
       "      <td>268.0</td>\n",
       "      <td>239.0</td>\n",
       "      <td>218.0</td>\n",
       "      <td>1605.0</td>\n",
       "      <td>16.0</td>\n",
       "      <td>0.0</td>\n",
       "      <td>0.0</td>\n",
       "      <td>0.0</td>\n",
       "      <td>116.0</td>\n",
       "      <td>Newark Liberty International Airport</td>\n",
       "      <td>40.692501</td>\n",
       "      <td>-74.168701</td>\n",
       "      <td>New York</td>\n",
       "      <td>Denver International Airport</td>\n",
       "      <td>39.861698</td>\n",
       "      <td>-104.672996</td>\n",
       "      <td>Denver</td>\n",
       "      <td>1.0</td>\n",
       "      <td>1.0</td>\n",
       "      <td>Jan</td>\n",
       "      <td>1.0</td>\n",
       "      <td>0</td>\n",
       "    </tr>\n",
       "  </tbody>\n",
       "</table>\n",
       "</div>\n",
       "      <button class=\"colab-df-convert\" onclick=\"convertToInteractive('df-9a09bbe8-4398-450f-a8d7-ef6f58aee94a')\"\n",
       "              title=\"Convert this dataframe to an interactive table.\"\n",
       "              style=\"display:none;\">\n",
       "        \n",
       "  <svg xmlns=\"http://www.w3.org/2000/svg\" height=\"24px\"viewBox=\"0 0 24 24\"\n",
       "       width=\"24px\">\n",
       "    <path d=\"M0 0h24v24H0V0z\" fill=\"none\"/>\n",
       "    <path d=\"M18.56 5.44l.94 2.06.94-2.06 2.06-.94-2.06-.94-.94-2.06-.94 2.06-2.06.94zm-11 1L8.5 8.5l.94-2.06 2.06-.94-2.06-.94L8.5 2.5l-.94 2.06-2.06.94zm10 10l.94 2.06.94-2.06 2.06-.94-2.06-.94-.94-2.06-.94 2.06-2.06.94z\"/><path d=\"M17.41 7.96l-1.37-1.37c-.4-.4-.92-.59-1.43-.59-.52 0-1.04.2-1.43.59L10.3 9.45l-7.72 7.72c-.78.78-.78 2.05 0 2.83L4 21.41c.39.39.9.59 1.41.59.51 0 1.02-.2 1.41-.59l7.78-7.78 2.81-2.81c.8-.78.8-2.07 0-2.86zM5.41 20L4 18.59l7.72-7.72 1.47 1.35L5.41 20z\"/>\n",
       "  </svg>\n",
       "      </button>\n",
       "      \n",
       "  <style>\n",
       "    .colab-df-container {\n",
       "      display:flex;\n",
       "      flex-wrap:wrap;\n",
       "      gap: 12px;\n",
       "    }\n",
       "\n",
       "    .colab-df-convert {\n",
       "      background-color: #E8F0FE;\n",
       "      border: none;\n",
       "      border-radius: 50%;\n",
       "      cursor: pointer;\n",
       "      display: none;\n",
       "      fill: #1967D2;\n",
       "      height: 32px;\n",
       "      padding: 0 0 0 0;\n",
       "      width: 32px;\n",
       "    }\n",
       "\n",
       "    .colab-df-convert:hover {\n",
       "      background-color: #E2EBFA;\n",
       "      box-shadow: 0px 1px 2px rgba(60, 64, 67, 0.3), 0px 1px 3px 1px rgba(60, 64, 67, 0.15);\n",
       "      fill: #174EA6;\n",
       "    }\n",
       "\n",
       "    [theme=dark] .colab-df-convert {\n",
       "      background-color: #3B4455;\n",
       "      fill: #D2E3FC;\n",
       "    }\n",
       "\n",
       "    [theme=dark] .colab-df-convert:hover {\n",
       "      background-color: #434B5C;\n",
       "      box-shadow: 0px 1px 3px 1px rgba(0, 0, 0, 0.15);\n",
       "      filter: drop-shadow(0px 1px 2px rgba(0, 0, 0, 0.3));\n",
       "      fill: #FFFFFF;\n",
       "    }\n",
       "  </style>\n",
       "\n",
       "      <script>\n",
       "        const buttonEl =\n",
       "          document.querySelector('#df-9a09bbe8-4398-450f-a8d7-ef6f58aee94a button.colab-df-convert');\n",
       "        buttonEl.style.display =\n",
       "          google.colab.kernel.accessAllowed ? 'block' : 'none';\n",
       "\n",
       "        async function convertToInteractive(key) {\n",
       "          const element = document.querySelector('#df-9a09bbe8-4398-450f-a8d7-ef6f58aee94a');\n",
       "          const dataTable =\n",
       "            await google.colab.kernel.invokeFunction('convertToInteractive',\n",
       "                                                     [key], {});\n",
       "          if (!dataTable) return;\n",
       "\n",
       "          const docLinkHtml = 'Like what you see? Visit the ' +\n",
       "            '<a target=\"_blank\" href=https://colab.research.google.com/notebooks/data_table.ipynb>data table notebook</a>'\n",
       "            + ' to learn more about interactive tables.';\n",
       "          element.innerHTML = '';\n",
       "          dataTable['output_type'] = 'display_data';\n",
       "          await google.colab.output.renderOutput(dataTable, element);\n",
       "          const docLink = document.createElement('div');\n",
       "          docLink.innerHTML = docLinkHtml;\n",
       "          element.appendChild(docLink);\n",
       "        }\n",
       "      </script>\n",
       "    </div>\n",
       "  </div>\n",
       "  "
      ],
      "text/plain": [
       "     FL_DATE       OP_CARRIER  CRS_DEP_TIME  ...  MONTH_abbr  DELAY_STATUS  WEEKDAY\n",
       "0 2018-01-01  United Airlines          1517  ...         Jan           0.0        0\n",
       "1 2018-01-01  United Airlines          1657  ...         Jan           1.0        0\n",
       "\n",
       "[2 rows x 32 columns]"
      ]
     },
     "execution_count": 21,
     "metadata": {},
     "output_type": "execute_result"
    }
   ],
   "source": [
    "flight_df.head(2)"
   ]
  },
  {
   "cell_type": "code",
   "execution_count": 22,
   "metadata": {
    "id": "llxCzW1QTV1m"
   },
   "outputs": [],
   "source": [
    "flight_df['CRS_DEP_TIME'] = np.ceil(flight_df['CRS_DEP_TIME']/600).apply(int)\n",
    "flight_df['WHEELS_OFF'] = np.ceil(flight_df['WHEELS_OFF']/600).apply(int) \n",
    "flight_df['WHEELS_ON'] = np.ceil(flight_df['WHEELS_ON']/600).apply(int)\n",
    "flight_df['CRS_ARR_TIME'] = np.ceil(flight_df['CRS_ARR_TIME']/600).apply(int)"
   ]
  },
  {
   "cell_type": "code",
   "execution_count": 24,
   "metadata": {
    "colab": {
     "base_uri": "https://localhost:8080/"
    },
    "id": "94Spy00pTV1o",
    "outputId": "41960512-324a-40ce-8fe0-fac9f550f653"
   },
   "outputs": [
    {
     "data": {
      "text/plain": [
       "2    0.381917\n",
       "3    0.357840\n",
       "4    0.207097\n",
       "1    0.053145\n",
       "Name: CRS_DEP_TIME, dtype: float64"
      ]
     },
     "execution_count": 24,
     "metadata": {},
     "output_type": "execute_result"
    }
   ],
   "source": [
    "flight_df.CRS_DEP_TIME.value_counts(normalize=True)"
   ]
  },
  {
   "cell_type": "code",
   "execution_count": 25,
   "metadata": {
    "colab": {
     "base_uri": "https://localhost:8080/"
    },
    "id": "qGdVbbVHTV1p",
    "outputId": "656dbb06-df3a-47d6-d07c-19d03c865a1e"
   },
   "outputs": [
    {
     "data": {
      "text/plain": [
       "3    0.349401\n",
       "4    0.323945\n",
       "2    0.297947\n",
       "1    0.028708\n",
       "Name: CRS_ARR_TIME, dtype: float64"
      ]
     },
     "execution_count": 25,
     "metadata": {},
     "output_type": "execute_result"
    }
   ],
   "source": [
    "flight_df.CRS_ARR_TIME.value_counts(normalize=True)"
   ]
  },
  {
   "cell_type": "code",
   "execution_count": 26,
   "metadata": {
    "colab": {
     "base_uri": "https://localhost:8080/",
     "height": 531
    },
    "id": "rtnV-477TV1q",
    "outputId": "8d9d2e43-3aeb-480e-bd18-c2a2464ead60"
   },
   "outputs": [
    {
     "data": {
      "text/html": [
       "\n",
       "  <div id=\"df-97066d18-1aa2-4c12-a320-1bce5674ee8e\">\n",
       "    <div class=\"colab-df-container\">\n",
       "      <div>\n",
       "<style scoped>\n",
       "    .dataframe tbody tr th:only-of-type {\n",
       "        vertical-align: middle;\n",
       "    }\n",
       "\n",
       "    .dataframe tbody tr th {\n",
       "        vertical-align: top;\n",
       "    }\n",
       "\n",
       "    .dataframe thead th {\n",
       "        text-align: right;\n",
       "    }\n",
       "</style>\n",
       "<table border=\"1\" class=\"dataframe\">\n",
       "  <thead>\n",
       "    <tr style=\"text-align: right;\">\n",
       "      <th></th>\n",
       "      <th>FL_DATE</th>\n",
       "      <th>OP_CARRIER</th>\n",
       "      <th>CRS_DEP_TIME</th>\n",
       "      <th>DEP_DELAY</th>\n",
       "      <th>TAXI_OUT</th>\n",
       "      <th>WHEELS_OFF</th>\n",
       "      <th>WHEELS_ON</th>\n",
       "      <th>TAXI_IN</th>\n",
       "      <th>CRS_ARR_TIME</th>\n",
       "      <th>ARR_DELAY</th>\n",
       "      <th>CRS_ELAPSED_TIME</th>\n",
       "      <th>ACTUAL_ELAPSED_TIME</th>\n",
       "      <th>AIR_TIME</th>\n",
       "      <th>DISTANCE</th>\n",
       "      <th>CARRIER_DELAY</th>\n",
       "      <th>WEATHER_DELAY</th>\n",
       "      <th>NAS_DELAY</th>\n",
       "      <th>SECURITY_DELAY</th>\n",
       "      <th>LATE_AIRCRAFT_DELAY</th>\n",
       "      <th>Org_Airport</th>\n",
       "      <th>Org_latitude</th>\n",
       "      <th>Org_longitude</th>\n",
       "      <th>Origin_city</th>\n",
       "      <th>Dest_Airport</th>\n",
       "      <th>Dest_latitude</th>\n",
       "      <th>Dest_longitude</th>\n",
       "      <th>Dest_city</th>\n",
       "      <th>month</th>\n",
       "      <th>Day</th>\n",
       "      <th>MONTH_abbr</th>\n",
       "      <th>DELAY_STATUS</th>\n",
       "      <th>WEEKDAY</th>\n",
       "    </tr>\n",
       "  </thead>\n",
       "  <tbody>\n",
       "    <tr>\n",
       "      <th>0</th>\n",
       "      <td>2018-01-01</td>\n",
       "      <td>United Airlines</td>\n",
       "      <td>3</td>\n",
       "      <td>-5.0</td>\n",
       "      <td>15.0</td>\n",
       "      <td>3</td>\n",
       "      <td>3</td>\n",
       "      <td>10.0</td>\n",
       "      <td>3</td>\n",
       "      <td>-23.0</td>\n",
       "      <td>268.0</td>\n",
       "      <td>250.0</td>\n",
       "      <td>225.0</td>\n",
       "      <td>1605.0</td>\n",
       "      <td>0.0</td>\n",
       "      <td>0.0</td>\n",
       "      <td>0.0</td>\n",
       "      <td>0.0</td>\n",
       "      <td>0.0</td>\n",
       "      <td>Newark Liberty International Airport</td>\n",
       "      <td>40.692501</td>\n",
       "      <td>-74.168701</td>\n",
       "      <td>New York</td>\n",
       "      <td>Denver International Airport</td>\n",
       "      <td>39.861698</td>\n",
       "      <td>-104.672996</td>\n",
       "      <td>Denver</td>\n",
       "      <td>1.0</td>\n",
       "      <td>1.0</td>\n",
       "      <td>Jan</td>\n",
       "      <td>0.0</td>\n",
       "      <td>0</td>\n",
       "    </tr>\n",
       "    <tr>\n",
       "      <th>1</th>\n",
       "      <td>2018-01-01</td>\n",
       "      <td>United Airlines</td>\n",
       "      <td>3</td>\n",
       "      <td>161.0</td>\n",
       "      <td>14.0</td>\n",
       "      <td>4</td>\n",
       "      <td>4</td>\n",
       "      <td>7.0</td>\n",
       "      <td>4</td>\n",
       "      <td>132.0</td>\n",
       "      <td>268.0</td>\n",
       "      <td>239.0</td>\n",
       "      <td>218.0</td>\n",
       "      <td>1605.0</td>\n",
       "      <td>16.0</td>\n",
       "      <td>0.0</td>\n",
       "      <td>0.0</td>\n",
       "      <td>0.0</td>\n",
       "      <td>116.0</td>\n",
       "      <td>Newark Liberty International Airport</td>\n",
       "      <td>40.692501</td>\n",
       "      <td>-74.168701</td>\n",
       "      <td>New York</td>\n",
       "      <td>Denver International Airport</td>\n",
       "      <td>39.861698</td>\n",
       "      <td>-104.672996</td>\n",
       "      <td>Denver</td>\n",
       "      <td>1.0</td>\n",
       "      <td>1.0</td>\n",
       "      <td>Jan</td>\n",
       "      <td>1.0</td>\n",
       "      <td>0</td>\n",
       "    </tr>\n",
       "    <tr>\n",
       "      <th>2</th>\n",
       "      <td>2018-01-01</td>\n",
       "      <td>United Airlines</td>\n",
       "      <td>1</td>\n",
       "      <td>-1.0</td>\n",
       "      <td>14.0</td>\n",
       "      <td>2</td>\n",
       "      <td>2</td>\n",
       "      <td>6.0</td>\n",
       "      <td>2</td>\n",
       "      <td>-23.0</td>\n",
       "      <td>275.0</td>\n",
       "      <td>253.0</td>\n",
       "      <td>233.0</td>\n",
       "      <td>1605.0</td>\n",
       "      <td>0.0</td>\n",
       "      <td>0.0</td>\n",
       "      <td>0.0</td>\n",
       "      <td>0.0</td>\n",
       "      <td>0.0</td>\n",
       "      <td>Newark Liberty International Airport</td>\n",
       "      <td>40.692501</td>\n",
       "      <td>-74.168701</td>\n",
       "      <td>New York</td>\n",
       "      <td>Denver International Airport</td>\n",
       "      <td>39.861698</td>\n",
       "      <td>-104.672996</td>\n",
       "      <td>Denver</td>\n",
       "      <td>1.0</td>\n",
       "      <td>1.0</td>\n",
       "      <td>Jan</td>\n",
       "      <td>0.0</td>\n",
       "      <td>0</td>\n",
       "    </tr>\n",
       "    <tr>\n",
       "      <th>3</th>\n",
       "      <td>2018-01-01</td>\n",
       "      <td>United Airlines</td>\n",
       "      <td>4</td>\n",
       "      <td>11.0</td>\n",
       "      <td>26.0</td>\n",
       "      <td>4</td>\n",
       "      <td>4</td>\n",
       "      <td>12.0</td>\n",
       "      <td>4</td>\n",
       "      <td>-2.0</td>\n",
       "      <td>271.0</td>\n",
       "      <td>258.0</td>\n",
       "      <td>220.0</td>\n",
       "      <td>1605.0</td>\n",
       "      <td>0.0</td>\n",
       "      <td>0.0</td>\n",
       "      <td>0.0</td>\n",
       "      <td>0.0</td>\n",
       "      <td>0.0</td>\n",
       "      <td>Newark Liberty International Airport</td>\n",
       "      <td>40.692501</td>\n",
       "      <td>-74.168701</td>\n",
       "      <td>New York</td>\n",
       "      <td>Denver International Airport</td>\n",
       "      <td>39.861698</td>\n",
       "      <td>-104.672996</td>\n",
       "      <td>Denver</td>\n",
       "      <td>1.0</td>\n",
       "      <td>1.0</td>\n",
       "      <td>Jan</td>\n",
       "      <td>0.0</td>\n",
       "      <td>0</td>\n",
       "    </tr>\n",
       "    <tr>\n",
       "      <th>4</th>\n",
       "      <td>2018-01-01</td>\n",
       "      <td>United Airlines</td>\n",
       "      <td>2</td>\n",
       "      <td>-1.0</td>\n",
       "      <td>13.0</td>\n",
       "      <td>3</td>\n",
       "      <td>3</td>\n",
       "      <td>7.0</td>\n",
       "      <td>3</td>\n",
       "      <td>-18.0</td>\n",
       "      <td>268.0</td>\n",
       "      <td>251.0</td>\n",
       "      <td>231.0</td>\n",
       "      <td>1605.0</td>\n",
       "      <td>0.0</td>\n",
       "      <td>0.0</td>\n",
       "      <td>0.0</td>\n",
       "      <td>0.0</td>\n",
       "      <td>0.0</td>\n",
       "      <td>Newark Liberty International Airport</td>\n",
       "      <td>40.692501</td>\n",
       "      <td>-74.168701</td>\n",
       "      <td>New York</td>\n",
       "      <td>Denver International Airport</td>\n",
       "      <td>39.861698</td>\n",
       "      <td>-104.672996</td>\n",
       "      <td>Denver</td>\n",
       "      <td>1.0</td>\n",
       "      <td>1.0</td>\n",
       "      <td>Jan</td>\n",
       "      <td>0.0</td>\n",
       "      <td>0</td>\n",
       "    </tr>\n",
       "  </tbody>\n",
       "</table>\n",
       "</div>\n",
       "      <button class=\"colab-df-convert\" onclick=\"convertToInteractive('df-97066d18-1aa2-4c12-a320-1bce5674ee8e')\"\n",
       "              title=\"Convert this dataframe to an interactive table.\"\n",
       "              style=\"display:none;\">\n",
       "        \n",
       "  <svg xmlns=\"http://www.w3.org/2000/svg\" height=\"24px\"viewBox=\"0 0 24 24\"\n",
       "       width=\"24px\">\n",
       "    <path d=\"M0 0h24v24H0V0z\" fill=\"none\"/>\n",
       "    <path d=\"M18.56 5.44l.94 2.06.94-2.06 2.06-.94-2.06-.94-.94-2.06-.94 2.06-2.06.94zm-11 1L8.5 8.5l.94-2.06 2.06-.94-2.06-.94L8.5 2.5l-.94 2.06-2.06.94zm10 10l.94 2.06.94-2.06 2.06-.94-2.06-.94-.94-2.06-.94 2.06-2.06.94z\"/><path d=\"M17.41 7.96l-1.37-1.37c-.4-.4-.92-.59-1.43-.59-.52 0-1.04.2-1.43.59L10.3 9.45l-7.72 7.72c-.78.78-.78 2.05 0 2.83L4 21.41c.39.39.9.59 1.41.59.51 0 1.02-.2 1.41-.59l7.78-7.78 2.81-2.81c.8-.78.8-2.07 0-2.86zM5.41 20L4 18.59l7.72-7.72 1.47 1.35L5.41 20z\"/>\n",
       "  </svg>\n",
       "      </button>\n",
       "      \n",
       "  <style>\n",
       "    .colab-df-container {\n",
       "      display:flex;\n",
       "      flex-wrap:wrap;\n",
       "      gap: 12px;\n",
       "    }\n",
       "\n",
       "    .colab-df-convert {\n",
       "      background-color: #E8F0FE;\n",
       "      border: none;\n",
       "      border-radius: 50%;\n",
       "      cursor: pointer;\n",
       "      display: none;\n",
       "      fill: #1967D2;\n",
       "      height: 32px;\n",
       "      padding: 0 0 0 0;\n",
       "      width: 32px;\n",
       "    }\n",
       "\n",
       "    .colab-df-convert:hover {\n",
       "      background-color: #E2EBFA;\n",
       "      box-shadow: 0px 1px 2px rgba(60, 64, 67, 0.3), 0px 1px 3px 1px rgba(60, 64, 67, 0.15);\n",
       "      fill: #174EA6;\n",
       "    }\n",
       "\n",
       "    [theme=dark] .colab-df-convert {\n",
       "      background-color: #3B4455;\n",
       "      fill: #D2E3FC;\n",
       "    }\n",
       "\n",
       "    [theme=dark] .colab-df-convert:hover {\n",
       "      background-color: #434B5C;\n",
       "      box-shadow: 0px 1px 3px 1px rgba(0, 0, 0, 0.15);\n",
       "      filter: drop-shadow(0px 1px 2px rgba(0, 0, 0, 0.3));\n",
       "      fill: #FFFFFF;\n",
       "    }\n",
       "  </style>\n",
       "\n",
       "      <script>\n",
       "        const buttonEl =\n",
       "          document.querySelector('#df-97066d18-1aa2-4c12-a320-1bce5674ee8e button.colab-df-convert');\n",
       "        buttonEl.style.display =\n",
       "          google.colab.kernel.accessAllowed ? 'block' : 'none';\n",
       "\n",
       "        async function convertToInteractive(key) {\n",
       "          const element = document.querySelector('#df-97066d18-1aa2-4c12-a320-1bce5674ee8e');\n",
       "          const dataTable =\n",
       "            await google.colab.kernel.invokeFunction('convertToInteractive',\n",
       "                                                     [key], {});\n",
       "          if (!dataTable) return;\n",
       "\n",
       "          const docLinkHtml = 'Like what you see? Visit the ' +\n",
       "            '<a target=\"_blank\" href=https://colab.research.google.com/notebooks/data_table.ipynb>data table notebook</a>'\n",
       "            + ' to learn more about interactive tables.';\n",
       "          element.innerHTML = '';\n",
       "          dataTable['output_type'] = 'display_data';\n",
       "          await google.colab.output.renderOutput(dataTable, element);\n",
       "          const docLink = document.createElement('div');\n",
       "          docLink.innerHTML = docLinkHtml;\n",
       "          element.appendChild(docLink);\n",
       "        }\n",
       "      </script>\n",
       "    </div>\n",
       "  </div>\n",
       "  "
      ],
      "text/plain": [
       "     FL_DATE       OP_CARRIER  CRS_DEP_TIME  ...  MONTH_abbr  DELAY_STATUS  WEEKDAY\n",
       "0 2018-01-01  United Airlines             3  ...         Jan           0.0        0\n",
       "1 2018-01-01  United Airlines             3  ...         Jan           1.0        0\n",
       "2 2018-01-01  United Airlines             1  ...         Jan           0.0        0\n",
       "3 2018-01-01  United Airlines             4  ...         Jan           0.0        0\n",
       "4 2018-01-01  United Airlines             2  ...         Jan           0.0        0\n",
       "\n",
       "[5 rows x 32 columns]"
      ]
     },
     "execution_count": 26,
     "metadata": {},
     "output_type": "execute_result"
    }
   ],
   "source": [
    "flight_df.head()"
   ]
  },
  {
   "cell_type": "code",
   "execution_count": 27,
   "metadata": {
    "id": "iXkIixkMTV1r"
   },
   "outputs": [],
   "source": [
    "flight_df = flight_df.drop(['MONTH_abbr'], axis=1)\n",
    "flight_df = flight_df.drop(['Day'], axis=1)\n",
    "flight_df = flight_df.drop(['Dest_city'], axis=1)\n",
    "flight_df = flight_df.drop(['Origin_city'], axis=1)\n",
    "flight_df = flight_df.drop(['FL_DATE'], axis=1)\n",
    "flight_df = flight_df.drop(['Dest_Airport'], axis=1)\n",
    "flight_df = flight_df.drop(['Org_Airport'], axis=1)\n",
    "flight_df = flight_df.drop(['Dest_latitude'], axis=1)\n",
    "flight_df = flight_df.drop(['Dest_longitude'], axis=1)\n",
    "flight_df = flight_df.drop(['Org_latitude'], axis=1)\n",
    "flight_df = flight_df.drop(['Org_longitude'], axis=1)\n",
    "flight_df = flight_df.drop(['month'], axis=1)\n",
    "flight_df = flight_df.drop(['WEEKDAY'], axis=1)\n",
    "\n"
   ]
  },
  {
   "cell_type": "code",
   "execution_count": 28,
   "metadata": {
    "colab": {
     "base_uri": "https://localhost:8080/"
    },
    "id": "cV106EBFTV1s",
    "outputId": "dc9fb75d-4af7-4d69-aece-4ea439ee4b3e"
   },
   "outputs": [
    {
     "name": "stdout",
     "output_type": "stream",
     "text": [
      "<class 'pandas.core.frame.DataFrame'>\n",
      "Int64Index: 4513115 entries, 0 to 4513114\n",
      "Data columns (total 19 columns):\n",
      " #   Column               Dtype  \n",
      "---  ------               -----  \n",
      " 0   OP_CARRIER           object \n",
      " 1   CRS_DEP_TIME         int64  \n",
      " 2   DEP_DELAY            float64\n",
      " 3   TAXI_OUT             float64\n",
      " 4   WHEELS_OFF           int64  \n",
      " 5   WHEELS_ON            int64  \n",
      " 6   TAXI_IN              float64\n",
      " 7   CRS_ARR_TIME         int64  \n",
      " 8   ARR_DELAY            float64\n",
      " 9   CRS_ELAPSED_TIME     float64\n",
      " 10  ACTUAL_ELAPSED_TIME  float64\n",
      " 11  AIR_TIME             float64\n",
      " 12  DISTANCE             float64\n",
      " 13  CARRIER_DELAY        float64\n",
      " 14  WEATHER_DELAY        float64\n",
      " 15  NAS_DELAY            float64\n",
      " 16  SECURITY_DELAY       float64\n",
      " 17  LATE_AIRCRAFT_DELAY  float64\n",
      " 18  DELAY_STATUS         float64\n",
      "dtypes: float64(14), int64(4), object(1)\n",
      "memory usage: 688.6+ MB\n"
     ]
    }
   ],
   "source": [
    "flight_df.info()"
   ]
  },
  {
   "cell_type": "code",
   "execution_count": 29,
   "metadata": {
    "id": "tMZ7Uv848XYx"
   },
   "outputs": [],
   "source": [
    "from sklearn.preprocessing import LabelEncoder\n",
    "\n",
    "le = LabelEncoder()\n",
    "# Label encoding features to change categorical variables into numerical one\n",
    "flight_df['OP_CARRIER'] = le.fit_transform(flight_df['OP_CARRIER'])\n"
   ]
  },
  {
   "cell_type": "code",
   "execution_count": 30,
   "metadata": {
    "colab": {
     "base_uri": "https://localhost:8080/",
     "height": 176
    },
    "id": "eb4-jB791Azf",
    "outputId": "db797cea-13c1-4ea3-82cd-93c30c49d232"
   },
   "outputs": [
    {
     "data": {
      "text/html": [
       "\n",
       "  <div id=\"df-66bcf361-22bd-4883-8a8a-787479a68843\">\n",
       "    <div class=\"colab-df-container\">\n",
       "      <div>\n",
       "<style scoped>\n",
       "    .dataframe tbody tr th:only-of-type {\n",
       "        vertical-align: middle;\n",
       "    }\n",
       "\n",
       "    .dataframe tbody tr th {\n",
       "        vertical-align: top;\n",
       "    }\n",
       "\n",
       "    .dataframe thead th {\n",
       "        text-align: right;\n",
       "    }\n",
       "</style>\n",
       "<table border=\"1\" class=\"dataframe\">\n",
       "  <thead>\n",
       "    <tr style=\"text-align: right;\">\n",
       "      <th></th>\n",
       "      <th>OP_CARRIER</th>\n",
       "      <th>CRS_DEP_TIME</th>\n",
       "      <th>DEP_DELAY</th>\n",
       "      <th>TAXI_OUT</th>\n",
       "      <th>WHEELS_OFF</th>\n",
       "      <th>WHEELS_ON</th>\n",
       "      <th>TAXI_IN</th>\n",
       "      <th>CRS_ARR_TIME</th>\n",
       "      <th>ARR_DELAY</th>\n",
       "      <th>CRS_ELAPSED_TIME</th>\n",
       "      <th>ACTUAL_ELAPSED_TIME</th>\n",
       "      <th>AIR_TIME</th>\n",
       "      <th>DISTANCE</th>\n",
       "      <th>CARRIER_DELAY</th>\n",
       "      <th>WEATHER_DELAY</th>\n",
       "      <th>NAS_DELAY</th>\n",
       "      <th>SECURITY_DELAY</th>\n",
       "      <th>LATE_AIRCRAFT_DELAY</th>\n",
       "      <th>DELAY_STATUS</th>\n",
       "    </tr>\n",
       "  </thead>\n",
       "  <tbody>\n",
       "    <tr>\n",
       "      <th>0</th>\n",
       "      <td>16</td>\n",
       "      <td>3</td>\n",
       "      <td>-5.0</td>\n",
       "      <td>15.0</td>\n",
       "      <td>3</td>\n",
       "      <td>3</td>\n",
       "      <td>10.0</td>\n",
       "      <td>3</td>\n",
       "      <td>-23.0</td>\n",
       "      <td>268.0</td>\n",
       "      <td>250.0</td>\n",
       "      <td>225.0</td>\n",
       "      <td>1605.0</td>\n",
       "      <td>0.0</td>\n",
       "      <td>0.0</td>\n",
       "      <td>0.0</td>\n",
       "      <td>0.0</td>\n",
       "      <td>0.0</td>\n",
       "      <td>0.0</td>\n",
       "    </tr>\n",
       "    <tr>\n",
       "      <th>1</th>\n",
       "      <td>16</td>\n",
       "      <td>3</td>\n",
       "      <td>161.0</td>\n",
       "      <td>14.0</td>\n",
       "      <td>4</td>\n",
       "      <td>4</td>\n",
       "      <td>7.0</td>\n",
       "      <td>4</td>\n",
       "      <td>132.0</td>\n",
       "      <td>268.0</td>\n",
       "      <td>239.0</td>\n",
       "      <td>218.0</td>\n",
       "      <td>1605.0</td>\n",
       "      <td>16.0</td>\n",
       "      <td>0.0</td>\n",
       "      <td>0.0</td>\n",
       "      <td>0.0</td>\n",
       "      <td>116.0</td>\n",
       "      <td>1.0</td>\n",
       "    </tr>\n",
       "  </tbody>\n",
       "</table>\n",
       "</div>\n",
       "      <button class=\"colab-df-convert\" onclick=\"convertToInteractive('df-66bcf361-22bd-4883-8a8a-787479a68843')\"\n",
       "              title=\"Convert this dataframe to an interactive table.\"\n",
       "              style=\"display:none;\">\n",
       "        \n",
       "  <svg xmlns=\"http://www.w3.org/2000/svg\" height=\"24px\"viewBox=\"0 0 24 24\"\n",
       "       width=\"24px\">\n",
       "    <path d=\"M0 0h24v24H0V0z\" fill=\"none\"/>\n",
       "    <path d=\"M18.56 5.44l.94 2.06.94-2.06 2.06-.94-2.06-.94-.94-2.06-.94 2.06-2.06.94zm-11 1L8.5 8.5l.94-2.06 2.06-.94-2.06-.94L8.5 2.5l-.94 2.06-2.06.94zm10 10l.94 2.06.94-2.06 2.06-.94-2.06-.94-.94-2.06-.94 2.06-2.06.94z\"/><path d=\"M17.41 7.96l-1.37-1.37c-.4-.4-.92-.59-1.43-.59-.52 0-1.04.2-1.43.59L10.3 9.45l-7.72 7.72c-.78.78-.78 2.05 0 2.83L4 21.41c.39.39.9.59 1.41.59.51 0 1.02-.2 1.41-.59l7.78-7.78 2.81-2.81c.8-.78.8-2.07 0-2.86zM5.41 20L4 18.59l7.72-7.72 1.47 1.35L5.41 20z\"/>\n",
       "  </svg>\n",
       "      </button>\n",
       "      \n",
       "  <style>\n",
       "    .colab-df-container {\n",
       "      display:flex;\n",
       "      flex-wrap:wrap;\n",
       "      gap: 12px;\n",
       "    }\n",
       "\n",
       "    .colab-df-convert {\n",
       "      background-color: #E8F0FE;\n",
       "      border: none;\n",
       "      border-radius: 50%;\n",
       "      cursor: pointer;\n",
       "      display: none;\n",
       "      fill: #1967D2;\n",
       "      height: 32px;\n",
       "      padding: 0 0 0 0;\n",
       "      width: 32px;\n",
       "    }\n",
       "\n",
       "    .colab-df-convert:hover {\n",
       "      background-color: #E2EBFA;\n",
       "      box-shadow: 0px 1px 2px rgba(60, 64, 67, 0.3), 0px 1px 3px 1px rgba(60, 64, 67, 0.15);\n",
       "      fill: #174EA6;\n",
       "    }\n",
       "\n",
       "    [theme=dark] .colab-df-convert {\n",
       "      background-color: #3B4455;\n",
       "      fill: #D2E3FC;\n",
       "    }\n",
       "\n",
       "    [theme=dark] .colab-df-convert:hover {\n",
       "      background-color: #434B5C;\n",
       "      box-shadow: 0px 1px 3px 1px rgba(0, 0, 0, 0.15);\n",
       "      filter: drop-shadow(0px 1px 2px rgba(0, 0, 0, 0.3));\n",
       "      fill: #FFFFFF;\n",
       "    }\n",
       "  </style>\n",
       "\n",
       "      <script>\n",
       "        const buttonEl =\n",
       "          document.querySelector('#df-66bcf361-22bd-4883-8a8a-787479a68843 button.colab-df-convert');\n",
       "        buttonEl.style.display =\n",
       "          google.colab.kernel.accessAllowed ? 'block' : 'none';\n",
       "\n",
       "        async function convertToInteractive(key) {\n",
       "          const element = document.querySelector('#df-66bcf361-22bd-4883-8a8a-787479a68843');\n",
       "          const dataTable =\n",
       "            await google.colab.kernel.invokeFunction('convertToInteractive',\n",
       "                                                     [key], {});\n",
       "          if (!dataTable) return;\n",
       "\n",
       "          const docLinkHtml = 'Like what you see? Visit the ' +\n",
       "            '<a target=\"_blank\" href=https://colab.research.google.com/notebooks/data_table.ipynb>data table notebook</a>'\n",
       "            + ' to learn more about interactive tables.';\n",
       "          element.innerHTML = '';\n",
       "          dataTable['output_type'] = 'display_data';\n",
       "          await google.colab.output.renderOutput(dataTable, element);\n",
       "          const docLink = document.createElement('div');\n",
       "          docLink.innerHTML = docLinkHtml;\n",
       "          element.appendChild(docLink);\n",
       "        }\n",
       "      </script>\n",
       "    </div>\n",
       "  </div>\n",
       "  "
      ],
      "text/plain": [
       "   OP_CARRIER  CRS_DEP_TIME  ...  LATE_AIRCRAFT_DELAY  DELAY_STATUS\n",
       "0          16             3  ...                  0.0           0.0\n",
       "1          16             3  ...                116.0           1.0\n",
       "\n",
       "[2 rows x 19 columns]"
      ]
     },
     "execution_count": 30,
     "metadata": {},
     "output_type": "execute_result"
    }
   ],
   "source": [
    "flight_df.head(2)\n",
    "\n"
   ]
  },
  {
   "cell_type": "code",
   "execution_count": 31,
   "metadata": {
    "id": "xERVRd6I4yet"
   },
   "outputs": [],
   "source": [
    "flight_df['DELAY_STATUS'] = flight_df['DELAY_STATUS'].astype(int)"
   ]
  },
  {
   "cell_type": "code",
   "execution_count": 32,
   "metadata": {
    "colab": {
     "base_uri": "https://localhost:8080/"
    },
    "id": "mVGUhlFi8dkd",
    "outputId": "b56b6268-2198-4bd3-9c9b-60e5611d528a"
   },
   "outputs": [
    {
     "data": {
      "text/plain": [
       "(4513115, 16)"
      ]
     },
     "execution_count": 32,
     "metadata": {},
     "output_type": "execute_result"
    }
   ],
   "source": [
    "X = flight_df.drop(['DELAY_STATUS','ARR_DELAY','DEP_DELAY'], axis = 1)\n",
    "X.shape"
   ]
  },
  {
   "cell_type": "code",
   "execution_count": 33,
   "metadata": {
    "colab": {
     "base_uri": "https://localhost:8080/"
    },
    "id": "IuSWOdP08dnl",
    "outputId": "9ddda515-c855-48e7-d0dd-997458f8b2c7"
   },
   "outputs": [
    {
     "data": {
      "text/plain": [
       "0     0\n",
       "1     1\n",
       "2     0\n",
       "3     0\n",
       "4     0\n",
       "5     0\n",
       "6     0\n",
       "7     0\n",
       "8     0\n",
       "9     1\n",
       "10    1\n",
       "11    0\n",
       "12    0\n",
       "13    0\n",
       "14    0\n",
       "15    0\n",
       "16    0\n",
       "17    0\n",
       "18    1\n",
       "19    0\n",
       "Name: DELAY_STATUS, dtype: int64"
      ]
     },
     "execution_count": 33,
     "metadata": {},
     "output_type": "execute_result"
    }
   ],
   "source": [
    "y = flight_df['DELAY_STATUS']\n",
    "y.head(20)"
   ]
  },
  {
   "cell_type": "code",
   "execution_count": 34,
   "metadata": {
    "id": "XAie6xS-2heN"
   },
   "outputs": [],
   "source": [
    "import datetime, warnings, scipy \n",
    "import pandas as pd\n",
    "import numpy as np\n",
    "import seaborn as sns\n",
    "import matplotlib.pyplot as plt\n",
    "import warnings\n",
    "warnings.filterwarnings('ignore')\n",
    "from sklearn.tree import DecisionTreeClassifier\n",
    "from imblearn.metrics import classification_report_imbalanced\n",
    "from sklearn.model_selection import train_test_split\n",
    "from sklearn.metrics import accuracy_score, confusion_matrix, classification_report, plot_confusion_matrix\n",
    "from sklearn.ensemble import BaggingClassifier, RandomForestClassifier\n",
    "from pathlib import Path\n",
    "from sklearn.linear_model import LinearRegression\n",
    "from sklearn.linear_model import LogisticRegression\n",
    "from imblearn.metrics import classification_report_imbalanced\n",
    "from imblearn.ensemble import BalancedRandomForestClassifier, EasyEnsembleClassifier\n",
    "from sklearn.metrics import balanced_accuracy_score\n",
    "from imblearn.ensemble import EasyEnsembleClassifier\n",
    "\n",
    "\n",
    "# Perform the split\n",
    "X_train,X_test,y_train,y_test = train_test_split(X,y,test_size=0.3,random_state = 2)"
   ]
  },
  {
   "cell_type": "markdown",
   "metadata": {
    "id": "v_KZIbiK3DuS"
   },
   "source": [
    "**Decision Tree Classifier**\n",
    "\n"
   ]
  },
  {
   "cell_type": "code",
   "execution_count": 35,
   "metadata": {
    "colab": {
     "base_uri": "https://localhost:8080/"
    },
    "id": "ZAAs0nvt8dzY",
    "outputId": "d83c2e8c-c94c-4a15-a195-d28de8d37cce"
   },
   "outputs": [
    {
     "name": "stdout",
     "output_type": "stream",
     "text": [
      "Testing Accuracy for Decision Tree Classifier: 0.7977465683359984\n"
     ]
    }
   ],
   "source": [
    "# Build a regular tree as baseline\n",
    "tree_clf = DecisionTreeClassifier(criterion='gini', max_depth= 5, class_weight=\"balanced\")\n",
    "tree_clf.fit(X_train, y_train)\n",
    "\n",
    "\n",
    "\n",
    "\n",
    "# Test set predictions\n",
    "pred = tree_clf.predict(X_test)\n",
    "\n",
    "\n",
    "\n",
    "print('Testing Accuracy for Decision Tree Classifier:', accuracy_score(y_test, pred))\n",
    "\n",
    "\n",
    "\n"
   ]
  },
  {
   "cell_type": "code",
   "execution_count": 36,
   "metadata": {
    "colab": {
     "base_uri": "https://localhost:8080/"
    },
    "id": "S6kIyYv_3lIz",
    "outputId": "ab4a14c2-3039-4bef-b453-7430c6857177"
   },
   "outputs": [
    {
     "name": "stdout",
     "output_type": "stream",
     "text": [
      "Classificiation Report\n",
      "---------------------\n",
      "              precision    recall  f1-score   support\n",
      "\n",
      "           0       0.82      0.87      0.84    849354\n",
      "           1       0.76      0.68      0.71    504581\n",
      "\n",
      "    accuracy                           0.80   1353935\n",
      "   macro avg       0.79      0.77      0.78   1353935\n",
      "weighted avg       0.80      0.80      0.80   1353935\n",
      "\n"
     ]
    }
   ],
   "source": [
    "print('Classificiation Report')\n",
    "print('---------------------')\n",
    "print(classification_report(y_test, pred))"
   ]
  },
  {
   "cell_type": "code",
   "execution_count": 39,
   "metadata": {
    "colab": {
     "base_uri": "https://localhost:8080/",
     "height": 290
    },
    "id": "VEKwzN_gI81Z",
    "outputId": "a8e9aa89-4d06-48a0-aad0-8157cc8bef76"
   },
   "outputs": [
    {
     "data": {
      "image/png": "[encoded data removed]",
      "text/plain": [
       "<Figure size 432x288 with 2 Axes>"
      ]
     },
     "metadata": {
      "needs_background": "light"
     },
     "output_type": "display_data"
    }
   ],
   "source": [
    "# Alternative confusion matrix\n",
    "plot_confusion_matrix(tree_clf, X, y , values_format='.3g')\n",
    "plt.show()"
   ]
  },
  {
   "cell_type": "code",
   "execution_count": 40,
   "metadata": {
    "id": "gBvtGPRqLkcY"
   },
   "outputs": [],
   "source": [
    "def plot_feature_importances(model):\n",
    "    n_features = X_train.shape[1]\n",
    "    plt.figure(figsize=(10, 20))\n",
    "    plt.barh(range(n_features), model.feature_importances_, color='k', align='center')\n",
    "    plt.yticks(np.arange(n_features), X_train.columns.values)\n",
    "    plt.xlabel('Feature importance')\n",
    "    plt.ylabel('Features')\n",
    "    plt.rcParams[\"figure.facecolor\"] = \"lightblue\"\n",
    "    plt.grid(True)\n",
    "\n",
    "\n",
    "\n"
   ]
  },
  {
   "cell_type": "code",
   "execution_count": 41,
   "metadata": {
    "colab": {
     "base_uri": "https://localhost:8080/",
     "height": 1000
    },
    "id": "GAHVl_GHMY37",
    "outputId": "fedf0727-5d7b-4df3-8d6b-2309801327c8"
   },
   "outputs": [
    {
     "data": {
      "image/png": "[encoded data removed]",
      "text/plain": [
       "<Figure size 720x1440 with 1 Axes>"
      ]
     },
     "metadata": {
      "needs_background": "light"
     },
     "output_type": "display_data"
    }
   ],
   "source": [
    "plot_feature_importances(tree_clf)\n",
    "plt.rcParams[\"figure.facecolor\"] = \"lightblue\""
   ]
  },
  {
   "cell_type": "markdown",
   "metadata": {
    "id": "8jxuuyVK3X8Q"
   },
   "source": [
    "**Bagging Classifier**"
   ]
  },
  {
   "cell_type": "code",
   "execution_count": 45,
   "metadata": {
    "colab": {
     "base_uri": "https://localhost:8080/"
    },
    "id": "aI_kvcKx3yMu",
    "outputId": "db4dcba0-a1b1-4b32-ffa8-4639eff3972f"
   },
   "outputs": [
    {
     "name": "stdout",
     "output_type": "stream",
     "text": [
      "Testing Accuracy for Bagging Classifire : 0.8203983204511295\n"
     ]
    }
   ],
   "source": [
    "# instantiating the BaggingClassifire\n",
    "bagged_tree =  BaggingClassifier(DecisionTreeClassifier(criterion='gini', max_depth=5), \n",
    "                                 n_estimators=20)\n",
    "\n",
    "\n",
    "# Now to fitting the training data:\n",
    "bagged_tree.fit(X_train, y_train)\n",
    "\n",
    "\n",
    "\n",
    "bagged_tree.score(X_train, y_train)\n",
    "bagged_tree.score(X_test, y_test)\n",
    "# Test set predictions\n",
    "pred = bagged_tree.predict(X_test)\n",
    "print('Testing Accuracy for Bagging Classifire :', accuracy_score(y_test, pred))\n"
   ]
  },
  {
   "cell_type": "code",
   "execution_count": 46,
   "metadata": {
    "colab": {
     "base_uri": "https://localhost:8080/"
    },
    "id": "hOQYOW9WSaTB",
    "outputId": "3460db9d-ffb9-4c95-f410-04975f7c24c5"
   },
   "outputs": [
    {
     "name": "stdout",
     "output_type": "stream",
     "text": [
      "Classificiation Report\n",
      "---------------------\n",
      "              precision    recall  f1-score   support\n",
      "\n",
      "           0       0.79      0.98      0.87    849354\n",
      "           1       0.93      0.56      0.70    504581\n",
      "\n",
      "    accuracy                           0.82   1353935\n",
      "   macro avg       0.86      0.77      0.79   1353935\n",
      "weighted avg       0.84      0.82      0.81   1353935\n",
      "\n"
     ]
    }
   ],
   "source": [
    "print('Classificiation Report')\n",
    "print('---------------------')\n",
    "print(classification_report(y_test, pred))"
   ]
  },
  {
   "cell_type": "code",
   "execution_count": 47,
   "metadata": {
    "colab": {
     "base_uri": "https://localhost:8080/",
     "height": 290
    },
    "id": "BOz3jATXUmK1",
    "outputId": "44622991-283e-4fca-bca5-0318b1a0cc84"
   },
   "outputs": [
    {
     "data": {
      "image/png": "[encoded data removed]",
      "text/plain": [
       "<Figure size 432x288 with 2 Axes>"
      ]
     },
     "metadata": {},
     "output_type": "display_data"
    }
   ],
   "source": [
    "# Alternative confusion matrix\n",
    "plot_confusion_matrix(bagged_tree, X, y, values_format='.3g')\n",
    "plt.show()"
   ]
  }
 ],
 "metadata": {
  "colab": {
   "collapsed_sections": [],
   "name": "Model_1.ipynb",
   "provenance": []
  },
  "kernelspec": {
   "display_name": "PythonData",
   "language": "python",
   "name": "pythondata"
  },
  "language_info": {
   "codemirror_mode": {
    "name": "ipython",
    "version": 3
   },
   "file_extension": ".py",
   "mimetype": "text/x-python",
   "name": "python",
   "nbconvert_exporter": "python",
   "pygments_lexer": "ipython3",
   "version": "3.7.10"
  }
 },
 "nbformat": 4,
 "nbformat_minor": 1
}
