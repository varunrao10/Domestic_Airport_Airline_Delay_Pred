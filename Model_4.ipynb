{
  "cells": [
    {
      "cell_type": "code",
      "execution_count": 4,
      "metadata": {
        "id": "Gtt063w97Asa"
      },
      "outputs": [],
      "source": [
        "import pandas as pd\n",
        "import numpy as np"
      ]
    },
    {
      "cell_type": "code",
      "execution_count": 5,
      "metadata": {
        "colab": {
          "base_uri": "https://localhost:8080/"
        },
        "id": "8dD0b8Nt7Jbc",
        "outputId": "51e7aaca-9dbe-4101-ebd0-14187db9c2f3"
      },
      "outputs": [
        {
          "output_type": "stream",
          "name": "stderr",
          "text": [
            "/usr/local/lib/python3.7/dist-packages/IPython/core/interactiveshell.py:2882: FutureWarning: The error_bad_lines argument has been deprecated and will be removed in a future version.\n",
            "\n",
            "\n",
            "  exec(code_obj, self.user_global_ns, self.user_ns)\n"
          ]
        }
      ],
      "source": [
        "# Data Loading\n",
        "file_path = '2018_clean_final.csv'\n",
        "flight_df = pd.read_csv(file_path, error_bad_lines=False)"
      ]
    },
    {
      "cell_type": "code",
      "execution_count": 6,
      "metadata": {
        "colab": {
          "base_uri": "https://localhost:8080/"
        },
        "id": "4xIOcXbB7cS2",
        "outputId": "37a06545-a646-49cf-ce71-ecd52e1dadc8"
      },
      "outputs": [
        {
          "output_type": "stream",
          "name": "stdout",
          "text": [
            "<class 'pandas.core.frame.DataFrame'>\n",
            "RangeIndex: 721643 entries, 0 to 721642\n",
            "Data columns (total 31 columns):\n",
            " #   Column               Non-Null Count   Dtype  \n",
            "---  ------               --------------   -----  \n",
            " 0   FL_DATE              721643 non-null  object \n",
            " 1   OP_CARRIER           721643 non-null  object \n",
            " 2   CRS_DEP_TIME         721643 non-null  int64  \n",
            " 3   DEP_DELAY            721643 non-null  float64\n",
            " 4   TAXI_OUT             721643 non-null  float64\n",
            " 5   WHEELS_OFF           721643 non-null  float64\n",
            " 6   WHEELS_ON            721643 non-null  float64\n",
            " 7   TAXI_IN              721643 non-null  float64\n",
            " 8   CRS_ARR_TIME         721643 non-null  int64  \n",
            " 9   ARR_DELAY            721643 non-null  float64\n",
            " 10  CRS_ELAPSED_TIME     721643 non-null  float64\n",
            " 11  ACTUAL_ELAPSED_TIME  721643 non-null  float64\n",
            " 12  AIR_TIME             721643 non-null  float64\n",
            " 13  DISTANCE             721643 non-null  float64\n",
            " 14  CARRIER_DELAY        721643 non-null  float64\n",
            " 15  WEATHER_DELAY        721643 non-null  float64\n",
            " 16  NAS_DELAY            721643 non-null  float64\n",
            " 17  SECURITY_DELAY       721643 non-null  float64\n",
            " 18  LATE_AIRCRAFT_DELAY  721643 non-null  float64\n",
            " 19  Org_Airport          721643 non-null  object \n",
            " 20  Org_latitude         721642 non-null  float64\n",
            " 21  Org_longitude        721642 non-null  float64\n",
            " 22  Origin_city          721642 non-null  object \n",
            " 23  Dest_Airport         721642 non-null  object \n",
            " 24  Dest_latitude        721642 non-null  float64\n",
            " 25  Dest_longitude       721642 non-null  float64\n",
            " 26  Dest_city            721642 non-null  object \n",
            " 27  month                721642 non-null  float64\n",
            " 28  Day                  721642 non-null  float64\n",
            " 29  MONTH_abbr           721642 non-null  object \n",
            " 30  DELAY_STATUS         721642 non-null  float64\n",
            "dtypes: float64(22), int64(2), object(7)\n",
            "memory usage: 170.7+ MB\n"
          ]
        }
      ],
      "source": [
        "flight_df.info()"
      ]
    },
    {
      "cell_type": "code",
      "execution_count": 7,
      "metadata": {
        "colab": {
          "base_uri": "https://localhost:8080/"
        },
        "id": "ceOO8Xf7-eUd",
        "outputId": "39328546-6c1b-4895-c74c-882b2fe08042"
      },
      "outputs": [
        {
          "output_type": "execute_result",
          "data": {
            "text/plain": [
              "(721643, 31)"
            ]
          },
          "metadata": {},
          "execution_count": 7
        }
      ],
      "source": [
        "flight_df.shape"
      ]
    },
    {
      "cell_type": "code",
      "execution_count": 8,
      "metadata": {
        "id": "t2JxHApJ5ksG"
      },
      "outputs": [],
      "source": [
        "flight_df = flight_df.dropna()"
      ]
    },
    {
      "cell_type": "code",
      "execution_count": 9,
      "metadata": {
        "colab": {
          "base_uri": "https://localhost:8080/"
        },
        "id": "qJXlVLzi-w-O",
        "outputId": "40cba4be-74dd-4ecf-a186-9b4ca4a8813b"
      },
      "outputs": [
        {
          "output_type": "execute_result",
          "data": {
            "text/plain": [
              "FL_DATE                0\n",
              "OP_CARRIER             0\n",
              "CRS_DEP_TIME           0\n",
              "DEP_DELAY              0\n",
              "TAXI_OUT               0\n",
              "WHEELS_OFF             0\n",
              "WHEELS_ON              0\n",
              "TAXI_IN                0\n",
              "CRS_ARR_TIME           0\n",
              "ARR_DELAY              0\n",
              "CRS_ELAPSED_TIME       0\n",
              "ACTUAL_ELAPSED_TIME    0\n",
              "AIR_TIME               0\n",
              "DISTANCE               0\n",
              "CARRIER_DELAY          0\n",
              "WEATHER_DELAY          0\n",
              "NAS_DELAY              0\n",
              "SECURITY_DELAY         0\n",
              "LATE_AIRCRAFT_DELAY    0\n",
              "Org_Airport            0\n",
              "Org_latitude           0\n",
              "Org_longitude          0\n",
              "Origin_city            0\n",
              "Dest_Airport           0\n",
              "Dest_latitude          0\n",
              "Dest_longitude         0\n",
              "Dest_city              0\n",
              "month                  0\n",
              "Day                    0\n",
              "MONTH_abbr             0\n",
              "DELAY_STATUS           0\n",
              "dtype: int64"
            ]
          },
          "metadata": {},
          "execution_count": 9
        }
      ],
      "source": [
        "flight_df.isnull().sum()\n"
      ]
    },
    {
      "cell_type": "code",
      "execution_count": 10,
      "metadata": {
        "colab": {
          "base_uri": "https://localhost:8080/"
        },
        "id": "v0vT1223Auih",
        "outputId": "a8333714-a6cc-499f-e655-4f84aab16a9c"
      },
      "outputs": [
        {
          "output_type": "execute_result",
          "data": {
            "text/plain": [
              "Index(['FL_DATE', 'OP_CARRIER', 'CRS_DEP_TIME', 'DEP_DELAY', 'TAXI_OUT',\n",
              "       'WHEELS_OFF', 'WHEELS_ON', 'TAXI_IN', 'CRS_ARR_TIME', 'ARR_DELAY',\n",
              "       'CRS_ELAPSED_TIME', 'ACTUAL_ELAPSED_TIME', 'AIR_TIME', 'DISTANCE',\n",
              "       'CARRIER_DELAY', 'WEATHER_DELAY', 'NAS_DELAY', 'SECURITY_DELAY',\n",
              "       'LATE_AIRCRAFT_DELAY', 'Org_Airport', 'Org_latitude', 'Org_longitude',\n",
              "       'Origin_city', 'Dest_Airport', 'Dest_latitude', 'Dest_longitude',\n",
              "       'Dest_city', 'month', 'Day', 'MONTH_abbr', 'DELAY_STATUS', 'WEEKDAY'],\n",
              "      dtype='object')"
            ]
          },
          "metadata": {},
          "execution_count": 10
        }
      ],
      "source": [
        "flight_df['FL_DATE'] = pd.to_datetime(flight_df['FL_DATE'])\n",
        "flight_df['WEEKDAY'] = flight_df['FL_DATE'].dt.dayofweek\n",
        "flight_df.columns"
      ]
    },
    {
      "cell_type": "code",
      "execution_count": 11,
      "metadata": {
        "colab": {
          "base_uri": "https://localhost:8080/"
        },
        "id": "LtSfc56k2dO6",
        "outputId": "3ba8651f-bdb4-4296-87e3-59bcfc74a9b6"
      },
      "outputs": [
        {
          "output_type": "execute_result",
          "data": {
            "text/plain": [
              "0    108663\n",
              "4    107948\n",
              "3    107325\n",
              "2    105206\n",
              "1    104452\n",
              "6    101770\n",
              "5     86278\n",
              "Name: WEEKDAY, dtype: int64"
            ]
          },
          "metadata": {},
          "execution_count": 11
        }
      ],
      "source": [
        "flight_df.WEEKDAY.value_counts()"
      ]
    },
    {
      "cell_type": "code",
      "execution_count": 12,
      "metadata": {
        "colab": {
          "base_uri": "https://localhost:8080/",
          "height": 531
        },
        "id": "jvtSc5AC2dO8",
        "outputId": "182a2ce3-24d9-45f9-c282-eedc3066f315"
      },
      "outputs": [
        {
          "output_type": "execute_result",
          "data": {
            "text/html": [
              "\n",
              "  <div id=\"df-e1f15146-27ad-460c-8b65-93e951b280a5\">\n",
              "    <div class=\"colab-df-container\">\n",
              "      <div>\n",
              "<style scoped>\n",
              "    .dataframe tbody tr th:only-of-type {\n",
              "        vertical-align: middle;\n",
              "    }\n",
              "\n",
              "    .dataframe tbody tr th {\n",
              "        vertical-align: top;\n",
              "    }\n",
              "\n",
              "    .dataframe thead th {\n",
              "        text-align: right;\n",
              "    }\n",
              "</style>\n",
              "<table border=\"1\" class=\"dataframe\">\n",
              "  <thead>\n",
              "    <tr style=\"text-align: right;\">\n",
              "      <th></th>\n",
              "      <th>FL_DATE</th>\n",
              "      <th>OP_CARRIER</th>\n",
              "      <th>CRS_DEP_TIME</th>\n",
              "      <th>DEP_DELAY</th>\n",
              "      <th>TAXI_OUT</th>\n",
              "      <th>WHEELS_OFF</th>\n",
              "      <th>WHEELS_ON</th>\n",
              "      <th>TAXI_IN</th>\n",
              "      <th>CRS_ARR_TIME</th>\n",
              "      <th>ARR_DELAY</th>\n",
              "      <th>CRS_ELAPSED_TIME</th>\n",
              "      <th>ACTUAL_ELAPSED_TIME</th>\n",
              "      <th>AIR_TIME</th>\n",
              "      <th>DISTANCE</th>\n",
              "      <th>CARRIER_DELAY</th>\n",
              "      <th>WEATHER_DELAY</th>\n",
              "      <th>NAS_DELAY</th>\n",
              "      <th>SECURITY_DELAY</th>\n",
              "      <th>LATE_AIRCRAFT_DELAY</th>\n",
              "      <th>Org_Airport</th>\n",
              "      <th>Org_latitude</th>\n",
              "      <th>Org_longitude</th>\n",
              "      <th>Origin_city</th>\n",
              "      <th>Dest_Airport</th>\n",
              "      <th>Dest_latitude</th>\n",
              "      <th>Dest_longitude</th>\n",
              "      <th>Dest_city</th>\n",
              "      <th>month</th>\n",
              "      <th>Day</th>\n",
              "      <th>MONTH_abbr</th>\n",
              "      <th>DELAY_STATUS</th>\n",
              "      <th>WEEKDAY</th>\n",
              "    </tr>\n",
              "  </thead>\n",
              "  <tbody>\n",
              "    <tr>\n",
              "      <th>0</th>\n",
              "      <td>2018-01-01</td>\n",
              "      <td>United Airlines</td>\n",
              "      <td>1517</td>\n",
              "      <td>-5.0</td>\n",
              "      <td>15.0</td>\n",
              "      <td>1527.0</td>\n",
              "      <td>1712.0</td>\n",
              "      <td>10.0</td>\n",
              "      <td>1745</td>\n",
              "      <td>-23.0</td>\n",
              "      <td>268.0</td>\n",
              "      <td>250.0</td>\n",
              "      <td>225.0</td>\n",
              "      <td>1605.0</td>\n",
              "      <td>0.0</td>\n",
              "      <td>0.0</td>\n",
              "      <td>0.0</td>\n",
              "      <td>0.0</td>\n",
              "      <td>0.0</td>\n",
              "      <td>Newark Liberty International Airport</td>\n",
              "      <td>40.692501</td>\n",
              "      <td>-74.168701</td>\n",
              "      <td>New York</td>\n",
              "      <td>Denver International Airport</td>\n",
              "      <td>39.861698</td>\n",
              "      <td>-104.672996</td>\n",
              "      <td>Denver</td>\n",
              "      <td>1.0</td>\n",
              "      <td>1.0</td>\n",
              "      <td>Jan</td>\n",
              "      <td>0.0</td>\n",
              "      <td>0</td>\n",
              "    </tr>\n",
              "    <tr>\n",
              "      <th>1</th>\n",
              "      <td>2018-01-01</td>\n",
              "      <td>United Airlines</td>\n",
              "      <td>1657</td>\n",
              "      <td>161.0</td>\n",
              "      <td>14.0</td>\n",
              "      <td>1952.0</td>\n",
              "      <td>2130.0</td>\n",
              "      <td>7.0</td>\n",
              "      <td>1925</td>\n",
              "      <td>132.0</td>\n",
              "      <td>268.0</td>\n",
              "      <td>239.0</td>\n",
              "      <td>218.0</td>\n",
              "      <td>1605.0</td>\n",
              "      <td>16.0</td>\n",
              "      <td>0.0</td>\n",
              "      <td>0.0</td>\n",
              "      <td>0.0</td>\n",
              "      <td>116.0</td>\n",
              "      <td>Newark Liberty International Airport</td>\n",
              "      <td>40.692501</td>\n",
              "      <td>-74.168701</td>\n",
              "      <td>New York</td>\n",
              "      <td>Denver International Airport</td>\n",
              "      <td>39.861698</td>\n",
              "      <td>-104.672996</td>\n",
              "      <td>Denver</td>\n",
              "      <td>1.0</td>\n",
              "      <td>1.0</td>\n",
              "      <td>Jan</td>\n",
              "      <td>1.0</td>\n",
              "      <td>0</td>\n",
              "    </tr>\n",
              "    <tr>\n",
              "      <th>2</th>\n",
              "      <td>2018-01-01</td>\n",
              "      <td>United Airlines</td>\n",
              "      <td>600</td>\n",
              "      <td>-1.0</td>\n",
              "      <td>14.0</td>\n",
              "      <td>613.0</td>\n",
              "      <td>806.0</td>\n",
              "      <td>6.0</td>\n",
              "      <td>835</td>\n",
              "      <td>-23.0</td>\n",
              "      <td>275.0</td>\n",
              "      <td>253.0</td>\n",
              "      <td>233.0</td>\n",
              "      <td>1605.0</td>\n",
              "      <td>0.0</td>\n",
              "      <td>0.0</td>\n",
              "      <td>0.0</td>\n",
              "      <td>0.0</td>\n",
              "      <td>0.0</td>\n",
              "      <td>Newark Liberty International Airport</td>\n",
              "      <td>40.692501</td>\n",
              "      <td>-74.168701</td>\n",
              "      <td>New York</td>\n",
              "      <td>Denver International Airport</td>\n",
              "      <td>39.861698</td>\n",
              "      <td>-104.672996</td>\n",
              "      <td>Denver</td>\n",
              "      <td>1.0</td>\n",
              "      <td>1.0</td>\n",
              "      <td>Jan</td>\n",
              "      <td>0.0</td>\n",
              "      <td>0</td>\n",
              "    </tr>\n",
              "    <tr>\n",
              "      <th>3</th>\n",
              "      <td>2018-01-01</td>\n",
              "      <td>United Airlines</td>\n",
              "      <td>1855</td>\n",
              "      <td>11.0</td>\n",
              "      <td>26.0</td>\n",
              "      <td>1932.0</td>\n",
              "      <td>2112.0</td>\n",
              "      <td>12.0</td>\n",
              "      <td>2126</td>\n",
              "      <td>-2.0</td>\n",
              "      <td>271.0</td>\n",
              "      <td>258.0</td>\n",
              "      <td>220.0</td>\n",
              "      <td>1605.0</td>\n",
              "      <td>0.0</td>\n",
              "      <td>0.0</td>\n",
              "      <td>0.0</td>\n",
              "      <td>0.0</td>\n",
              "      <td>0.0</td>\n",
              "      <td>Newark Liberty International Airport</td>\n",
              "      <td>40.692501</td>\n",
              "      <td>-74.168701</td>\n",
              "      <td>New York</td>\n",
              "      <td>Denver International Airport</td>\n",
              "      <td>39.861698</td>\n",
              "      <td>-104.672996</td>\n",
              "      <td>Denver</td>\n",
              "      <td>1.0</td>\n",
              "      <td>1.0</td>\n",
              "      <td>Jan</td>\n",
              "      <td>0.0</td>\n",
              "      <td>0</td>\n",
              "    </tr>\n",
              "    <tr>\n",
              "      <th>4</th>\n",
              "      <td>2018-01-01</td>\n",
              "      <td>United Airlines</td>\n",
              "      <td>1150</td>\n",
              "      <td>-1.0</td>\n",
              "      <td>13.0</td>\n",
              "      <td>1202.0</td>\n",
              "      <td>1353.0</td>\n",
              "      <td>7.0</td>\n",
              "      <td>1418</td>\n",
              "      <td>-18.0</td>\n",
              "      <td>268.0</td>\n",
              "      <td>251.0</td>\n",
              "      <td>231.0</td>\n",
              "      <td>1605.0</td>\n",
              "      <td>0.0</td>\n",
              "      <td>0.0</td>\n",
              "      <td>0.0</td>\n",
              "      <td>0.0</td>\n",
              "      <td>0.0</td>\n",
              "      <td>Newark Liberty International Airport</td>\n",
              "      <td>40.692501</td>\n",
              "      <td>-74.168701</td>\n",
              "      <td>New York</td>\n",
              "      <td>Denver International Airport</td>\n",
              "      <td>39.861698</td>\n",
              "      <td>-104.672996</td>\n",
              "      <td>Denver</td>\n",
              "      <td>1.0</td>\n",
              "      <td>1.0</td>\n",
              "      <td>Jan</td>\n",
              "      <td>0.0</td>\n",
              "      <td>0</td>\n",
              "    </tr>\n",
              "  </tbody>\n",
              "</table>\n",
              "</div>\n",
              "      <button class=\"colab-df-convert\" onclick=\"convertToInteractive('df-e1f15146-27ad-460c-8b65-93e951b280a5')\"\n",
              "              title=\"Convert this dataframe to an interactive table.\"\n",
              "              style=\"display:none;\">\n",
              "        \n",
              "  <svg xmlns=\"http://www.w3.org/2000/svg\" height=\"24px\"viewBox=\"0 0 24 24\"\n",
              "       width=\"24px\">\n",
              "    <path d=\"M0 0h24v24H0V0z\" fill=\"none\"/>\n",
              "    <path d=\"M18.56 5.44l.94 2.06.94-2.06 2.06-.94-2.06-.94-.94-2.06-.94 2.06-2.06.94zm-11 1L8.5 8.5l.94-2.06 2.06-.94-2.06-.94L8.5 2.5l-.94 2.06-2.06.94zm10 10l.94 2.06.94-2.06 2.06-.94-2.06-.94-.94-2.06-.94 2.06-2.06.94z\"/><path d=\"M17.41 7.96l-1.37-1.37c-.4-.4-.92-.59-1.43-.59-.52 0-1.04.2-1.43.59L10.3 9.45l-7.72 7.72c-.78.78-.78 2.05 0 2.83L4 21.41c.39.39.9.59 1.41.59.51 0 1.02-.2 1.41-.59l7.78-7.78 2.81-2.81c.8-.78.8-2.07 0-2.86zM5.41 20L4 18.59l7.72-7.72 1.47 1.35L5.41 20z\"/>\n",
              "  </svg>\n",
              "      </button>\n",
              "      \n",
              "  <style>\n",
              "    .colab-df-container {\n",
              "      display:flex;\n",
              "      flex-wrap:wrap;\n",
              "      gap: 12px;\n",
              "    }\n",
              "\n",
              "    .colab-df-convert {\n",
              "      background-color: #E8F0FE;\n",
              "      border: none;\n",
              "      border-radius: 50%;\n",
              "      cursor: pointer;\n",
              "      display: none;\n",
              "      fill: #1967D2;\n",
              "      height: 32px;\n",
              "      padding: 0 0 0 0;\n",
              "      width: 32px;\n",
              "    }\n",
              "\n",
              "    .colab-df-convert:hover {\n",
              "      background-color: #E2EBFA;\n",
              "      box-shadow: 0px 1px 2px rgba(60, 64, 67, 0.3), 0px 1px 3px 1px rgba(60, 64, 67, 0.15);\n",
              "      fill: #174EA6;\n",
              "    }\n",
              "\n",
              "    [theme=dark] .colab-df-convert {\n",
              "      background-color: #3B4455;\n",
              "      fill: #D2E3FC;\n",
              "    }\n",
              "\n",
              "    [theme=dark] .colab-df-convert:hover {\n",
              "      background-color: #434B5C;\n",
              "      box-shadow: 0px 1px 3px 1px rgba(0, 0, 0, 0.15);\n",
              "      filter: drop-shadow(0px 1px 2px rgba(0, 0, 0, 0.3));\n",
              "      fill: #FFFFFF;\n",
              "    }\n",
              "  </style>\n",
              "\n",
              "      <script>\n",
              "        const buttonEl =\n",
              "          document.querySelector('#df-e1f15146-27ad-460c-8b65-93e951b280a5 button.colab-df-convert');\n",
              "        buttonEl.style.display =\n",
              "          google.colab.kernel.accessAllowed ? 'block' : 'none';\n",
              "\n",
              "        async function convertToInteractive(key) {\n",
              "          const element = document.querySelector('#df-e1f15146-27ad-460c-8b65-93e951b280a5');\n",
              "          const dataTable =\n",
              "            await google.colab.kernel.invokeFunction('convertToInteractive',\n",
              "                                                     [key], {});\n",
              "          if (!dataTable) return;\n",
              "\n",
              "          const docLinkHtml = 'Like what you see? Visit the ' +\n",
              "            '<a target=\"_blank\" href=https://colab.research.google.com/notebooks/data_table.ipynb>data table notebook</a>'\n",
              "            + ' to learn more about interactive tables.';\n",
              "          element.innerHTML = '';\n",
              "          dataTable['output_type'] = 'display_data';\n",
              "          await google.colab.output.renderOutput(dataTable, element);\n",
              "          const docLink = document.createElement('div');\n",
              "          docLink.innerHTML = docLinkHtml;\n",
              "          element.appendChild(docLink);\n",
              "        }\n",
              "      </script>\n",
              "    </div>\n",
              "  </div>\n",
              "  "
            ],
            "text/plain": [
              "     FL_DATE       OP_CARRIER  CRS_DEP_TIME  ...  MONTH_abbr  DELAY_STATUS  WEEKDAY\n",
              "0 2018-01-01  United Airlines          1517  ...         Jan           0.0        0\n",
              "1 2018-01-01  United Airlines          1657  ...         Jan           1.0        0\n",
              "2 2018-01-01  United Airlines           600  ...         Jan           0.0        0\n",
              "3 2018-01-01  United Airlines          1855  ...         Jan           0.0        0\n",
              "4 2018-01-01  United Airlines          1150  ...         Jan           0.0        0\n",
              "\n",
              "[5 rows x 32 columns]"
            ]
          },
          "metadata": {},
          "execution_count": 12
        }
      ],
      "source": [
        "flight_df.head()"
      ]
    },
    {
      "cell_type": "code",
      "execution_count": 13,
      "metadata": {
        "id": "1ewWTYvk2dO9"
      },
      "outputs": [],
      "source": [
        "flight_df['CRS_DEP_TIME'] = np.ceil(flight_df['CRS_DEP_TIME']/600).apply(int)\n",
        "flight_df['WHEELS_OFF'] = np.ceil(flight_df['WHEELS_OFF']/600).apply(int) \n",
        "flight_df['WHEELS_ON'] = np.ceil(flight_df['WHEELS_ON']/600).apply(int)\n",
        "flight_df['CRS_ARR_TIME'] = np.ceil(flight_df['CRS_ARR_TIME']/600).apply(int)"
      ]
    },
    {
      "cell_type": "code",
      "execution_count": 14,
      "metadata": {
        "colab": {
          "base_uri": "https://localhost:8080/"
        },
        "id": "-qUl5el52dO_",
        "outputId": "a979e425-e77f-4541-b840-02874353fbf6"
      },
      "outputs": [
        {
          "output_type": "execute_result",
          "data": {
            "text/plain": [
              "2    0.379627\n",
              "3    0.368219\n",
              "4    0.163754\n",
              "1    0.088400\n",
              "Name: CRS_DEP_TIME, dtype: float64"
            ]
          },
          "metadata": {},
          "execution_count": 14
        }
      ],
      "source": [
        "flight_df.CRS_DEP_TIME.value_counts(normalize=True)"
      ]
    },
    {
      "cell_type": "code",
      "execution_count": 15,
      "metadata": {
        "colab": {
          "base_uri": "https://localhost:8080/"
        },
        "id": "7tBVNMLK2dPA",
        "outputId": "024504b8-1a6f-42bb-af0f-7f4cb81dae53"
      },
      "outputs": [
        {
          "output_type": "execute_result",
          "data": {
            "text/plain": [
              "3    0.338090\n",
              "2    0.334726\n",
              "4    0.309584\n",
              "1    0.017600\n",
              "Name: CRS_ARR_TIME, dtype: float64"
            ]
          },
          "metadata": {},
          "execution_count": 15
        }
      ],
      "source": [
        "flight_df.CRS_ARR_TIME.value_counts(normalize=True)"
      ]
    },
    {
      "cell_type": "code",
      "execution_count": 16,
      "metadata": {
        "colab": {
          "base_uri": "https://localhost:8080/",
          "height": 531
        },
        "id": "sCGXc7lr2dPC",
        "outputId": "a9aae57b-0710-46d9-f2dd-39c3cdb808a9"
      },
      "outputs": [
        {
          "output_type": "execute_result",
          "data": {
            "text/html": [
              "\n",
              "  <div id=\"df-831c65d3-a3f5-4d1e-9199-8fe6e21671e0\">\n",
              "    <div class=\"colab-df-container\">\n",
              "      <div>\n",
              "<style scoped>\n",
              "    .dataframe tbody tr th:only-of-type {\n",
              "        vertical-align: middle;\n",
              "    }\n",
              "\n",
              "    .dataframe tbody tr th {\n",
              "        vertical-align: top;\n",
              "    }\n",
              "\n",
              "    .dataframe thead th {\n",
              "        text-align: right;\n",
              "    }\n",
              "</style>\n",
              "<table border=\"1\" class=\"dataframe\">\n",
              "  <thead>\n",
              "    <tr style=\"text-align: right;\">\n",
              "      <th></th>\n",
              "      <th>FL_DATE</th>\n",
              "      <th>OP_CARRIER</th>\n",
              "      <th>CRS_DEP_TIME</th>\n",
              "      <th>DEP_DELAY</th>\n",
              "      <th>TAXI_OUT</th>\n",
              "      <th>WHEELS_OFF</th>\n",
              "      <th>WHEELS_ON</th>\n",
              "      <th>TAXI_IN</th>\n",
              "      <th>CRS_ARR_TIME</th>\n",
              "      <th>ARR_DELAY</th>\n",
              "      <th>CRS_ELAPSED_TIME</th>\n",
              "      <th>ACTUAL_ELAPSED_TIME</th>\n",
              "      <th>AIR_TIME</th>\n",
              "      <th>DISTANCE</th>\n",
              "      <th>CARRIER_DELAY</th>\n",
              "      <th>WEATHER_DELAY</th>\n",
              "      <th>NAS_DELAY</th>\n",
              "      <th>SECURITY_DELAY</th>\n",
              "      <th>LATE_AIRCRAFT_DELAY</th>\n",
              "      <th>Org_Airport</th>\n",
              "      <th>Org_latitude</th>\n",
              "      <th>Org_longitude</th>\n",
              "      <th>Origin_city</th>\n",
              "      <th>Dest_Airport</th>\n",
              "      <th>Dest_latitude</th>\n",
              "      <th>Dest_longitude</th>\n",
              "      <th>Dest_city</th>\n",
              "      <th>month</th>\n",
              "      <th>Day</th>\n",
              "      <th>MONTH_abbr</th>\n",
              "      <th>DELAY_STATUS</th>\n",
              "      <th>WEEKDAY</th>\n",
              "    </tr>\n",
              "  </thead>\n",
              "  <tbody>\n",
              "    <tr>\n",
              "      <th>0</th>\n",
              "      <td>2018-01-01</td>\n",
              "      <td>United Airlines</td>\n",
              "      <td>3</td>\n",
              "      <td>-5.0</td>\n",
              "      <td>15.0</td>\n",
              "      <td>3</td>\n",
              "      <td>3</td>\n",
              "      <td>10.0</td>\n",
              "      <td>3</td>\n",
              "      <td>-23.0</td>\n",
              "      <td>268.0</td>\n",
              "      <td>250.0</td>\n",
              "      <td>225.0</td>\n",
              "      <td>1605.0</td>\n",
              "      <td>0.0</td>\n",
              "      <td>0.0</td>\n",
              "      <td>0.0</td>\n",
              "      <td>0.0</td>\n",
              "      <td>0.0</td>\n",
              "      <td>Newark Liberty International Airport</td>\n",
              "      <td>40.692501</td>\n",
              "      <td>-74.168701</td>\n",
              "      <td>New York</td>\n",
              "      <td>Denver International Airport</td>\n",
              "      <td>39.861698</td>\n",
              "      <td>-104.672996</td>\n",
              "      <td>Denver</td>\n",
              "      <td>1.0</td>\n",
              "      <td>1.0</td>\n",
              "      <td>Jan</td>\n",
              "      <td>0.0</td>\n",
              "      <td>0</td>\n",
              "    </tr>\n",
              "    <tr>\n",
              "      <th>1</th>\n",
              "      <td>2018-01-01</td>\n",
              "      <td>United Airlines</td>\n",
              "      <td>3</td>\n",
              "      <td>161.0</td>\n",
              "      <td>14.0</td>\n",
              "      <td>4</td>\n",
              "      <td>4</td>\n",
              "      <td>7.0</td>\n",
              "      <td>4</td>\n",
              "      <td>132.0</td>\n",
              "      <td>268.0</td>\n",
              "      <td>239.0</td>\n",
              "      <td>218.0</td>\n",
              "      <td>1605.0</td>\n",
              "      <td>16.0</td>\n",
              "      <td>0.0</td>\n",
              "      <td>0.0</td>\n",
              "      <td>0.0</td>\n",
              "      <td>116.0</td>\n",
              "      <td>Newark Liberty International Airport</td>\n",
              "      <td>40.692501</td>\n",
              "      <td>-74.168701</td>\n",
              "      <td>New York</td>\n",
              "      <td>Denver International Airport</td>\n",
              "      <td>39.861698</td>\n",
              "      <td>-104.672996</td>\n",
              "      <td>Denver</td>\n",
              "      <td>1.0</td>\n",
              "      <td>1.0</td>\n",
              "      <td>Jan</td>\n",
              "      <td>1.0</td>\n",
              "      <td>0</td>\n",
              "    </tr>\n",
              "    <tr>\n",
              "      <th>2</th>\n",
              "      <td>2018-01-01</td>\n",
              "      <td>United Airlines</td>\n",
              "      <td>1</td>\n",
              "      <td>-1.0</td>\n",
              "      <td>14.0</td>\n",
              "      <td>2</td>\n",
              "      <td>2</td>\n",
              "      <td>6.0</td>\n",
              "      <td>2</td>\n",
              "      <td>-23.0</td>\n",
              "      <td>275.0</td>\n",
              "      <td>253.0</td>\n",
              "      <td>233.0</td>\n",
              "      <td>1605.0</td>\n",
              "      <td>0.0</td>\n",
              "      <td>0.0</td>\n",
              "      <td>0.0</td>\n",
              "      <td>0.0</td>\n",
              "      <td>0.0</td>\n",
              "      <td>Newark Liberty International Airport</td>\n",
              "      <td>40.692501</td>\n",
              "      <td>-74.168701</td>\n",
              "      <td>New York</td>\n",
              "      <td>Denver International Airport</td>\n",
              "      <td>39.861698</td>\n",
              "      <td>-104.672996</td>\n",
              "      <td>Denver</td>\n",
              "      <td>1.0</td>\n",
              "      <td>1.0</td>\n",
              "      <td>Jan</td>\n",
              "      <td>0.0</td>\n",
              "      <td>0</td>\n",
              "    </tr>\n",
              "    <tr>\n",
              "      <th>3</th>\n",
              "      <td>2018-01-01</td>\n",
              "      <td>United Airlines</td>\n",
              "      <td>4</td>\n",
              "      <td>11.0</td>\n",
              "      <td>26.0</td>\n",
              "      <td>4</td>\n",
              "      <td>4</td>\n",
              "      <td>12.0</td>\n",
              "      <td>4</td>\n",
              "      <td>-2.0</td>\n",
              "      <td>271.0</td>\n",
              "      <td>258.0</td>\n",
              "      <td>220.0</td>\n",
              "      <td>1605.0</td>\n",
              "      <td>0.0</td>\n",
              "      <td>0.0</td>\n",
              "      <td>0.0</td>\n",
              "      <td>0.0</td>\n",
              "      <td>0.0</td>\n",
              "      <td>Newark Liberty International Airport</td>\n",
              "      <td>40.692501</td>\n",
              "      <td>-74.168701</td>\n",
              "      <td>New York</td>\n",
              "      <td>Denver International Airport</td>\n",
              "      <td>39.861698</td>\n",
              "      <td>-104.672996</td>\n",
              "      <td>Denver</td>\n",
              "      <td>1.0</td>\n",
              "      <td>1.0</td>\n",
              "      <td>Jan</td>\n",
              "      <td>0.0</td>\n",
              "      <td>0</td>\n",
              "    </tr>\n",
              "    <tr>\n",
              "      <th>4</th>\n",
              "      <td>2018-01-01</td>\n",
              "      <td>United Airlines</td>\n",
              "      <td>2</td>\n",
              "      <td>-1.0</td>\n",
              "      <td>13.0</td>\n",
              "      <td>3</td>\n",
              "      <td>3</td>\n",
              "      <td>7.0</td>\n",
              "      <td>3</td>\n",
              "      <td>-18.0</td>\n",
              "      <td>268.0</td>\n",
              "      <td>251.0</td>\n",
              "      <td>231.0</td>\n",
              "      <td>1605.0</td>\n",
              "      <td>0.0</td>\n",
              "      <td>0.0</td>\n",
              "      <td>0.0</td>\n",
              "      <td>0.0</td>\n",
              "      <td>0.0</td>\n",
              "      <td>Newark Liberty International Airport</td>\n",
              "      <td>40.692501</td>\n",
              "      <td>-74.168701</td>\n",
              "      <td>New York</td>\n",
              "      <td>Denver International Airport</td>\n",
              "      <td>39.861698</td>\n",
              "      <td>-104.672996</td>\n",
              "      <td>Denver</td>\n",
              "      <td>1.0</td>\n",
              "      <td>1.0</td>\n",
              "      <td>Jan</td>\n",
              "      <td>0.0</td>\n",
              "      <td>0</td>\n",
              "    </tr>\n",
              "  </tbody>\n",
              "</table>\n",
              "</div>\n",
              "      <button class=\"colab-df-convert\" onclick=\"convertToInteractive('df-831c65d3-a3f5-4d1e-9199-8fe6e21671e0')\"\n",
              "              title=\"Convert this dataframe to an interactive table.\"\n",
              "              style=\"display:none;\">\n",
              "        \n",
              "  <svg xmlns=\"http://www.w3.org/2000/svg\" height=\"24px\"viewBox=\"0 0 24 24\"\n",
              "       width=\"24px\">\n",
              "    <path d=\"M0 0h24v24H0V0z\" fill=\"none\"/>\n",
              "    <path d=\"M18.56 5.44l.94 2.06.94-2.06 2.06-.94-2.06-.94-.94-2.06-.94 2.06-2.06.94zm-11 1L8.5 8.5l.94-2.06 2.06-.94-2.06-.94L8.5 2.5l-.94 2.06-2.06.94zm10 10l.94 2.06.94-2.06 2.06-.94-2.06-.94-.94-2.06-.94 2.06-2.06.94z\"/><path d=\"M17.41 7.96l-1.37-1.37c-.4-.4-.92-.59-1.43-.59-.52 0-1.04.2-1.43.59L10.3 9.45l-7.72 7.72c-.78.78-.78 2.05 0 2.83L4 21.41c.39.39.9.59 1.41.59.51 0 1.02-.2 1.41-.59l7.78-7.78 2.81-2.81c.8-.78.8-2.07 0-2.86zM5.41 20L4 18.59l7.72-7.72 1.47 1.35L5.41 20z\"/>\n",
              "  </svg>\n",
              "      </button>\n",
              "      \n",
              "  <style>\n",
              "    .colab-df-container {\n",
              "      display:flex;\n",
              "      flex-wrap:wrap;\n",
              "      gap: 12px;\n",
              "    }\n",
              "\n",
              "    .colab-df-convert {\n",
              "      background-color: #E8F0FE;\n",
              "      border: none;\n",
              "      border-radius: 50%;\n",
              "      cursor: pointer;\n",
              "      display: none;\n",
              "      fill: #1967D2;\n",
              "      height: 32px;\n",
              "      padding: 0 0 0 0;\n",
              "      width: 32px;\n",
              "    }\n",
              "\n",
              "    .colab-df-convert:hover {\n",
              "      background-color: #E2EBFA;\n",
              "      box-shadow: 0px 1px 2px rgba(60, 64, 67, 0.3), 0px 1px 3px 1px rgba(60, 64, 67, 0.15);\n",
              "      fill: #174EA6;\n",
              "    }\n",
              "\n",
              "    [theme=dark] .colab-df-convert {\n",
              "      background-color: #3B4455;\n",
              "      fill: #D2E3FC;\n",
              "    }\n",
              "\n",
              "    [theme=dark] .colab-df-convert:hover {\n",
              "      background-color: #434B5C;\n",
              "      box-shadow: 0px 1px 3px 1px rgba(0, 0, 0, 0.15);\n",
              "      filter: drop-shadow(0px 1px 2px rgba(0, 0, 0, 0.3));\n",
              "      fill: #FFFFFF;\n",
              "    }\n",
              "  </style>\n",
              "\n",
              "      <script>\n",
              "        const buttonEl =\n",
              "          document.querySelector('#df-831c65d3-a3f5-4d1e-9199-8fe6e21671e0 button.colab-df-convert');\n",
              "        buttonEl.style.display =\n",
              "          google.colab.kernel.accessAllowed ? 'block' : 'none';\n",
              "\n",
              "        async function convertToInteractive(key) {\n",
              "          const element = document.querySelector('#df-831c65d3-a3f5-4d1e-9199-8fe6e21671e0');\n",
              "          const dataTable =\n",
              "            await google.colab.kernel.invokeFunction('convertToInteractive',\n",
              "                                                     [key], {});\n",
              "          if (!dataTable) return;\n",
              "\n",
              "          const docLinkHtml = 'Like what you see? Visit the ' +\n",
              "            '<a target=\"_blank\" href=https://colab.research.google.com/notebooks/data_table.ipynb>data table notebook</a>'\n",
              "            + ' to learn more about interactive tables.';\n",
              "          element.innerHTML = '';\n",
              "          dataTable['output_type'] = 'display_data';\n",
              "          await google.colab.output.renderOutput(dataTable, element);\n",
              "          const docLink = document.createElement('div');\n",
              "          docLink.innerHTML = docLinkHtml;\n",
              "          element.appendChild(docLink);\n",
              "        }\n",
              "      </script>\n",
              "    </div>\n",
              "  </div>\n",
              "  "
            ],
            "text/plain": [
              "     FL_DATE       OP_CARRIER  CRS_DEP_TIME  ...  MONTH_abbr  DELAY_STATUS  WEEKDAY\n",
              "0 2018-01-01  United Airlines             3  ...         Jan           0.0        0\n",
              "1 2018-01-01  United Airlines             3  ...         Jan           1.0        0\n",
              "2 2018-01-01  United Airlines             1  ...         Jan           0.0        0\n",
              "3 2018-01-01  United Airlines             4  ...         Jan           0.0        0\n",
              "4 2018-01-01  United Airlines             2  ...         Jan           0.0        0\n",
              "\n",
              "[5 rows x 32 columns]"
            ]
          },
          "metadata": {},
          "execution_count": 16
        }
      ],
      "source": [
        "flight_df.head()"
      ]
    },
    {
      "cell_type": "code",
      "execution_count": 17,
      "metadata": {
        "id": "4fQ6aiMh2dPD"
      },
      "outputs": [],
      "source": [
        "flight_df = flight_df.drop(['MONTH_abbr'], axis=1)\n",
        "flight_df = flight_df.drop(['Day'], axis=1)\n",
        "flight_df = flight_df.drop(['Dest_city'], axis=1)\n",
        "flight_df = flight_df.drop(['Origin_city'], axis=1)\n",
        "flight_df = flight_df.drop(['FL_DATE'], axis=1)\n",
        "flight_df = flight_df.drop(['Dest_Airport'], axis=1)\n",
        "flight_df = flight_df.drop(['Org_Airport'], axis=1)\n",
        "flight_df = flight_df.drop(['Dest_latitude'], axis=1)\n",
        "flight_df = flight_df.drop(['Dest_longitude'], axis=1)\n",
        "flight_df = flight_df.drop(['Org_latitude'], axis=1)\n",
        "flight_df = flight_df.drop(['Org_longitude'], axis=1)\n",
        "flight_df = flight_df.drop(['month'], axis=1)\n",
        "flight_df = flight_df.drop(['WEEKDAY'], axis=1)\n",
        "\n"
      ]
    },
    {
      "cell_type": "code",
      "execution_count": 18,
      "metadata": {
        "colab": {
          "base_uri": "https://localhost:8080/"
        },
        "id": "9_YFlNkh2dPF",
        "outputId": "0b40326e-8494-4a6e-8a2b-c01e1e525d64"
      },
      "outputs": [
        {
          "output_type": "stream",
          "name": "stdout",
          "text": [
            "<class 'pandas.core.frame.DataFrame'>\n",
            "Int64Index: 721642 entries, 0 to 721641\n",
            "Data columns (total 19 columns):\n",
            " #   Column               Non-Null Count   Dtype  \n",
            "---  ------               --------------   -----  \n",
            " 0   OP_CARRIER           721642 non-null  object \n",
            " 1   CRS_DEP_TIME         721642 non-null  int64  \n",
            " 2   DEP_DELAY            721642 non-null  float64\n",
            " 3   TAXI_OUT             721642 non-null  float64\n",
            " 4   WHEELS_OFF           721642 non-null  int64  \n",
            " 5   WHEELS_ON            721642 non-null  int64  \n",
            " 6   TAXI_IN              721642 non-null  float64\n",
            " 7   CRS_ARR_TIME         721642 non-null  int64  \n",
            " 8   ARR_DELAY            721642 non-null  float64\n",
            " 9   CRS_ELAPSED_TIME     721642 non-null  float64\n",
            " 10  ACTUAL_ELAPSED_TIME  721642 non-null  float64\n",
            " 11  AIR_TIME             721642 non-null  float64\n",
            " 12  DISTANCE             721642 non-null  float64\n",
            " 13  CARRIER_DELAY        721642 non-null  float64\n",
            " 14  WEATHER_DELAY        721642 non-null  float64\n",
            " 15  NAS_DELAY            721642 non-null  float64\n",
            " 16  SECURITY_DELAY       721642 non-null  float64\n",
            " 17  LATE_AIRCRAFT_DELAY  721642 non-null  float64\n",
            " 18  DELAY_STATUS         721642 non-null  float64\n",
            "dtypes: float64(14), int64(4), object(1)\n",
            "memory usage: 110.1+ MB\n"
          ]
        }
      ],
      "source": [
        "flight_df.info()"
      ]
    },
    {
      "cell_type": "code",
      "execution_count": 19,
      "metadata": {
        "id": "Bf9dWEZI8VLh"
      },
      "outputs": [],
      "source": [
        "from sklearn.preprocessing import LabelEncoder\n",
        "\n",
        "le = LabelEncoder()"
      ]
    },
    {
      "cell_type": "code",
      "execution_count": 20,
      "metadata": {
        "id": "tMZ7Uv848XYx"
      },
      "outputs": [],
      "source": [
        "# Label encoding features to change categorical variables into numerical one\n",
        "flight_df['OP_CARRIER'] = le.fit_transform(flight_df['OP_CARRIER'])\n",
        "\n"
      ]
    },
    {
      "cell_type": "code",
      "execution_count": 21,
      "metadata": {
        "id": "fMw4bP4c2dPO"
      },
      "outputs": [],
      "source": [
        "import datetime, warnings, scipy \n",
        "import pandas as pd\n",
        "import numpy as np\n",
        "import seaborn as sns\n",
        "import matplotlib.pyplot as plt\n",
        "import warnings\n",
        "warnings.filterwarnings('ignore')\n",
        "from pathlib import Path\n",
        "from collections import Counter\n",
        "from sklearn.metrics import balanced_accuracy_score\n",
        "from sklearn.metrics import confusion_matrix\n",
        "from imblearn.metrics import classification_report_imbalanced\n",
        "from sklearn.model_selection import train_test_split\n",
        "from imblearn.over_sampling import RandomOverSampler\n",
        "from sklearn.linear_model import LogisticRegression\n",
        "from imblearn.over_sampling import SMOTE\n",
        "from imblearn.under_sampling import ClusterCentroids\n",
        "from imblearn.combine import SMOTEENN\n",
        "from imblearn.ensemble import BalancedRandomForestClassifier\n",
        "from imblearn.ensemble import EasyEnsembleClassifier\n",
        "from sklearn.preprocessing import StandardScaler\n",
        "from sklearn.preprocessing import LabelEncoder\n",
        "from sklearn.linear_model import Lasso,LinearRegression,Ridge\n",
        "from sklearn.tree import DecisionTreeRegressor\n",
        "from sklearn.ensemble import RandomForestRegressor,AdaBoostRegressor,BaggingRegressor\n",
        "from sklearn.metrics import mean_absolute_error,mean_squared_error,r2_score\n",
        "from sklearn.metrics import accuracy_score, confusion_matrix, classification_report, plot_confusion_matrix\n",
        "from sklearn.metrics import roc_auc_score\n",
        "from sklearn.metrics import explained_variance_score"
      ]
    },
    {
      "cell_type": "code",
      "execution_count": 22,
      "metadata": {
        "colab": {
          "base_uri": "https://localhost:8080/"
        },
        "id": "UR-AshHq2dPS",
        "outputId": "4a40c5be-0039-42ed-eea7-2f2c77f29395"
      },
      "outputs": [
        {
          "output_type": "execute_result",
          "data": {
            "text/plain": [
              "(721642, 16)"
            ]
          },
          "metadata": {},
          "execution_count": 22
        }
      ],
      "source": [
        "X = flight_df.drop(['DELAY_STATUS','ARR_DELAY','DEP_DELAY'], axis = 1)\n",
        "X.shape"
      ]
    },
    {
      "cell_type": "code",
      "execution_count": 23,
      "metadata": {
        "colab": {
          "base_uri": "https://localhost:8080/"
        },
        "id": "Klrqwu-c2dPT",
        "outputId": "441489b7-c95c-40c4-8a21-c2b7ec7aa78c"
      },
      "outputs": [
        {
          "output_type": "execute_result",
          "data": {
            "text/plain": [
              "0    -23.0\n",
              "1    132.0\n",
              "2    -23.0\n",
              "3     -2.0\n",
              "4    -18.0\n",
              "Name: ARR_DELAY, dtype: float64"
            ]
          },
          "metadata": {},
          "execution_count": 23
        }
      ],
      "source": [
        "y = flight_df['ARR_DELAY']\n",
        "y.head(5)"
      ]
    },
    {
      "cell_type": "code",
      "execution_count": 24,
      "metadata": {
        "id": "Xet5uTDeEo5w"
      },
      "outputs": [],
      "source": [
        " #Splitting into train and test data set\n",
        "X_train,X_test,y_train,y_test = train_test_split(X,y,test_size=0.3,random_state = 2)\n",
        "\n",
        "sc1=StandardScaler()\n",
        "X_train_sc=sc1.fit_transform(X_train)\n",
        "X_test_sc=sc1.transform(X_test)"
      ]
    },
    {
      "cell_type": "code",
      "execution_count": 48,
      "metadata": {
        "id": "IIu_5YD38eCq",
        "colab": {
          "base_uri": "https://localhost:8080/"
        },
        "outputId": "10c116a4-20a0-41db-ea44-fac373e7a9b7"
      },
      "outputs": [
        {
          "output_type": "stream",
          "name": "stdout",
          "text": [
            "Random forest Regressor\n",
            "Mean Absolute Error: 4.223075364737445\n",
            "Mean Squared Error: 52.11508554294826\n",
            "Root Mean Squared Error: 7.219077887303077\n",
            "R2 :  0.9730292886661528\n"
          ]
        }
      ],
      "source": [
        "\n",
        "Rfc = RandomForestRegressor(random_state=2)\n",
        "\n",
        "model1 = Rfc.fit(X_train_sc,y_train)\n",
        "Y_predict=model1.predict(X_test_sc)\n",
        "print('Random forest Regressor')\n",
        "print('Mean Absolute Error:', mean_absolute_error(y_test, Y_predict))  \n",
        "print('Mean Squared Error:', mean_squared_error(y_test, Y_predict))  \n",
        "print('Root Mean Squared Error:', np.sqrt(mean_squared_error(y_test, Y_predict)))\n",
        "print('R2 : ',r2_score(y_test, Y_predict))\n",
        "   "
      ]
    },
    {
      "cell_type": "code",
      "execution_count": 50,
      "metadata": {
        "colab": {
          "base_uri": "https://localhost:8080/",
          "height": 363
        },
        "id": "F4vy7eRK2dPV",
        "outputId": "3d39882f-9d9b-48fc-b678-5c93e195fa7d"
      },
      "outputs": [
        {
          "output_type": "execute_result",
          "data": {
            "text/html": [
              "\n",
              "  <div id=\"df-fb00b8f3-94b5-4fdc-8815-2702647c4555\">\n",
              "    <div class=\"colab-df-container\">\n",
              "      <div>\n",
              "<style scoped>\n",
              "    .dataframe tbody tr th:only-of-type {\n",
              "        vertical-align: middle;\n",
              "    }\n",
              "\n",
              "    .dataframe tbody tr th {\n",
              "        vertical-align: top;\n",
              "    }\n",
              "\n",
              "    .dataframe thead th {\n",
              "        text-align: right;\n",
              "    }\n",
              "</style>\n",
              "<table border=\"1\" class=\"dataframe\">\n",
              "  <thead>\n",
              "    <tr style=\"text-align: right;\">\n",
              "      <th></th>\n",
              "      <th>Prediction</th>\n",
              "      <th>Actual</th>\n",
              "    </tr>\n",
              "  </thead>\n",
              "  <tbody>\n",
              "    <tr>\n",
              "      <th>0</th>\n",
              "      <td>-0.620000</td>\n",
              "      <td>-7.0</td>\n",
              "    </tr>\n",
              "    <tr>\n",
              "      <th>1</th>\n",
              "      <td>-9.020000</td>\n",
              "      <td>-15.0</td>\n",
              "    </tr>\n",
              "    <tr>\n",
              "      <th>2</th>\n",
              "      <td>5.680000</td>\n",
              "      <td>7.0</td>\n",
              "    </tr>\n",
              "    <tr>\n",
              "      <th>3</th>\n",
              "      <td>16.000000</td>\n",
              "      <td>16.0</td>\n",
              "    </tr>\n",
              "    <tr>\n",
              "      <th>4</th>\n",
              "      <td>-9.590000</td>\n",
              "      <td>4.0</td>\n",
              "    </tr>\n",
              "    <tr>\n",
              "      <th>5</th>\n",
              "      <td>-5.792500</td>\n",
              "      <td>-8.0</td>\n",
              "    </tr>\n",
              "    <tr>\n",
              "      <th>6</th>\n",
              "      <td>-11.826667</td>\n",
              "      <td>-13.0</td>\n",
              "    </tr>\n",
              "    <tr>\n",
              "      <th>7</th>\n",
              "      <td>-17.040000</td>\n",
              "      <td>-18.0</td>\n",
              "    </tr>\n",
              "    <tr>\n",
              "      <th>8</th>\n",
              "      <td>-1.660000</td>\n",
              "      <td>-5.0</td>\n",
              "    </tr>\n",
              "    <tr>\n",
              "      <th>9</th>\n",
              "      <td>1.810000</td>\n",
              "      <td>-3.0</td>\n",
              "    </tr>\n",
              "  </tbody>\n",
              "</table>\n",
              "</div>\n",
              "      <button class=\"colab-df-convert\" onclick=\"convertToInteractive('df-fb00b8f3-94b5-4fdc-8815-2702647c4555')\"\n",
              "              title=\"Convert this dataframe to an interactive table.\"\n",
              "              style=\"display:none;\">\n",
              "        \n",
              "  <svg xmlns=\"http://www.w3.org/2000/svg\" height=\"24px\"viewBox=\"0 0 24 24\"\n",
              "       width=\"24px\">\n",
              "    <path d=\"M0 0h24v24H0V0z\" fill=\"none\"/>\n",
              "    <path d=\"M18.56 5.44l.94 2.06.94-2.06 2.06-.94-2.06-.94-.94-2.06-.94 2.06-2.06.94zm-11 1L8.5 8.5l.94-2.06 2.06-.94-2.06-.94L8.5 2.5l-.94 2.06-2.06.94zm10 10l.94 2.06.94-2.06 2.06-.94-2.06-.94-.94-2.06-.94 2.06-2.06.94z\"/><path d=\"M17.41 7.96l-1.37-1.37c-.4-.4-.92-.59-1.43-.59-.52 0-1.04.2-1.43.59L10.3 9.45l-7.72 7.72c-.78.78-.78 2.05 0 2.83L4 21.41c.39.39.9.59 1.41.59.51 0 1.02-.2 1.41-.59l7.78-7.78 2.81-2.81c.8-.78.8-2.07 0-2.86zM5.41 20L4 18.59l7.72-7.72 1.47 1.35L5.41 20z\"/>\n",
              "  </svg>\n",
              "      </button>\n",
              "      \n",
              "  <style>\n",
              "    .colab-df-container {\n",
              "      display:flex;\n",
              "      flex-wrap:wrap;\n",
              "      gap: 12px;\n",
              "    }\n",
              "\n",
              "    .colab-df-convert {\n",
              "      background-color: #E8F0FE;\n",
              "      border: none;\n",
              "      border-radius: 50%;\n",
              "      cursor: pointer;\n",
              "      display: none;\n",
              "      fill: #1967D2;\n",
              "      height: 32px;\n",
              "      padding: 0 0 0 0;\n",
              "      width: 32px;\n",
              "    }\n",
              "\n",
              "    .colab-df-convert:hover {\n",
              "      background-color: #E2EBFA;\n",
              "      box-shadow: 0px 1px 2px rgba(60, 64, 67, 0.3), 0px 1px 3px 1px rgba(60, 64, 67, 0.15);\n",
              "      fill: #174EA6;\n",
              "    }\n",
              "\n",
              "    [theme=dark] .colab-df-convert {\n",
              "      background-color: #3B4455;\n",
              "      fill: #D2E3FC;\n",
              "    }\n",
              "\n",
              "    [theme=dark] .colab-df-convert:hover {\n",
              "      background-color: #434B5C;\n",
              "      box-shadow: 0px 1px 3px 1px rgba(0, 0, 0, 0.15);\n",
              "      filter: drop-shadow(0px 1px 2px rgba(0, 0, 0, 0.3));\n",
              "      fill: #FFFFFF;\n",
              "    }\n",
              "  </style>\n",
              "\n",
              "      <script>\n",
              "        const buttonEl =\n",
              "          document.querySelector('#df-fb00b8f3-94b5-4fdc-8815-2702647c4555 button.colab-df-convert');\n",
              "        buttonEl.style.display =\n",
              "          google.colab.kernel.accessAllowed ? 'block' : 'none';\n",
              "\n",
              "        async function convertToInteractive(key) {\n",
              "          const element = document.querySelector('#df-fb00b8f3-94b5-4fdc-8815-2702647c4555');\n",
              "          const dataTable =\n",
              "            await google.colab.kernel.invokeFunction('convertToInteractive',\n",
              "                                                     [key], {});\n",
              "          if (!dataTable) return;\n",
              "\n",
              "          const docLinkHtml = 'Like what you see? Visit the ' +\n",
              "            '<a target=\"_blank\" href=https://colab.research.google.com/notebooks/data_table.ipynb>data table notebook</a>'\n",
              "            + ' to learn more about interactive tables.';\n",
              "          element.innerHTML = '';\n",
              "          dataTable['output_type'] = 'display_data';\n",
              "          await google.colab.output.renderOutput(dataTable, element);\n",
              "          const docLink = document.createElement('div');\n",
              "          docLink.innerHTML = docLinkHtml;\n",
              "          element.appendChild(docLink);\n",
              "        }\n",
              "      </script>\n",
              "    </div>\n",
              "  </div>\n",
              "  "
            ],
            "text/plain": [
              "   Prediction  Actual\n",
              "0   -0.620000    -7.0\n",
              "1   -9.020000   -15.0\n",
              "2    5.680000     7.0\n",
              "3   16.000000    16.0\n",
              "4   -9.590000     4.0\n",
              "5   -5.792500    -8.0\n",
              "6  -11.826667   -13.0\n",
              "7  -17.040000   -18.0\n",
              "8   -1.660000    -5.0\n",
              "9    1.810000    -3.0"
            ]
          },
          "metadata": {},
          "execution_count": 50
        }
      ],
      "source": [
        "results1 = pd.DataFrame({\"Prediction\": Y_predict, \"Actual\": y_test}).reset_index(drop=True)\n",
        "results1.head(10)"
      ]
    },
    {
      "cell_type": "code",
      "execution_count": 27,
      "metadata": {
        "colab": {
          "base_uri": "https://localhost:8080/",
          "height": 279
        },
        "id": "25URPgCD2TBS",
        "outputId": "6736899b-7998-40e1-ce3e-120b928f6517"
      },
      "outputs": [
        {
          "output_type": "display_data",
          "data": {
            "image/png": "[encoded data removed]",
            "text/plain": [
              "<Figure size 432x288 with 1 Axes>"
            ]
          },
          "metadata": {
            "needs_background": "light"
          }
        }
      ],
      "source": [
        "plt.scatter( y_test, Y_predict)\n",
        "plt.xlabel('Actual')\n",
        "plt.ylabel('Prediction')\n",
        "plt.show()"
      ]
    },
    {
      "cell_type": "code",
      "execution_count": 28,
      "metadata": {
        "colab": {
          "base_uri": "https://localhost:8080/"
        },
        "id": "MESW6rR3JGuy",
        "outputId": "0ffbb6b9-0364-46d2-c34f-b57ebd301776"
      },
      "outputs": [
        {
          "output_type": "execute_result",
          "data": {
            "text/plain": [
              "0.9730378054765952"
            ]
          },
          "metadata": {},
          "execution_count": 28
        }
      ],
      "source": [
        "explained_variance_score(y_test, Y_predict)"
      ]
    },
    {
      "cell_type": "code",
      "execution_count": 29,
      "metadata": {
        "colab": {
          "base_uri": "https://localhost:8080/"
        },
        "id": "4kLh-Pb2JKed",
        "outputId": "28056053-43d2-46f4-872c-1888689f23b9"
      },
      "outputs": [
        {
          "output_type": "stream",
          "name": "stdout",
          "text": [
            "Accuracy score (training): 0.996\n",
            "Accuracy score (validation): 0.973\n"
          ]
        }
      ],
      "source": [
        "print(\"Accuracy score (training): {0:.3f}\".format(model1.score(X_train_sc, y_train)))\n",
        "print(\"Accuracy score (validation): {0:.3f}\".format( model1.score( X_test_sc, y_test)))\n"
      ]
    },
    {
      "cell_type": "code",
      "source": [
        "# Plot the residuals for the training and testing data.\n",
        "\n",
        "### BEGIN SOLUTION\n",
        "plt.scatter(model1.predict(X_train_sc), model1.predict(X_train_sc) - y_train, c=\"blue\", label=\"Training Data\")\n",
        "plt.scatter(model1.predict(X_test_sc), model1.predict(X_test_sc) - y_test, c=\"orange\", label=\"Testing Data\")\n",
        "plt.legend()\n",
        "plt.hlines(y=0, xmin=y.min(), xmax=y.max())\n",
        "plt.title(\"Residual Plot\")\n",
        "plt.show()\n",
        "### END SOLUTION"
      ],
      "metadata": {
        "colab": {
          "base_uri": "https://localhost:8080/",
          "height": 281
        },
        "id": "Xuz2cvoccflR",
        "outputId": "d2a6d85d-e857-4e4a-8529-cd63a00de627"
      },
      "execution_count": 49,
      "outputs": [
        {
          "output_type": "display_data",
          "data": {
            "image/png": "[encoded data removed]",
            "text/plain": [
              "<Figure size 432x288 with 1 Axes>"
            ]
          },
          "metadata": {
            "needs_background": "light"
          }
        }
      ]
    },
    {
      "cell_type": "code",
      "execution_count": 51,
      "metadata": {
        "colab": {
          "base_uri": "https://localhost:8080/"
        },
        "id": "sa3CyOG__Tkb",
        "outputId": "cc6d01f5-86bf-4b83-c2ed-3ac64aafda4b"
      },
      "outputs": [
        {
          "output_type": "stream",
          "name": "stdout",
          "text": [
            "Linear Regression\n",
            "Mean Absolute Error: 5.923395117562025\n",
            "Mean Squared Error: 61.39810126120699\n",
            "Root Mean Squared Error: 7.83569405102107\n",
            "R2 :  0.9682251223746403\n"
          ]
        }
      ],
      "source": [
        "LinR = LinearRegression() \n",
        "\n",
        "model2 = LinR.fit(X_train_sc,y_train)\n",
        "Y_predict=model2.predict(X_test_sc)\n",
        "print('Linear Regression')\n",
        "print('Mean Absolute Error:', mean_absolute_error(y_test, Y_predict))  \n",
        "print('Mean Squared Error:', mean_squared_error(y_test, Y_predict))  \n",
        "print('Root Mean Squared Error:', np.sqrt(mean_squared_error(y_test, Y_predict)))\n",
        "print('R2 : ',r2_score(y_test, Y_predict))"
      ]
    },
    {
      "cell_type": "code",
      "execution_count": 52,
      "metadata": {
        "colab": {
          "base_uri": "https://localhost:8080/",
          "height": 363
        },
        "id": "THGKuWiUAFq0",
        "outputId": "bd1ca72b-ded7-4bfc-c9e0-c9271116210a"
      },
      "outputs": [
        {
          "output_type": "execute_result",
          "data": {
            "text/html": [
              "\n",
              "  <div id=\"df-910927d4-2777-4548-a417-d5481c48b4ee\">\n",
              "    <div class=\"colab-df-container\">\n",
              "      <div>\n",
              "<style scoped>\n",
              "    .dataframe tbody tr th:only-of-type {\n",
              "        vertical-align: middle;\n",
              "    }\n",
              "\n",
              "    .dataframe tbody tr th {\n",
              "        vertical-align: top;\n",
              "    }\n",
              "\n",
              "    .dataframe thead th {\n",
              "        text-align: right;\n",
              "    }\n",
              "</style>\n",
              "<table border=\"1\" class=\"dataframe\">\n",
              "  <thead>\n",
              "    <tr style=\"text-align: right;\">\n",
              "      <th></th>\n",
              "      <th>Prediction</th>\n",
              "      <th>Actual</th>\n",
              "    </tr>\n",
              "  </thead>\n",
              "  <tbody>\n",
              "    <tr>\n",
              "      <th>0</th>\n",
              "      <td>-6.799629</td>\n",
              "      <td>-7.0</td>\n",
              "    </tr>\n",
              "    <tr>\n",
              "      <th>1</th>\n",
              "      <td>-9.053658</td>\n",
              "      <td>-15.0</td>\n",
              "    </tr>\n",
              "    <tr>\n",
              "      <th>2</th>\n",
              "      <td>4.210836</td>\n",
              "      <td>7.0</td>\n",
              "    </tr>\n",
              "    <tr>\n",
              "      <th>3</th>\n",
              "      <td>24.286605</td>\n",
              "      <td>16.0</td>\n",
              "    </tr>\n",
              "    <tr>\n",
              "      <th>4</th>\n",
              "      <td>-9.710967</td>\n",
              "      <td>4.0</td>\n",
              "    </tr>\n",
              "    <tr>\n",
              "      <th>5</th>\n",
              "      <td>-6.546491</td>\n",
              "      <td>-8.0</td>\n",
              "    </tr>\n",
              "    <tr>\n",
              "      <th>6</th>\n",
              "      <td>-13.673551</td>\n",
              "      <td>-13.0</td>\n",
              "    </tr>\n",
              "    <tr>\n",
              "      <th>7</th>\n",
              "      <td>-12.637605</td>\n",
              "      <td>-18.0</td>\n",
              "    </tr>\n",
              "    <tr>\n",
              "      <th>8</th>\n",
              "      <td>-5.419645</td>\n",
              "      <td>-5.0</td>\n",
              "    </tr>\n",
              "    <tr>\n",
              "      <th>9</th>\n",
              "      <td>-4.437826</td>\n",
              "      <td>-3.0</td>\n",
              "    </tr>\n",
              "  </tbody>\n",
              "</table>\n",
              "</div>\n",
              "      <button class=\"colab-df-convert\" onclick=\"convertToInteractive('df-910927d4-2777-4548-a417-d5481c48b4ee')\"\n",
              "              title=\"Convert this dataframe to an interactive table.\"\n",
              "              style=\"display:none;\">\n",
              "        \n",
              "  <svg xmlns=\"http://www.w3.org/2000/svg\" height=\"24px\"viewBox=\"0 0 24 24\"\n",
              "       width=\"24px\">\n",
              "    <path d=\"M0 0h24v24H0V0z\" fill=\"none\"/>\n",
              "    <path d=\"M18.56 5.44l.94 2.06.94-2.06 2.06-.94-2.06-.94-.94-2.06-.94 2.06-2.06.94zm-11 1L8.5 8.5l.94-2.06 2.06-.94-2.06-.94L8.5 2.5l-.94 2.06-2.06.94zm10 10l.94 2.06.94-2.06 2.06-.94-2.06-.94-.94-2.06-.94 2.06-2.06.94z\"/><path d=\"M17.41 7.96l-1.37-1.37c-.4-.4-.92-.59-1.43-.59-.52 0-1.04.2-1.43.59L10.3 9.45l-7.72 7.72c-.78.78-.78 2.05 0 2.83L4 21.41c.39.39.9.59 1.41.59.51 0 1.02-.2 1.41-.59l7.78-7.78 2.81-2.81c.8-.78.8-2.07 0-2.86zM5.41 20L4 18.59l7.72-7.72 1.47 1.35L5.41 20z\"/>\n",
              "  </svg>\n",
              "      </button>\n",
              "      \n",
              "  <style>\n",
              "    .colab-df-container {\n",
              "      display:flex;\n",
              "      flex-wrap:wrap;\n",
              "      gap: 12px;\n",
              "    }\n",
              "\n",
              "    .colab-df-convert {\n",
              "      background-color: #E8F0FE;\n",
              "      border: none;\n",
              "      border-radius: 50%;\n",
              "      cursor: pointer;\n",
              "      display: none;\n",
              "      fill: #1967D2;\n",
              "      height: 32px;\n",
              "      padding: 0 0 0 0;\n",
              "      width: 32px;\n",
              "    }\n",
              "\n",
              "    .colab-df-convert:hover {\n",
              "      background-color: #E2EBFA;\n",
              "      box-shadow: 0px 1px 2px rgba(60, 64, 67, 0.3), 0px 1px 3px 1px rgba(60, 64, 67, 0.15);\n",
              "      fill: #174EA6;\n",
              "    }\n",
              "\n",
              "    [theme=dark] .colab-df-convert {\n",
              "      background-color: #3B4455;\n",
              "      fill: #D2E3FC;\n",
              "    }\n",
              "\n",
              "    [theme=dark] .colab-df-convert:hover {\n",
              "      background-color: #434B5C;\n",
              "      box-shadow: 0px 1px 3px 1px rgba(0, 0, 0, 0.15);\n",
              "      filter: drop-shadow(0px 1px 2px rgba(0, 0, 0, 0.3));\n",
              "      fill: #FFFFFF;\n",
              "    }\n",
              "  </style>\n",
              "\n",
              "      <script>\n",
              "        const buttonEl =\n",
              "          document.querySelector('#df-910927d4-2777-4548-a417-d5481c48b4ee button.colab-df-convert');\n",
              "        buttonEl.style.display =\n",
              "          google.colab.kernel.accessAllowed ? 'block' : 'none';\n",
              "\n",
              "        async function convertToInteractive(key) {\n",
              "          const element = document.querySelector('#df-910927d4-2777-4548-a417-d5481c48b4ee');\n",
              "          const dataTable =\n",
              "            await google.colab.kernel.invokeFunction('convertToInteractive',\n",
              "                                                     [key], {});\n",
              "          if (!dataTable) return;\n",
              "\n",
              "          const docLinkHtml = 'Like what you see? Visit the ' +\n",
              "            '<a target=\"_blank\" href=https://colab.research.google.com/notebooks/data_table.ipynb>data table notebook</a>'\n",
              "            + ' to learn more about interactive tables.';\n",
              "          element.innerHTML = '';\n",
              "          dataTable['output_type'] = 'display_data';\n",
              "          await google.colab.output.renderOutput(dataTable, element);\n",
              "          const docLink = document.createElement('div');\n",
              "          docLink.innerHTML = docLinkHtml;\n",
              "          element.appendChild(docLink);\n",
              "        }\n",
              "      </script>\n",
              "    </div>\n",
              "  </div>\n",
              "  "
            ],
            "text/plain": [
              "   Prediction  Actual\n",
              "0   -6.799629    -7.0\n",
              "1   -9.053658   -15.0\n",
              "2    4.210836     7.0\n",
              "3   24.286605    16.0\n",
              "4   -9.710967     4.0\n",
              "5   -6.546491    -8.0\n",
              "6  -13.673551   -13.0\n",
              "7  -12.637605   -18.0\n",
              "8   -5.419645    -5.0\n",
              "9   -4.437826    -3.0"
            ]
          },
          "metadata": {},
          "execution_count": 52
        }
      ],
      "source": [
        "results2 = pd.DataFrame({\"Prediction\": Y_predict, \"Actual\": y_test}).reset_index(drop=True)\n",
        "results2.head(10)"
      ]
    },
    {
      "cell_type": "code",
      "execution_count": 53,
      "metadata": {
        "colab": {
          "base_uri": "https://localhost:8080/",
          "height": 279
        },
        "id": "BYbJ514HAJMt",
        "outputId": "99af3ca2-17d8-4538-acd4-16872183017a"
      },
      "outputs": [
        {
          "output_type": "display_data",
          "data": {
            "image/png": "[encoded data removed]",
            "text/plain": [
              "<Figure size 432x288 with 1 Axes>"
            ]
          },
          "metadata": {
            "needs_background": "light"
          }
        }
      ],
      "source": [
        "plt.scatter( y_test, Y_predict)\n",
        "plt.xlabel('Actual')\n",
        "plt.ylabel('Prediction')\n",
        "plt.show()"
      ]
    },
    {
      "cell_type": "code",
      "execution_count": 54,
      "metadata": {
        "colab": {
          "base_uri": "https://localhost:8080/"
        },
        "id": "cidrkIFp818L",
        "outputId": "ec71fd35-ee67-4427-98ec-766d32423eb5"
      },
      "outputs": [
        {
          "output_type": "execute_result",
          "data": {
            "text/plain": [
              "0.9682273651087598"
            ]
          },
          "metadata": {},
          "execution_count": 54
        }
      ],
      "source": [
        "explained_variance_score(y_test, Y_predict)"
      ]
    },
    {
      "cell_type": "code",
      "execution_count": 55,
      "metadata": {
        "colab": {
          "base_uri": "https://localhost:8080/"
        },
        "id": "t98SvJt-HkNb",
        "outputId": "c36db335-330d-4c9e-eb84-c7b0d9f3e695"
      },
      "outputs": [
        {
          "output_type": "stream",
          "name": "stdout",
          "text": [
            "Accuracy score (training): 0.970\n",
            "Accuracy score (validation): 0.968\n"
          ]
        }
      ],
      "source": [
        "print(\"Accuracy score (training): {0:.3f}\".format(model2.score(X_train_sc, y_train)))\n",
        "print(\"Accuracy score (validation): {0:.3f}\".format( model2.score( X_test_sc, y_test)))"
      ]
    },
    {
      "cell_type": "code",
      "execution_count": 56,
      "metadata": {
        "id": "2PLxlHml9a9c",
        "colab": {
          "base_uri": "https://localhost:8080/",
          "height": 281
        },
        "outputId": "bc9fca6d-0dd3-46ec-ddcb-95612dce846c"
      },
      "outputs": [
        {
          "output_type": "display_data",
          "data": {
            "image/png": "[encoded data removed]",
            "text/plain": [
              "<Figure size 432x288 with 1 Axes>"
            ]
          },
          "metadata": {
            "needs_background": "light"
          }
        }
      ],
      "source": [
        "# Plot the residuals for the training and testing data.\n",
        "\n",
        "### BEGIN SOLUTION\n",
        "plt.scatter(model2.predict(X_train_sc), model2.predict(X_train_sc) - y_train, c=\"blue\", label=\"Training Data\")\n",
        "plt.scatter(model2.predict(X_test_sc), model2.predict(X_test_sc) - y_test, c=\"orange\", label=\"Testing Data\")\n",
        "plt.legend()\n",
        "plt.hlines(y=0, xmin=y.min(), xmax=y.max())\n",
        "plt.title(\"Residual Plot\")\n",
        "plt.show()\n",
        "### END SOLUTION"
      ]
    },
    {
      "cell_type": "code",
      "source": [
        "# Plot Residuals\n",
        "plt.scatter(Y_predict, Y_predict - y_test)\n",
        "plt.hlines(y=0, xmin=Y_predict.min(), xmax=Y_predict.max())\n",
        "plt.show()"
      ],
      "metadata": {
        "colab": {
          "base_uri": "https://localhost:8080/",
          "height": 265
        },
        "id": "g3Cz_zA4E2wP",
        "outputId": "870c8ae6-2a54-4b69-a23b-29f2357db740"
      },
      "execution_count": 47,
      "outputs": [
        {
          "output_type": "display_data",
          "data": {
            "image/png": "[encoded data removed]",
            "text/plain": [
              "<Figure size 432x288 with 1 Axes>"
            ]
          },
          "metadata": {
            "needs_background": "light"
          }
        }
      ]
    },
    {
      "cell_type": "code",
      "execution_count": 57,
      "metadata": {
        "colab": {
          "base_uri": "https://localhost:8080/"
        },
        "id": "9xSP9vWhGnqu",
        "outputId": "b606df67-d9d7-4700-82f6-e6b1435f7d6c"
      },
      "outputs": [
        {
          "output_type": "stream",
          "name": "stdout",
          "text": [
            "Decision Tree Regressor\n",
            "Mean Absolute Error: 5.824072316865849\n",
            "Mean Squared Error: 94.31427715391824\n",
            "Root Mean Squared Error: 9.711553797097467\n",
            "R2 :  0.9511902721202963\n"
          ]
        }
      ],
      "source": [
        "Dtc = DecisionTreeRegressor(random_state = 2)\n",
        "model3 = Dtc.fit(X_train_sc,y_train)\n",
        "Y_predict=model3.predict(X_test_sc)\n",
        "print('Decision Tree Regressor')\n",
        "print('Mean Absolute Error:', mean_absolute_error(y_test, Y_predict))  \n",
        "print('Mean Squared Error:', mean_squared_error(y_test, Y_predict))  \n",
        "print('Root Mean Squared Error:', np.sqrt(mean_squared_error(y_test, Y_predict)))\n",
        "print('R2 : ',r2_score(y_test, Y_predict))"
      ]
    },
    {
      "cell_type": "code",
      "execution_count": 58,
      "metadata": {
        "colab": {
          "base_uri": "https://localhost:8080/",
          "height": 363
        },
        "id": "2rF7m9iWHBrj",
        "outputId": "e4f02e18-7c70-44af-cbcb-40e6cbafef1c"
      },
      "outputs": [
        {
          "output_type": "execute_result",
          "data": {
            "text/html": [
              "\n",
              "  <div id=\"df-f73f9be2-06a7-4a09-9381-238d30c19f9d\">\n",
              "    <div class=\"colab-df-container\">\n",
              "      <div>\n",
              "<style scoped>\n",
              "    .dataframe tbody tr th:only-of-type {\n",
              "        vertical-align: middle;\n",
              "    }\n",
              "\n",
              "    .dataframe tbody tr th {\n",
              "        vertical-align: top;\n",
              "    }\n",
              "\n",
              "    .dataframe thead th {\n",
              "        text-align: right;\n",
              "    }\n",
              "</style>\n",
              "<table border=\"1\" class=\"dataframe\">\n",
              "  <thead>\n",
              "    <tr style=\"text-align: right;\">\n",
              "      <th></th>\n",
              "      <th>Prediction</th>\n",
              "      <th>Actual</th>\n",
              "    </tr>\n",
              "  </thead>\n",
              "  <tbody>\n",
              "    <tr>\n",
              "      <th>0</th>\n",
              "      <td>-3.0</td>\n",
              "      <td>-7.0</td>\n",
              "    </tr>\n",
              "    <tr>\n",
              "      <th>1</th>\n",
              "      <td>-7.0</td>\n",
              "      <td>-15.0</td>\n",
              "    </tr>\n",
              "    <tr>\n",
              "      <th>2</th>\n",
              "      <td>0.0</td>\n",
              "      <td>7.0</td>\n",
              "    </tr>\n",
              "    <tr>\n",
              "      <th>3</th>\n",
              "      <td>16.0</td>\n",
              "      <td>16.0</td>\n",
              "    </tr>\n",
              "    <tr>\n",
              "      <th>4</th>\n",
              "      <td>-16.0</td>\n",
              "      <td>4.0</td>\n",
              "    </tr>\n",
              "    <tr>\n",
              "      <th>5</th>\n",
              "      <td>0.0</td>\n",
              "      <td>-8.0</td>\n",
              "    </tr>\n",
              "    <tr>\n",
              "      <th>6</th>\n",
              "      <td>8.0</td>\n",
              "      <td>-13.0</td>\n",
              "    </tr>\n",
              "    <tr>\n",
              "      <th>7</th>\n",
              "      <td>-15.0</td>\n",
              "      <td>-18.0</td>\n",
              "    </tr>\n",
              "    <tr>\n",
              "      <th>8</th>\n",
              "      <td>-7.0</td>\n",
              "      <td>-5.0</td>\n",
              "    </tr>\n",
              "    <tr>\n",
              "      <th>9</th>\n",
              "      <td>-1.0</td>\n",
              "      <td>-3.0</td>\n",
              "    </tr>\n",
              "  </tbody>\n",
              "</table>\n",
              "</div>\n",
              "      <button class=\"colab-df-convert\" onclick=\"convertToInteractive('df-f73f9be2-06a7-4a09-9381-238d30c19f9d')\"\n",
              "              title=\"Convert this dataframe to an interactive table.\"\n",
              "              style=\"display:none;\">\n",
              "        \n",
              "  <svg xmlns=\"http://www.w3.org/2000/svg\" height=\"24px\"viewBox=\"0 0 24 24\"\n",
              "       width=\"24px\">\n",
              "    <path d=\"M0 0h24v24H0V0z\" fill=\"none\"/>\n",
              "    <path d=\"M18.56 5.44l.94 2.06.94-2.06 2.06-.94-2.06-.94-.94-2.06-.94 2.06-2.06.94zm-11 1L8.5 8.5l.94-2.06 2.06-.94-2.06-.94L8.5 2.5l-.94 2.06-2.06.94zm10 10l.94 2.06.94-2.06 2.06-.94-2.06-.94-.94-2.06-.94 2.06-2.06.94z\"/><path d=\"M17.41 7.96l-1.37-1.37c-.4-.4-.92-.59-1.43-.59-.52 0-1.04.2-1.43.59L10.3 9.45l-7.72 7.72c-.78.78-.78 2.05 0 2.83L4 21.41c.39.39.9.59 1.41.59.51 0 1.02-.2 1.41-.59l7.78-7.78 2.81-2.81c.8-.78.8-2.07 0-2.86zM5.41 20L4 18.59l7.72-7.72 1.47 1.35L5.41 20z\"/>\n",
              "  </svg>\n",
              "      </button>\n",
              "      \n",
              "  <style>\n",
              "    .colab-df-container {\n",
              "      display:flex;\n",
              "      flex-wrap:wrap;\n",
              "      gap: 12px;\n",
              "    }\n",
              "\n",
              "    .colab-df-convert {\n",
              "      background-color: #E8F0FE;\n",
              "      border: none;\n",
              "      border-radius: 50%;\n",
              "      cursor: pointer;\n",
              "      display: none;\n",
              "      fill: #1967D2;\n",
              "      height: 32px;\n",
              "      padding: 0 0 0 0;\n",
              "      width: 32px;\n",
              "    }\n",
              "\n",
              "    .colab-df-convert:hover {\n",
              "      background-color: #E2EBFA;\n",
              "      box-shadow: 0px 1px 2px rgba(60, 64, 67, 0.3), 0px 1px 3px 1px rgba(60, 64, 67, 0.15);\n",
              "      fill: #174EA6;\n",
              "    }\n",
              "\n",
              "    [theme=dark] .colab-df-convert {\n",
              "      background-color: #3B4455;\n",
              "      fill: #D2E3FC;\n",
              "    }\n",
              "\n",
              "    [theme=dark] .colab-df-convert:hover {\n",
              "      background-color: #434B5C;\n",
              "      box-shadow: 0px 1px 3px 1px rgba(0, 0, 0, 0.15);\n",
              "      filter: drop-shadow(0px 1px 2px rgba(0, 0, 0, 0.3));\n",
              "      fill: #FFFFFF;\n",
              "    }\n",
              "  </style>\n",
              "\n",
              "      <script>\n",
              "        const buttonEl =\n",
              "          document.querySelector('#df-f73f9be2-06a7-4a09-9381-238d30c19f9d button.colab-df-convert');\n",
              "        buttonEl.style.display =\n",
              "          google.colab.kernel.accessAllowed ? 'block' : 'none';\n",
              "\n",
              "        async function convertToInteractive(key) {\n",
              "          const element = document.querySelector('#df-f73f9be2-06a7-4a09-9381-238d30c19f9d');\n",
              "          const dataTable =\n",
              "            await google.colab.kernel.invokeFunction('convertToInteractive',\n",
              "                                                     [key], {});\n",
              "          if (!dataTable) return;\n",
              "\n",
              "          const docLinkHtml = 'Like what you see? Visit the ' +\n",
              "            '<a target=\"_blank\" href=https://colab.research.google.com/notebooks/data_table.ipynb>data table notebook</a>'\n",
              "            + ' to learn more about interactive tables.';\n",
              "          element.innerHTML = '';\n",
              "          dataTable['output_type'] = 'display_data';\n",
              "          await google.colab.output.renderOutput(dataTable, element);\n",
              "          const docLink = document.createElement('div');\n",
              "          docLink.innerHTML = docLinkHtml;\n",
              "          element.appendChild(docLink);\n",
              "        }\n",
              "      </script>\n",
              "    </div>\n",
              "  </div>\n",
              "  "
            ],
            "text/plain": [
              "   Prediction  Actual\n",
              "0        -3.0    -7.0\n",
              "1        -7.0   -15.0\n",
              "2         0.0     7.0\n",
              "3        16.0    16.0\n",
              "4       -16.0     4.0\n",
              "5         0.0    -8.0\n",
              "6         8.0   -13.0\n",
              "7       -15.0   -18.0\n",
              "8        -7.0    -5.0\n",
              "9        -1.0    -3.0"
            ]
          },
          "metadata": {},
          "execution_count": 58
        }
      ],
      "source": [
        "results3 = pd.DataFrame({\"Prediction\": Y_predict, \"Actual\": y_test}).reset_index(drop=True)\n",
        "results3.head(10)"
      ]
    },
    {
      "cell_type": "code",
      "execution_count": 59,
      "metadata": {
        "colab": {
          "base_uri": "https://localhost:8080/",
          "height": 279
        },
        "id": "HqaeAjzPHGZz",
        "outputId": "94265b15-159c-4874-81eb-2b8942a93840"
      },
      "outputs": [
        {
          "output_type": "display_data",
          "data": {
            "image/png": "[encoded data removed]",
            "text/plain": [
              "<Figure size 432x288 with 1 Axes>"
            ]
          },
          "metadata": {
            "needs_background": "light"
          }
        }
      ],
      "source": [
        "plt.scatter( y_test, Y_predict)\n",
        "plt.xlabel('Actual')\n",
        "plt.ylabel('Prediction')\n",
        "plt.show()"
      ]
    },
    {
      "cell_type": "code",
      "execution_count": 60,
      "metadata": {
        "colab": {
          "base_uri": "https://localhost:8080/"
        },
        "id": "RD_C5yB8ANdy",
        "outputId": "afb3dc61-9596-47b0-b611-b913de748c91"
      },
      "outputs": [
        {
          "output_type": "execute_result",
          "data": {
            "text/plain": [
              "0.9512020509844533"
            ]
          },
          "metadata": {},
          "execution_count": 60
        }
      ],
      "source": [
        "explained_variance_score(y_test, Y_predict)"
      ]
    },
    {
      "cell_type": "code",
      "execution_count": 61,
      "metadata": {
        "colab": {
          "base_uri": "https://localhost:8080/"
        },
        "id": "1dAsPX8cJWeX",
        "outputId": "8b692be3-5350-472d-c8d4-cbdbd8ff8226"
      },
      "outputs": [
        {
          "output_type": "stream",
          "name": "stdout",
          "text": [
            "Accuracy score (training): 1.000\n",
            "Accuracy score (validation): 0.951\n"
          ]
        }
      ],
      "source": [
        "print(\"Accuracy score (training): {0:.3f}\".format(model3.score(X_train_sc, y_train)))\n",
        "print(\"Accuracy score (validation): {0:.3f}\".format( model3.score( X_test_sc, y_test)))"
      ]
    },
    {
      "cell_type": "code",
      "source": [
        "plt.scatter(model3.predict(X_train_sc), model3.predict(X_train_sc) - y_train, c=\"blue\", label=\"Training Data\")\n",
        "plt.scatter(model3.predict(X_test_sc), model3.predict(X_test_sc) - y_test, c=\"orange\", label=\"Testing Data\")\n",
        "plt.legend()\n",
        "plt.hlines(y=0, xmin=y.min(), xmax=y.max())\n",
        "plt.title(\"Residual Plot\")\n",
        "plt.show()"
      ],
      "metadata": {
        "colab": {
          "base_uri": "https://localhost:8080/",
          "height": 281
        },
        "id": "3UGuWWKdbTgR",
        "outputId": "3cffda76-032e-4657-9238-25d73997593d"
      },
      "execution_count": 62,
      "outputs": [
        {
          "output_type": "display_data",
          "data": {
            "image/png": "[encoded data removed]",
            "text/plain": [
              "<Figure size 432x288 with 1 Axes>"
            ]
          },
          "metadata": {
            "needs_background": "light"
          }
        }
      ]
    },
    {
      "cell_type": "code",
      "execution_count": 63,
      "metadata": {
        "colab": {
          "base_uri": "https://localhost:8080/"
        },
        "id": "cfP3MtCUHJkY",
        "outputId": "0ae94218-12af-4ce8-b3ec-4823b8225cdf"
      },
      "outputs": [
        {
          "output_type": "stream",
          "name": "stdout",
          "text": [
            "Boosted Linear\n",
            "Mean Absolute Error: 6.437352747489798\n",
            "Mean Squared Error: 66.24295123958612\n",
            "Root Mean Squared Error: 8.138977284621584\n",
            "R2 :  0.9657178051773008\n"
          ]
        }
      ],
      "source": [
        "Boost_Lin = AdaBoostRegressor(base_estimator=LinR,random_state=2)\n",
        "model4 = Boost_Lin.fit(X_train_sc,y_train)\n",
        "Y_predict=model4.predict(X_test_sc)\n",
        "print('Boosted Linear')\n",
        "print('Mean Absolute Error:', mean_absolute_error(y_test, Y_predict))  \n",
        "print('Mean Squared Error:', mean_squared_error(y_test, Y_predict))  \n",
        "print('Root Mean Squared Error:', np.sqrt(mean_squared_error(y_test, Y_predict)))\n",
        "print('R2 : ',r2_score(y_test, Y_predict))\n"
      ]
    },
    {
      "cell_type": "code",
      "execution_count": 64,
      "metadata": {
        "colab": {
          "base_uri": "https://localhost:8080/",
          "height": 363
        },
        "id": "xu3Fy51PHqbE",
        "outputId": "3dff7d36-59d5-4735-f1ee-177e351cdba8"
      },
      "outputs": [
        {
          "output_type": "execute_result",
          "data": {
            "text/html": [
              "\n",
              "  <div id=\"df-ccb3e2fe-7e0a-4c41-bad8-21a1bf98961a\">\n",
              "    <div class=\"colab-df-container\">\n",
              "      <div>\n",
              "<style scoped>\n",
              "    .dataframe tbody tr th:only-of-type {\n",
              "        vertical-align: middle;\n",
              "    }\n",
              "\n",
              "    .dataframe tbody tr th {\n",
              "        vertical-align: top;\n",
              "    }\n",
              "\n",
              "    .dataframe thead th {\n",
              "        text-align: right;\n",
              "    }\n",
              "</style>\n",
              "<table border=\"1\" class=\"dataframe\">\n",
              "  <thead>\n",
              "    <tr style=\"text-align: right;\">\n",
              "      <th></th>\n",
              "      <th>Prediction</th>\n",
              "      <th>Actual</th>\n",
              "    </tr>\n",
              "  </thead>\n",
              "  <tbody>\n",
              "    <tr>\n",
              "      <th>0</th>\n",
              "      <td>-6.141540</td>\n",
              "      <td>-7.0</td>\n",
              "    </tr>\n",
              "    <tr>\n",
              "      <th>1</th>\n",
              "      <td>-7.821888</td>\n",
              "      <td>-15.0</td>\n",
              "    </tr>\n",
              "    <tr>\n",
              "      <th>2</th>\n",
              "      <td>-0.643276</td>\n",
              "      <td>7.0</td>\n",
              "    </tr>\n",
              "    <tr>\n",
              "      <th>3</th>\n",
              "      <td>23.400133</td>\n",
              "      <td>16.0</td>\n",
              "    </tr>\n",
              "    <tr>\n",
              "      <th>4</th>\n",
              "      <td>-8.446890</td>\n",
              "      <td>4.0</td>\n",
              "    </tr>\n",
              "    <tr>\n",
              "      <th>5</th>\n",
              "      <td>-6.578786</td>\n",
              "      <td>-8.0</td>\n",
              "    </tr>\n",
              "    <tr>\n",
              "      <th>6</th>\n",
              "      <td>-12.575425</td>\n",
              "      <td>-13.0</td>\n",
              "    </tr>\n",
              "    <tr>\n",
              "      <th>7</th>\n",
              "      <td>-11.315796</td>\n",
              "      <td>-18.0</td>\n",
              "    </tr>\n",
              "    <tr>\n",
              "      <th>8</th>\n",
              "      <td>-6.700124</td>\n",
              "      <td>-5.0</td>\n",
              "    </tr>\n",
              "    <tr>\n",
              "      <th>9</th>\n",
              "      <td>-5.158760</td>\n",
              "      <td>-3.0</td>\n",
              "    </tr>\n",
              "  </tbody>\n",
              "</table>\n",
              "</div>\n",
              "      <button class=\"colab-df-convert\" onclick=\"convertToInteractive('df-ccb3e2fe-7e0a-4c41-bad8-21a1bf98961a')\"\n",
              "              title=\"Convert this dataframe to an interactive table.\"\n",
              "              style=\"display:none;\">\n",
              "        \n",
              "  <svg xmlns=\"http://www.w3.org/2000/svg\" height=\"24px\"viewBox=\"0 0 24 24\"\n",
              "       width=\"24px\">\n",
              "    <path d=\"M0 0h24v24H0V0z\" fill=\"none\"/>\n",
              "    <path d=\"M18.56 5.44l.94 2.06.94-2.06 2.06-.94-2.06-.94-.94-2.06-.94 2.06-2.06.94zm-11 1L8.5 8.5l.94-2.06 2.06-.94-2.06-.94L8.5 2.5l-.94 2.06-2.06.94zm10 10l.94 2.06.94-2.06 2.06-.94-2.06-.94-.94-2.06-.94 2.06-2.06.94z\"/><path d=\"M17.41 7.96l-1.37-1.37c-.4-.4-.92-.59-1.43-.59-.52 0-1.04.2-1.43.59L10.3 9.45l-7.72 7.72c-.78.78-.78 2.05 0 2.83L4 21.41c.39.39.9.59 1.41.59.51 0 1.02-.2 1.41-.59l7.78-7.78 2.81-2.81c.8-.78.8-2.07 0-2.86zM5.41 20L4 18.59l7.72-7.72 1.47 1.35L5.41 20z\"/>\n",
              "  </svg>\n",
              "      </button>\n",
              "      \n",
              "  <style>\n",
              "    .colab-df-container {\n",
              "      display:flex;\n",
              "      flex-wrap:wrap;\n",
              "      gap: 12px;\n",
              "    }\n",
              "\n",
              "    .colab-df-convert {\n",
              "      background-color: #E8F0FE;\n",
              "      border: none;\n",
              "      border-radius: 50%;\n",
              "      cursor: pointer;\n",
              "      display: none;\n",
              "      fill: #1967D2;\n",
              "      height: 32px;\n",
              "      padding: 0 0 0 0;\n",
              "      width: 32px;\n",
              "    }\n",
              "\n",
              "    .colab-df-convert:hover {\n",
              "      background-color: #E2EBFA;\n",
              "      box-shadow: 0px 1px 2px rgba(60, 64, 67, 0.3), 0px 1px 3px 1px rgba(60, 64, 67, 0.15);\n",
              "      fill: #174EA6;\n",
              "    }\n",
              "\n",
              "    [theme=dark] .colab-df-convert {\n",
              "      background-color: #3B4455;\n",
              "      fill: #D2E3FC;\n",
              "    }\n",
              "\n",
              "    [theme=dark] .colab-df-convert:hover {\n",
              "      background-color: #434B5C;\n",
              "      box-shadow: 0px 1px 3px 1px rgba(0, 0, 0, 0.15);\n",
              "      filter: drop-shadow(0px 1px 2px rgba(0, 0, 0, 0.3));\n",
              "      fill: #FFFFFF;\n",
              "    }\n",
              "  </style>\n",
              "\n",
              "      <script>\n",
              "        const buttonEl =\n",
              "          document.querySelector('#df-ccb3e2fe-7e0a-4c41-bad8-21a1bf98961a button.colab-df-convert');\n",
              "        buttonEl.style.display =\n",
              "          google.colab.kernel.accessAllowed ? 'block' : 'none';\n",
              "\n",
              "        async function convertToInteractive(key) {\n",
              "          const element = document.querySelector('#df-ccb3e2fe-7e0a-4c41-bad8-21a1bf98961a');\n",
              "          const dataTable =\n",
              "            await google.colab.kernel.invokeFunction('convertToInteractive',\n",
              "                                                     [key], {});\n",
              "          if (!dataTable) return;\n",
              "\n",
              "          const docLinkHtml = 'Like what you see? Visit the ' +\n",
              "            '<a target=\"_blank\" href=https://colab.research.google.com/notebooks/data_table.ipynb>data table notebook</a>'\n",
              "            + ' to learn more about interactive tables.';\n",
              "          element.innerHTML = '';\n",
              "          dataTable['output_type'] = 'display_data';\n",
              "          await google.colab.output.renderOutput(dataTable, element);\n",
              "          const docLink = document.createElement('div');\n",
              "          docLink.innerHTML = docLinkHtml;\n",
              "          element.appendChild(docLink);\n",
              "        }\n",
              "      </script>\n",
              "    </div>\n",
              "  </div>\n",
              "  "
            ],
            "text/plain": [
              "   Prediction  Actual\n",
              "0   -6.141540    -7.0\n",
              "1   -7.821888   -15.0\n",
              "2   -0.643276     7.0\n",
              "3   23.400133    16.0\n",
              "4   -8.446890     4.0\n",
              "5   -6.578786    -8.0\n",
              "6  -12.575425   -13.0\n",
              "7  -11.315796   -18.0\n",
              "8   -6.700124    -5.0\n",
              "9   -5.158760    -3.0"
            ]
          },
          "metadata": {},
          "execution_count": 64
        }
      ],
      "source": [
        "results4 = pd.DataFrame({\"Prediction\": Y_predict, \"Actual\": y_test}).reset_index(drop=True)\n",
        "results4.head(10)"
      ]
    },
    {
      "cell_type": "code",
      "execution_count": 65,
      "metadata": {
        "colab": {
          "base_uri": "https://localhost:8080/",
          "height": 279
        },
        "id": "YO4jI2NvHxLo",
        "outputId": "cf0fc70c-f1dd-4c2a-cc0b-11f2498a0a8a"
      },
      "outputs": [
        {
          "output_type": "display_data",
          "data": {
            "image/png": "[encoded data removed]",
            "text/plain": [
              "<Figure size 432x288 with 1 Axes>"
            ]
          },
          "metadata": {
            "needs_background": "light"
          }
        }
      ],
      "source": [
        "plt.scatter( y_test, Y_predict)\n",
        "plt.xlabel('Actual')\n",
        "plt.ylabel('Prediction')\n",
        "plt.show()"
      ]
    },
    {
      "cell_type": "code",
      "execution_count": 66,
      "metadata": {
        "colab": {
          "base_uri": "https://localhost:8080/"
        },
        "id": "VAgN02VXJanl",
        "outputId": "9d3533f8-89a7-48fd-dd27-0b8aced61c74"
      },
      "outputs": [
        {
          "output_type": "execute_result",
          "data": {
            "text/plain": [
              "0.9657297072881852"
            ]
          },
          "metadata": {},
          "execution_count": 66
        }
      ],
      "source": [
        "explained_variance_score(y_test, Y_predict)"
      ]
    },
    {
      "cell_type": "code",
      "execution_count": 67,
      "metadata": {
        "colab": {
          "base_uri": "https://localhost:8080/"
        },
        "id": "n_WXbh1vJayu",
        "outputId": "2803a78e-4f63-4392-ff98-98eaf2ec448d"
      },
      "outputs": [
        {
          "output_type": "stream",
          "name": "stdout",
          "text": [
            "Accuracy score (training): 0.968\n",
            "Accuracy score (validation): 0.966\n"
          ]
        }
      ],
      "source": [
        "print(\"Accuracy score (training): {0:.3f}\".format(model4.score(X_train_sc, y_train)))\n",
        "print(\"Accuracy score (validation): {0:.3f}\".format( model4.score( X_test_sc, y_test)))"
      ]
    },
    {
      "cell_type": "code",
      "source": [
        "plt.scatter(model4.predict(X_train_sc), model4.predict(X_train_sc) - y_train, c=\"blue\", label=\"Training Data\")\n",
        "plt.scatter(model4.predict(X_test_sc), model4.predict(X_test_sc) - y_test, c=\"orange\", label=\"Testing Data\")\n",
        "plt.legend()\n",
        "plt.hlines(y=0, xmin=y.min(), xmax=y.max())\n",
        "plt.title(\"Residual Plot\")\n",
        "plt.show()"
      ],
      "metadata": {
        "colab": {
          "base_uri": "https://localhost:8080/",
          "height": 281
        },
        "id": "7Cv0ZEhndmV0",
        "outputId": "4a66e989-2089-4f77-f86d-6de7f2e9a9f0"
      },
      "execution_count": 68,
      "outputs": [
        {
          "output_type": "display_data",
          "data": {
            "image/png": "[encoded data removed]",
            "text/plain": [
              "<Figure size 432x288 with 1 Axes>"
            ]
          },
          "metadata": {
            "needs_background": "light"
          }
        }
      ]
    },
    {
      "cell_type": "code",
      "execution_count": 69,
      "metadata": {
        "colab": {
          "base_uri": "https://localhost:8080/"
        },
        "id": "S8zRTlvwGsiw",
        "outputId": "e8cf6da4-bf50-4f3f-ba68-239580da8689"
      },
      "outputs": [
        {
          "output_type": "stream",
          "name": "stdout",
          "text": [
            "Bagging  Regressor\n",
            "Mean Absolute Error: 5.918814191014616\n",
            "Mean Squared Error: 61.42008473273903\n",
            "Root Mean Squared Error: 7.8370967030360825\n",
            "R2 :  0.9682137454410974\n"
          ]
        }
      ],
      "source": [
        "Bg_Lin = BaggingRegressor(base_estimator=LinR,random_state=2)\n",
        "\n",
        "model5 = Bg_Lin.fit(X_train_sc,y_train)\n",
        "Y_predict=model5.predict(X_test_sc)\n",
        "print('Bagging  Regressor')\n",
        "print('Mean Absolute Error:', mean_absolute_error(y_test, Y_predict))  \n",
        "print('Mean Squared Error:', mean_squared_error(y_test, Y_predict))  \n",
        "print('Root Mean Squared Error:', np.sqrt(mean_squared_error(y_test, Y_predict)))\n",
        "print('R2 : ',r2_score(y_test, Y_predict))"
      ]
    },
    {
      "cell_type": "code",
      "execution_count": 70,
      "metadata": {
        "colab": {
          "base_uri": "https://localhost:8080/",
          "height": 363
        },
        "id": "ju4xADW7LFOr",
        "outputId": "14ae4a79-7b19-4ce1-df06-d1583eb96134"
      },
      "outputs": [
        {
          "output_type": "execute_result",
          "data": {
            "text/html": [
              "\n",
              "  <div id=\"df-bbd02544-cf25-4d62-8bd3-95f50c23ec2f\">\n",
              "    <div class=\"colab-df-container\">\n",
              "      <div>\n",
              "<style scoped>\n",
              "    .dataframe tbody tr th:only-of-type {\n",
              "        vertical-align: middle;\n",
              "    }\n",
              "\n",
              "    .dataframe tbody tr th {\n",
              "        vertical-align: top;\n",
              "    }\n",
              "\n",
              "    .dataframe thead th {\n",
              "        text-align: right;\n",
              "    }\n",
              "</style>\n",
              "<table border=\"1\" class=\"dataframe\">\n",
              "  <thead>\n",
              "    <tr style=\"text-align: right;\">\n",
              "      <th></th>\n",
              "      <th>Prediction</th>\n",
              "      <th>Actual</th>\n",
              "    </tr>\n",
              "  </thead>\n",
              "  <tbody>\n",
              "    <tr>\n",
              "      <th>0</th>\n",
              "      <td>-6.768024</td>\n",
              "      <td>-7.0</td>\n",
              "    </tr>\n",
              "    <tr>\n",
              "      <th>1</th>\n",
              "      <td>-9.077236</td>\n",
              "      <td>-15.0</td>\n",
              "    </tr>\n",
              "    <tr>\n",
              "      <th>2</th>\n",
              "      <td>4.253937</td>\n",
              "      <td>7.0</td>\n",
              "    </tr>\n",
              "    <tr>\n",
              "      <th>3</th>\n",
              "      <td>24.248227</td>\n",
              "      <td>16.0</td>\n",
              "    </tr>\n",
              "    <tr>\n",
              "      <th>4</th>\n",
              "      <td>-9.707066</td>\n",
              "      <td>4.0</td>\n",
              "    </tr>\n",
              "    <tr>\n",
              "      <th>5</th>\n",
              "      <td>-6.533298</td>\n",
              "      <td>-8.0</td>\n",
              "    </tr>\n",
              "    <tr>\n",
              "      <th>6</th>\n",
              "      <td>-13.686988</td>\n",
              "      <td>-13.0</td>\n",
              "    </tr>\n",
              "    <tr>\n",
              "      <th>7</th>\n",
              "      <td>-12.657758</td>\n",
              "      <td>-18.0</td>\n",
              "    </tr>\n",
              "    <tr>\n",
              "      <th>8</th>\n",
              "      <td>-5.368528</td>\n",
              "      <td>-5.0</td>\n",
              "    </tr>\n",
              "    <tr>\n",
              "      <th>9</th>\n",
              "      <td>-4.430467</td>\n",
              "      <td>-3.0</td>\n",
              "    </tr>\n",
              "  </tbody>\n",
              "</table>\n",
              "</div>\n",
              "      <button class=\"colab-df-convert\" onclick=\"convertToInteractive('df-bbd02544-cf25-4d62-8bd3-95f50c23ec2f')\"\n",
              "              title=\"Convert this dataframe to an interactive table.\"\n",
              "              style=\"display:none;\">\n",
              "        \n",
              "  <svg xmlns=\"http://www.w3.org/2000/svg\" height=\"24px\"viewBox=\"0 0 24 24\"\n",
              "       width=\"24px\">\n",
              "    <path d=\"M0 0h24v24H0V0z\" fill=\"none\"/>\n",
              "    <path d=\"M18.56 5.44l.94 2.06.94-2.06 2.06-.94-2.06-.94-.94-2.06-.94 2.06-2.06.94zm-11 1L8.5 8.5l.94-2.06 2.06-.94-2.06-.94L8.5 2.5l-.94 2.06-2.06.94zm10 10l.94 2.06.94-2.06 2.06-.94-2.06-.94-.94-2.06-.94 2.06-2.06.94z\"/><path d=\"M17.41 7.96l-1.37-1.37c-.4-.4-.92-.59-1.43-.59-.52 0-1.04.2-1.43.59L10.3 9.45l-7.72 7.72c-.78.78-.78 2.05 0 2.83L4 21.41c.39.39.9.59 1.41.59.51 0 1.02-.2 1.41-.59l7.78-7.78 2.81-2.81c.8-.78.8-2.07 0-2.86zM5.41 20L4 18.59l7.72-7.72 1.47 1.35L5.41 20z\"/>\n",
              "  </svg>\n",
              "      </button>\n",
              "      \n",
              "  <style>\n",
              "    .colab-df-container {\n",
              "      display:flex;\n",
              "      flex-wrap:wrap;\n",
              "      gap: 12px;\n",
              "    }\n",
              "\n",
              "    .colab-df-convert {\n",
              "      background-color: #E8F0FE;\n",
              "      border: none;\n",
              "      border-radius: 50%;\n",
              "      cursor: pointer;\n",
              "      display: none;\n",
              "      fill: #1967D2;\n",
              "      height: 32px;\n",
              "      padding: 0 0 0 0;\n",
              "      width: 32px;\n",
              "    }\n",
              "\n",
              "    .colab-df-convert:hover {\n",
              "      background-color: #E2EBFA;\n",
              "      box-shadow: 0px 1px 2px rgba(60, 64, 67, 0.3), 0px 1px 3px 1px rgba(60, 64, 67, 0.15);\n",
              "      fill: #174EA6;\n",
              "    }\n",
              "\n",
              "    [theme=dark] .colab-df-convert {\n",
              "      background-color: #3B4455;\n",
              "      fill: #D2E3FC;\n",
              "    }\n",
              "\n",
              "    [theme=dark] .colab-df-convert:hover {\n",
              "      background-color: #434B5C;\n",
              "      box-shadow: 0px 1px 3px 1px rgba(0, 0, 0, 0.15);\n",
              "      filter: drop-shadow(0px 1px 2px rgba(0, 0, 0, 0.3));\n",
              "      fill: #FFFFFF;\n",
              "    }\n",
              "  </style>\n",
              "\n",
              "      <script>\n",
              "        const buttonEl =\n",
              "          document.querySelector('#df-bbd02544-cf25-4d62-8bd3-95f50c23ec2f button.colab-df-convert');\n",
              "        buttonEl.style.display =\n",
              "          google.colab.kernel.accessAllowed ? 'block' : 'none';\n",
              "\n",
              "        async function convertToInteractive(key) {\n",
              "          const element = document.querySelector('#df-bbd02544-cf25-4d62-8bd3-95f50c23ec2f');\n",
              "          const dataTable =\n",
              "            await google.colab.kernel.invokeFunction('convertToInteractive',\n",
              "                                                     [key], {});\n",
              "          if (!dataTable) return;\n",
              "\n",
              "          const docLinkHtml = 'Like what you see? Visit the ' +\n",
              "            '<a target=\"_blank\" href=https://colab.research.google.com/notebooks/data_table.ipynb>data table notebook</a>'\n",
              "            + ' to learn more about interactive tables.';\n",
              "          element.innerHTML = '';\n",
              "          dataTable['output_type'] = 'display_data';\n",
              "          await google.colab.output.renderOutput(dataTable, element);\n",
              "          const docLink = document.createElement('div');\n",
              "          docLink.innerHTML = docLinkHtml;\n",
              "          element.appendChild(docLink);\n",
              "        }\n",
              "      </script>\n",
              "    </div>\n",
              "  </div>\n",
              "  "
            ],
            "text/plain": [
              "   Prediction  Actual\n",
              "0   -6.768024    -7.0\n",
              "1   -9.077236   -15.0\n",
              "2    4.253937     7.0\n",
              "3   24.248227    16.0\n",
              "4   -9.707066     4.0\n",
              "5   -6.533298    -8.0\n",
              "6  -13.686988   -13.0\n",
              "7  -12.657758   -18.0\n",
              "8   -5.368528    -5.0\n",
              "9   -4.430467    -3.0"
            ]
          },
          "metadata": {},
          "execution_count": 70
        }
      ],
      "source": [
        "results5 = pd.DataFrame({\"Prediction\": Y_predict, \"Actual\": y_test}).reset_index(drop=True)\n",
        "results5.head(10)"
      ]
    },
    {
      "cell_type": "code",
      "execution_count": 71,
      "metadata": {
        "colab": {
          "base_uri": "https://localhost:8080/",
          "height": 279
        },
        "id": "ftg9zPEbLJLZ",
        "outputId": "c10d585e-1483-4be7-e337-2e84c66ca45a"
      },
      "outputs": [
        {
          "output_type": "display_data",
          "data": {
            "image/png": "[encoded data removed]",
            "text/plain": [
              "<Figure size 432x288 with 1 Axes>"
            ]
          },
          "metadata": {
            "needs_background": "light"
          }
        }
      ],
      "source": [
        "plt.scatter( y_test, Y_predict)\n",
        "plt.xlabel('Actual')\n",
        "plt.ylabel('Prediction')\n",
        "plt.show()"
      ]
    },
    {
      "cell_type": "code",
      "execution_count": 72,
      "metadata": {
        "colab": {
          "base_uri": "https://localhost:8080/"
        },
        "id": "tCsPrNtkJcQf",
        "outputId": "698a417e-fb94-427a-cff7-ec1dc221f9ee"
      },
      "outputs": [
        {
          "output_type": "execute_result",
          "data": {
            "text/plain": [
              "0.9682157395960815"
            ]
          },
          "metadata": {},
          "execution_count": 72
        }
      ],
      "source": [
        "explained_variance_score(y_test, Y_predict)"
      ]
    },
    {
      "cell_type": "code",
      "execution_count": 73,
      "metadata": {
        "colab": {
          "base_uri": "https://localhost:8080/"
        },
        "id": "DwiSccXAJcc-",
        "outputId": "a8a8167c-0bfd-4f1e-9de8-ef18024a2282"
      },
      "outputs": [
        {
          "output_type": "stream",
          "name": "stdout",
          "text": [
            "Accuracy score (training): 0.970\n",
            "Accuracy score (validation): 0.968\n"
          ]
        }
      ],
      "source": [
        "print(\"Accuracy score (training): {0:.3f}\".format(model5.score(X_train_sc, y_train)))\n",
        "print(\"Accuracy score (validation): {0:.3f}\".format( model5.score( X_test_sc, y_test)))"
      ]
    },
    {
      "cell_type": "code",
      "source": [
        "plt.scatter(model5.predict(X_train_sc), model5.predict(X_train_sc) - y_train, c=\"blue\", label=\"Training Data\")\n",
        "plt.scatter(model5.predict(X_test_sc), model5.predict(X_test_sc) - y_test, c=\"orange\", label=\"Testing Data\")\n",
        "plt.legend()\n",
        "plt.hlines(y=0, xmin=y.min(), xmax=y.max())\n",
        "plt.title(\"Residual Plot\")\n",
        "plt.show()"
      ],
      "metadata": {
        "colab": {
          "base_uri": "https://localhost:8080/",
          "height": 281
        },
        "id": "D3MjX5HVdR5U",
        "outputId": "56c3d662-4bfd-4170-f4b9-10f0b0e21d12"
      },
      "execution_count": 74,
      "outputs": [
        {
          "output_type": "display_data",
          "data": {
            "image/png": "[encoded data removed]",
            "text/plain": [
              "<Figure size 432x288 with 1 Axes>"
            ]
          },
          "metadata": {
            "needs_background": "light"
          }
        }
      ]
    }
  ],
  "metadata": {
    "colab": {
      "collapsed_sections": [],
      "name": "Model_4.ipynb",
      "provenance": []
    },
    "kernelspec": {
      "display_name": "PythonData",
      "language": "python",
      "name": "pythondata"
    },
    "language_info": {
      "codemirror_mode": {
        "name": "ipython",
        "version": 3
      },
      "file_extension": ".py",
      "mimetype": "text/x-python",
      "name": "python",
      "nbconvert_exporter": "python",
      "pygments_lexer": "ipython3",
      "version": "3.7.10"
    }
  },
  "nbformat": 4,
  "nbformat_minor": 0
}