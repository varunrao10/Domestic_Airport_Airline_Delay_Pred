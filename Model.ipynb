{
  "cells": [
    {
      "cell_type": "code",
      "execution_count": null,
      "metadata": {
        "id": "Gtt063w97Asa"
      },
      "outputs": [],
      "source": [
        "import pandas as pd\n",
        "import numpy as np"
      ]
    },
    {
      "cell_type": "code",
      "execution_count": null,
      "metadata": {
        "id": "8dD0b8Nt7Jbc"
      },
      "outputs": [],
      "source": [
        "# Data Loading\n",
        "file_path = '2018_clean_final.csv'\n",
        "flight_df = pd.read_csv(file_path, error_bad_lines=False)"
      ]
    },
    {
      "cell_type": "code",
      "execution_count": null,
      "metadata": {
        "colab": {
          "base_uri": "https://localhost:8080/"
        },
        "id": "4xIOcXbB7cS2",
        "outputId": "7a2f6217-c16d-43b7-8239-6c5e267ffea8"
      },
      "outputs": [
        {
          "output_type": "stream",
          "name": "stdout",
          "text": [
            "<class 'pandas.core.frame.DataFrame'>\n",
            "RangeIndex: 3757801 entries, 0 to 3757800\n",
            "Data columns (total 31 columns):\n",
            " #   Column               Dtype  \n",
            "---  ------               -----  \n",
            " 0   FL_DATE              object \n",
            " 1   OP_CARRIER           object \n",
            " 2   CRS_DEP_TIME         int64  \n",
            " 3   DEP_DELAY            float64\n",
            " 4   TAXI_OUT             float64\n",
            " 5   WHEELS_OFF           float64\n",
            " 6   WHEELS_ON            float64\n",
            " 7   TAXI_IN              float64\n",
            " 8   CRS_ARR_TIME         int64  \n",
            " 9   ARR_DELAY            float64\n",
            " 10  CRS_ELAPSED_TIME     float64\n",
            " 11  ACTUAL_ELAPSED_TIME  float64\n",
            " 12  AIR_TIME             float64\n",
            " 13  DISTANCE             float64\n",
            " 14  CARRIER_DELAY        float64\n",
            " 15  WEATHER_DELAY        float64\n",
            " 16  NAS_DELAY            float64\n",
            " 17  SECURITY_DELAY       float64\n",
            " 18  LATE_AIRCRAFT_DELAY  float64\n",
            " 19  Org_Airport          object \n",
            " 20  Org_latitude         float64\n",
            " 21  Org_longitude        float64\n",
            " 22  Origin_city          object \n",
            " 23  Dest_Airport         object \n",
            " 24  Dest_latitude        float64\n",
            " 25  Dest_longitude       float64\n",
            " 26  Dest_city            object \n",
            " 27  month                float64\n",
            " 28  Day                  float64\n",
            " 29  MONTH_abbr           object \n",
            " 30  DELAY_STATUS         float64\n",
            "dtypes: float64(22), int64(2), object(7)\n",
            "memory usage: 888.8+ MB\n"
          ]
        }
      ],
      "source": [
        "flight_df.info()"
      ]
    },
    {
      "cell_type": "code",
      "execution_count": null,
      "metadata": {
        "colab": {
          "base_uri": "https://localhost:8080/"
        },
        "id": "ceOO8Xf7-eUd",
        "outputId": "ec400c2b-a984-4dd6-b77f-d2c23ddb168f"
      },
      "outputs": [
        {
          "output_type": "execute_result",
          "data": {
            "text/plain": [
              "(3757801, 31)"
            ]
          },
          "metadata": {},
          "execution_count": 96
        }
      ],
      "source": [
        "flight_df.shape"
      ]
    },
    {
      "cell_type": "code",
      "execution_count": null,
      "metadata": {
        "colab": {
          "base_uri": "https://localhost:8080/"
        },
        "id": "qJXlVLzi-w-O",
        "outputId": "6e87df9a-aacb-4447-8ab2-0cd28da7cc75"
      },
      "outputs": [
        {
          "output_type": "execute_result",
          "data": {
            "text/plain": [
              "FL_DATE                0\n",
              "OP_CARRIER             0\n",
              "CRS_DEP_TIME           0\n",
              "DEP_DELAY              0\n",
              "TAXI_OUT               0\n",
              "WHEELS_OFF             0\n",
              "WHEELS_ON              0\n",
              "TAXI_IN                0\n",
              "CRS_ARR_TIME           0\n",
              "ARR_DELAY              0\n",
              "CRS_ELAPSED_TIME       0\n",
              "ACTUAL_ELAPSED_TIME    1\n",
              "AIR_TIME               1\n",
              "DISTANCE               1\n",
              "CARRIER_DELAY          1\n",
              "WEATHER_DELAY          1\n",
              "NAS_DELAY              1\n",
              "SECURITY_DELAY         1\n",
              "LATE_AIRCRAFT_DELAY    1\n",
              "Org_Airport            1\n",
              "Org_latitude           1\n",
              "Org_longitude          1\n",
              "Origin_city            1\n",
              "Dest_Airport           1\n",
              "Dest_latitude          1\n",
              "Dest_longitude         1\n",
              "Dest_city              1\n",
              "month                  1\n",
              "Day                    1\n",
              "MONTH_abbr             1\n",
              "DELAY_STATUS           1\n",
              "dtype: int64"
            ]
          },
          "metadata": {},
          "execution_count": 97
        }
      ],
      "source": [
        "flight_df.isnull().sum()\n"
      ]
    },
    {
      "cell_type": "code",
      "source": [
        "flight_df = flight_df.dropna()"
      ],
      "metadata": {
        "id": "Jdj5YVC75yz5"
      },
      "execution_count": null,
      "outputs": []
    },
    {
      "cell_type": "code",
      "source": [
        "flight_df.isnull().sum()"
      ],
      "metadata": {
        "colab": {
          "base_uri": "https://localhost:8080/"
        },
        "id": "MODvP1x56UXj",
        "outputId": "c3c79bdb-4321-43fc-f811-3e89baa0536e"
      },
      "execution_count": null,
      "outputs": [
        {
          "output_type": "execute_result",
          "data": {
            "text/plain": [
              "FL_DATE                0\n",
              "OP_CARRIER             0\n",
              "CRS_DEP_TIME           0\n",
              "DEP_DELAY              0\n",
              "TAXI_OUT               0\n",
              "WHEELS_OFF             0\n",
              "WHEELS_ON              0\n",
              "TAXI_IN                0\n",
              "CRS_ARR_TIME           0\n",
              "ARR_DELAY              0\n",
              "CRS_ELAPSED_TIME       0\n",
              "ACTUAL_ELAPSED_TIME    0\n",
              "AIR_TIME               0\n",
              "DISTANCE               0\n",
              "CARRIER_DELAY          0\n",
              "WEATHER_DELAY          0\n",
              "NAS_DELAY              0\n",
              "SECURITY_DELAY         0\n",
              "LATE_AIRCRAFT_DELAY    0\n",
              "Org_Airport            0\n",
              "Org_latitude           0\n",
              "Org_longitude          0\n",
              "Origin_city            0\n",
              "Dest_Airport           0\n",
              "Dest_latitude          0\n",
              "Dest_longitude         0\n",
              "Dest_city              0\n",
              "month                  0\n",
              "Day                    0\n",
              "MONTH_abbr             0\n",
              "DELAY_STATUS           0\n",
              "dtype: int64"
            ]
          },
          "metadata": {},
          "execution_count": 99
        }
      ]
    },
    {
      "cell_type": "code",
      "execution_count": null,
      "metadata": {
        "id": "v0vT1223Auih",
        "outputId": "415031e3-cc1d-483a-82f6-70edf00423c6",
        "colab": {
          "base_uri": "https://localhost:8080/"
        }
      },
      "outputs": [
        {
          "output_type": "execute_result",
          "data": {
            "text/plain": [
              "Index(['FL_DATE', 'OP_CARRIER', 'CRS_DEP_TIME', 'DEP_DELAY', 'TAXI_OUT',\n",
              "       'WHEELS_OFF', 'WHEELS_ON', 'TAXI_IN', 'CRS_ARR_TIME', 'ARR_DELAY',\n",
              "       'CRS_ELAPSED_TIME', 'ACTUAL_ELAPSED_TIME', 'AIR_TIME', 'DISTANCE',\n",
              "       'CARRIER_DELAY', 'WEATHER_DELAY', 'NAS_DELAY', 'SECURITY_DELAY',\n",
              "       'LATE_AIRCRAFT_DELAY', 'Org_Airport', 'Org_latitude', 'Org_longitude',\n",
              "       'Origin_city', 'Dest_Airport', 'Dest_latitude', 'Dest_longitude',\n",
              "       'Dest_city', 'month', 'Day', 'MONTH_abbr', 'DELAY_STATUS', 'WEEKDAY'],\n",
              "      dtype='object')"
            ]
          },
          "metadata": {},
          "execution_count": 100
        }
      ],
      "source": [
        "flight_df['FL_DATE'] = pd.to_datetime(flight_df['FL_DATE'])\n",
        "flight_df['WEEKDAY'] = flight_df['FL_DATE'].dt.dayofweek\n",
        "flight_df.columns"
      ]
    },
    {
      "cell_type": "code",
      "execution_count": null,
      "metadata": {
        "id": "3HU7MZ7vTV1k",
        "outputId": "7d10dcff-4a1c-42a7-d312-579a6cf08219",
        "colab": {
          "base_uri": "https://localhost:8080/"
        }
      },
      "outputs": [
        {
          "output_type": "execute_result",
          "data": {
            "text/plain": [
              "0    563969\n",
              "4    557962\n",
              "3    554003\n",
              "2    539842\n",
              "6    536791\n",
              "1    534524\n",
              "5    470709\n",
              "Name: WEEKDAY, dtype: int64"
            ]
          },
          "metadata": {},
          "execution_count": 101
        }
      ],
      "source": [
        "flight_df.WEEKDAY.value_counts()"
      ]
    },
    {
      "cell_type": "code",
      "execution_count": null,
      "metadata": {
        "id": "12KGRfY5TV1l",
        "outputId": "5362af75-bd30-4210-af8c-b9d64ca951b6",
        "colab": {
          "base_uri": "https://localhost:8080/",
          "height": 531
        }
      },
      "outputs": [
        {
          "output_type": "execute_result",
          "data": {
            "text/html": [
              "\n",
              "  <div id=\"df-9fe79100-a33e-438a-9d3d-cd2ccb554100\">\n",
              "    <div class=\"colab-df-container\">\n",
              "      <div>\n",
              "<style scoped>\n",
              "    .dataframe tbody tr th:only-of-type {\n",
              "        vertical-align: middle;\n",
              "    }\n",
              "\n",
              "    .dataframe tbody tr th {\n",
              "        vertical-align: top;\n",
              "    }\n",
              "\n",
              "    .dataframe thead th {\n",
              "        text-align: right;\n",
              "    }\n",
              "</style>\n",
              "<table border=\"1\" class=\"dataframe\">\n",
              "  <thead>\n",
              "    <tr style=\"text-align: right;\">\n",
              "      <th></th>\n",
              "      <th>FL_DATE</th>\n",
              "      <th>OP_CARRIER</th>\n",
              "      <th>CRS_DEP_TIME</th>\n",
              "      <th>DEP_DELAY</th>\n",
              "      <th>TAXI_OUT</th>\n",
              "      <th>WHEELS_OFF</th>\n",
              "      <th>WHEELS_ON</th>\n",
              "      <th>TAXI_IN</th>\n",
              "      <th>CRS_ARR_TIME</th>\n",
              "      <th>ARR_DELAY</th>\n",
              "      <th>CRS_ELAPSED_TIME</th>\n",
              "      <th>ACTUAL_ELAPSED_TIME</th>\n",
              "      <th>AIR_TIME</th>\n",
              "      <th>DISTANCE</th>\n",
              "      <th>CARRIER_DELAY</th>\n",
              "      <th>WEATHER_DELAY</th>\n",
              "      <th>NAS_DELAY</th>\n",
              "      <th>SECURITY_DELAY</th>\n",
              "      <th>LATE_AIRCRAFT_DELAY</th>\n",
              "      <th>Org_Airport</th>\n",
              "      <th>Org_latitude</th>\n",
              "      <th>Org_longitude</th>\n",
              "      <th>Origin_city</th>\n",
              "      <th>Dest_Airport</th>\n",
              "      <th>Dest_latitude</th>\n",
              "      <th>Dest_longitude</th>\n",
              "      <th>Dest_city</th>\n",
              "      <th>month</th>\n",
              "      <th>Day</th>\n",
              "      <th>MONTH_abbr</th>\n",
              "      <th>DELAY_STATUS</th>\n",
              "      <th>WEEKDAY</th>\n",
              "    </tr>\n",
              "  </thead>\n",
              "  <tbody>\n",
              "    <tr>\n",
              "      <th>0</th>\n",
              "      <td>2018-01-01</td>\n",
              "      <td>United Airlines</td>\n",
              "      <td>1517</td>\n",
              "      <td>-5.0</td>\n",
              "      <td>15.0</td>\n",
              "      <td>1527.0</td>\n",
              "      <td>1712.0</td>\n",
              "      <td>10.0</td>\n",
              "      <td>1745</td>\n",
              "      <td>-23.0</td>\n",
              "      <td>268.0</td>\n",
              "      <td>250.0</td>\n",
              "      <td>225.0</td>\n",
              "      <td>1605.0</td>\n",
              "      <td>0.0</td>\n",
              "      <td>0.0</td>\n",
              "      <td>0.0</td>\n",
              "      <td>0.0</td>\n",
              "      <td>0.0</td>\n",
              "      <td>Newark Liberty International Airport</td>\n",
              "      <td>40.692501</td>\n",
              "      <td>-74.168701</td>\n",
              "      <td>New York</td>\n",
              "      <td>Denver International Airport</td>\n",
              "      <td>39.861698</td>\n",
              "      <td>-104.672996</td>\n",
              "      <td>Denver</td>\n",
              "      <td>1.0</td>\n",
              "      <td>1.0</td>\n",
              "      <td>Jan</td>\n",
              "      <td>0.0</td>\n",
              "      <td>0</td>\n",
              "    </tr>\n",
              "    <tr>\n",
              "      <th>1</th>\n",
              "      <td>2018-01-01</td>\n",
              "      <td>United Airlines</td>\n",
              "      <td>1657</td>\n",
              "      <td>161.0</td>\n",
              "      <td>14.0</td>\n",
              "      <td>1952.0</td>\n",
              "      <td>2130.0</td>\n",
              "      <td>7.0</td>\n",
              "      <td>1925</td>\n",
              "      <td>132.0</td>\n",
              "      <td>268.0</td>\n",
              "      <td>239.0</td>\n",
              "      <td>218.0</td>\n",
              "      <td>1605.0</td>\n",
              "      <td>16.0</td>\n",
              "      <td>0.0</td>\n",
              "      <td>0.0</td>\n",
              "      <td>0.0</td>\n",
              "      <td>116.0</td>\n",
              "      <td>Newark Liberty International Airport</td>\n",
              "      <td>40.692501</td>\n",
              "      <td>-74.168701</td>\n",
              "      <td>New York</td>\n",
              "      <td>Denver International Airport</td>\n",
              "      <td>39.861698</td>\n",
              "      <td>-104.672996</td>\n",
              "      <td>Denver</td>\n",
              "      <td>1.0</td>\n",
              "      <td>1.0</td>\n",
              "      <td>Jan</td>\n",
              "      <td>1.0</td>\n",
              "      <td>0</td>\n",
              "    </tr>\n",
              "    <tr>\n",
              "      <th>2</th>\n",
              "      <td>2018-01-01</td>\n",
              "      <td>United Airlines</td>\n",
              "      <td>600</td>\n",
              "      <td>-1.0</td>\n",
              "      <td>14.0</td>\n",
              "      <td>613.0</td>\n",
              "      <td>806.0</td>\n",
              "      <td>6.0</td>\n",
              "      <td>835</td>\n",
              "      <td>-23.0</td>\n",
              "      <td>275.0</td>\n",
              "      <td>253.0</td>\n",
              "      <td>233.0</td>\n",
              "      <td>1605.0</td>\n",
              "      <td>0.0</td>\n",
              "      <td>0.0</td>\n",
              "      <td>0.0</td>\n",
              "      <td>0.0</td>\n",
              "      <td>0.0</td>\n",
              "      <td>Newark Liberty International Airport</td>\n",
              "      <td>40.692501</td>\n",
              "      <td>-74.168701</td>\n",
              "      <td>New York</td>\n",
              "      <td>Denver International Airport</td>\n",
              "      <td>39.861698</td>\n",
              "      <td>-104.672996</td>\n",
              "      <td>Denver</td>\n",
              "      <td>1.0</td>\n",
              "      <td>1.0</td>\n",
              "      <td>Jan</td>\n",
              "      <td>0.0</td>\n",
              "      <td>0</td>\n",
              "    </tr>\n",
              "    <tr>\n",
              "      <th>3</th>\n",
              "      <td>2018-01-01</td>\n",
              "      <td>United Airlines</td>\n",
              "      <td>1855</td>\n",
              "      <td>11.0</td>\n",
              "      <td>26.0</td>\n",
              "      <td>1932.0</td>\n",
              "      <td>2112.0</td>\n",
              "      <td>12.0</td>\n",
              "      <td>2126</td>\n",
              "      <td>-2.0</td>\n",
              "      <td>271.0</td>\n",
              "      <td>258.0</td>\n",
              "      <td>220.0</td>\n",
              "      <td>1605.0</td>\n",
              "      <td>0.0</td>\n",
              "      <td>0.0</td>\n",
              "      <td>0.0</td>\n",
              "      <td>0.0</td>\n",
              "      <td>0.0</td>\n",
              "      <td>Newark Liberty International Airport</td>\n",
              "      <td>40.692501</td>\n",
              "      <td>-74.168701</td>\n",
              "      <td>New York</td>\n",
              "      <td>Denver International Airport</td>\n",
              "      <td>39.861698</td>\n",
              "      <td>-104.672996</td>\n",
              "      <td>Denver</td>\n",
              "      <td>1.0</td>\n",
              "      <td>1.0</td>\n",
              "      <td>Jan</td>\n",
              "      <td>0.0</td>\n",
              "      <td>0</td>\n",
              "    </tr>\n",
              "    <tr>\n",
              "      <th>4</th>\n",
              "      <td>2018-01-01</td>\n",
              "      <td>United Airlines</td>\n",
              "      <td>1150</td>\n",
              "      <td>-1.0</td>\n",
              "      <td>13.0</td>\n",
              "      <td>1202.0</td>\n",
              "      <td>1353.0</td>\n",
              "      <td>7.0</td>\n",
              "      <td>1418</td>\n",
              "      <td>-18.0</td>\n",
              "      <td>268.0</td>\n",
              "      <td>251.0</td>\n",
              "      <td>231.0</td>\n",
              "      <td>1605.0</td>\n",
              "      <td>0.0</td>\n",
              "      <td>0.0</td>\n",
              "      <td>0.0</td>\n",
              "      <td>0.0</td>\n",
              "      <td>0.0</td>\n",
              "      <td>Newark Liberty International Airport</td>\n",
              "      <td>40.692501</td>\n",
              "      <td>-74.168701</td>\n",
              "      <td>New York</td>\n",
              "      <td>Denver International Airport</td>\n",
              "      <td>39.861698</td>\n",
              "      <td>-104.672996</td>\n",
              "      <td>Denver</td>\n",
              "      <td>1.0</td>\n",
              "      <td>1.0</td>\n",
              "      <td>Jan</td>\n",
              "      <td>0.0</td>\n",
              "      <td>0</td>\n",
              "    </tr>\n",
              "  </tbody>\n",
              "</table>\n",
              "</div>\n",
              "      <button class=\"colab-df-convert\" onclick=\"convertToInteractive('df-9fe79100-a33e-438a-9d3d-cd2ccb554100')\"\n",
              "              title=\"Convert this dataframe to an interactive table.\"\n",
              "              style=\"display:none;\">\n",
              "        \n",
              "  <svg xmlns=\"http://www.w3.org/2000/svg\" height=\"24px\"viewBox=\"0 0 24 24\"\n",
              "       width=\"24px\">\n",
              "    <path d=\"M0 0h24v24H0V0z\" fill=\"none\"/>\n",
              "    <path d=\"M18.56 5.44l.94 2.06.94-2.06 2.06-.94-2.06-.94-.94-2.06-.94 2.06-2.06.94zm-11 1L8.5 8.5l.94-2.06 2.06-.94-2.06-.94L8.5 2.5l-.94 2.06-2.06.94zm10 10l.94 2.06.94-2.06 2.06-.94-2.06-.94-.94-2.06-.94 2.06-2.06.94z\"/><path d=\"M17.41 7.96l-1.37-1.37c-.4-.4-.92-.59-1.43-.59-.52 0-1.04.2-1.43.59L10.3 9.45l-7.72 7.72c-.78.78-.78 2.05 0 2.83L4 21.41c.39.39.9.59 1.41.59.51 0 1.02-.2 1.41-.59l7.78-7.78 2.81-2.81c.8-.78.8-2.07 0-2.86zM5.41 20L4 18.59l7.72-7.72 1.47 1.35L5.41 20z\"/>\n",
              "  </svg>\n",
              "      </button>\n",
              "      \n",
              "  <style>\n",
              "    .colab-df-container {\n",
              "      display:flex;\n",
              "      flex-wrap:wrap;\n",
              "      gap: 12px;\n",
              "    }\n",
              "\n",
              "    .colab-df-convert {\n",
              "      background-color: #E8F0FE;\n",
              "      border: none;\n",
              "      border-radius: 50%;\n",
              "      cursor: pointer;\n",
              "      display: none;\n",
              "      fill: #1967D2;\n",
              "      height: 32px;\n",
              "      padding: 0 0 0 0;\n",
              "      width: 32px;\n",
              "    }\n",
              "\n",
              "    .colab-df-convert:hover {\n",
              "      background-color: #E2EBFA;\n",
              "      box-shadow: 0px 1px 2px rgba(60, 64, 67, 0.3), 0px 1px 3px 1px rgba(60, 64, 67, 0.15);\n",
              "      fill: #174EA6;\n",
              "    }\n",
              "\n",
              "    [theme=dark] .colab-df-convert {\n",
              "      background-color: #3B4455;\n",
              "      fill: #D2E3FC;\n",
              "    }\n",
              "\n",
              "    [theme=dark] .colab-df-convert:hover {\n",
              "      background-color: #434B5C;\n",
              "      box-shadow: 0px 1px 3px 1px rgba(0, 0, 0, 0.15);\n",
              "      filter: drop-shadow(0px 1px 2px rgba(0, 0, 0, 0.3));\n",
              "      fill: #FFFFFF;\n",
              "    }\n",
              "  </style>\n",
              "\n",
              "      <script>\n",
              "        const buttonEl =\n",
              "          document.querySelector('#df-9fe79100-a33e-438a-9d3d-cd2ccb554100 button.colab-df-convert');\n",
              "        buttonEl.style.display =\n",
              "          google.colab.kernel.accessAllowed ? 'block' : 'none';\n",
              "\n",
              "        async function convertToInteractive(key) {\n",
              "          const element = document.querySelector('#df-9fe79100-a33e-438a-9d3d-cd2ccb554100');\n",
              "          const dataTable =\n",
              "            await google.colab.kernel.invokeFunction('convertToInteractive',\n",
              "                                                     [key], {});\n",
              "          if (!dataTable) return;\n",
              "\n",
              "          const docLinkHtml = 'Like what you see? Visit the ' +\n",
              "            '<a target=\"_blank\" href=https://colab.research.google.com/notebooks/data_table.ipynb>data table notebook</a>'\n",
              "            + ' to learn more about interactive tables.';\n",
              "          element.innerHTML = '';\n",
              "          dataTable['output_type'] = 'display_data';\n",
              "          await google.colab.output.renderOutput(dataTable, element);\n",
              "          const docLink = document.createElement('div');\n",
              "          docLink.innerHTML = docLinkHtml;\n",
              "          element.appendChild(docLink);\n",
              "        }\n",
              "      </script>\n",
              "    </div>\n",
              "  </div>\n",
              "  "
            ],
            "text/plain": [
              "     FL_DATE       OP_CARRIER  CRS_DEP_TIME  ...  MONTH_abbr  DELAY_STATUS  WEEKDAY\n",
              "0 2018-01-01  United Airlines          1517  ...         Jan           0.0        0\n",
              "1 2018-01-01  United Airlines          1657  ...         Jan           1.0        0\n",
              "2 2018-01-01  United Airlines           600  ...         Jan           0.0        0\n",
              "3 2018-01-01  United Airlines          1855  ...         Jan           0.0        0\n",
              "4 2018-01-01  United Airlines          1150  ...         Jan           0.0        0\n",
              "\n",
              "[5 rows x 32 columns]"
            ]
          },
          "metadata": {},
          "execution_count": 102
        }
      ],
      "source": [
        "flight_df.head()"
      ]
    },
    {
      "cell_type": "code",
      "execution_count": null,
      "metadata": {
        "id": "llxCzW1QTV1m"
      },
      "outputs": [],
      "source": [
        "flight_df['CRS_DEP_TIME'] = np.ceil(flight_df['CRS_DEP_TIME']/600).apply(int)\n",
        "flight_df['WHEELS_OFF'] = np.ceil(flight_df['WHEELS_OFF']/600).apply(int) \n",
        "flight_df['WHEELS_ON'] = np.ceil(flight_df['WHEELS_ON']/600).apply(int)\n",
        "flight_df['CRS_ARR_TIME'] = np.ceil(flight_df['CRS_ARR_TIME']/600).apply(int)"
      ]
    },
    {
      "cell_type": "code",
      "execution_count": null,
      "metadata": {
        "id": "94Spy00pTV1o",
        "outputId": "b47a361a-beb0-45b1-bc06-2ea21dd59598",
        "colab": {
          "base_uri": "https://localhost:8080/"
        }
      },
      "outputs": [
        {
          "output_type": "execute_result",
          "data": {
            "text/plain": [
              "2    0.382495\n",
              "3    0.354995\n",
              "4    0.206689\n",
              "1    0.055821\n",
              "Name: CRS_DEP_TIME, dtype: float64"
            ]
          },
          "metadata": {},
          "execution_count": 104
        }
      ],
      "source": [
        "flight_df.CRS_DEP_TIME.value_counts(normalize=True)"
      ]
    },
    {
      "cell_type": "code",
      "execution_count": null,
      "metadata": {
        "id": "qGdVbbVHTV1p",
        "outputId": "aededaa0-041e-43ff-8af6-39948942a5d3",
        "colab": {
          "base_uri": "https://localhost:8080/"
        }
      },
      "outputs": [
        {
          "output_type": "execute_result",
          "data": {
            "text/plain": [
              "3    0.344667\n",
              "4    0.321613\n",
              "2    0.304020\n",
              "1    0.029699\n",
              "Name: CRS_ARR_TIME, dtype: float64"
            ]
          },
          "metadata": {},
          "execution_count": 105
        }
      ],
      "source": [
        "flight_df.CRS_ARR_TIME.value_counts(normalize=True)"
      ]
    },
    {
      "cell_type": "code",
      "execution_count": null,
      "metadata": {
        "id": "rtnV-477TV1q",
        "outputId": "20bc2728-b689-43ae-de5a-1b3287247a83",
        "colab": {
          "base_uri": "https://localhost:8080/",
          "height": 531
        }
      },
      "outputs": [
        {
          "output_type": "execute_result",
          "data": {
            "text/html": [
              "\n",
              "  <div id=\"df-9d53ec1c-b7ee-4b10-b945-c4991d31c90f\">\n",
              "    <div class=\"colab-df-container\">\n",
              "      <div>\n",
              "<style scoped>\n",
              "    .dataframe tbody tr th:only-of-type {\n",
              "        vertical-align: middle;\n",
              "    }\n",
              "\n",
              "    .dataframe tbody tr th {\n",
              "        vertical-align: top;\n",
              "    }\n",
              "\n",
              "    .dataframe thead th {\n",
              "        text-align: right;\n",
              "    }\n",
              "</style>\n",
              "<table border=\"1\" class=\"dataframe\">\n",
              "  <thead>\n",
              "    <tr style=\"text-align: right;\">\n",
              "      <th></th>\n",
              "      <th>FL_DATE</th>\n",
              "      <th>OP_CARRIER</th>\n",
              "      <th>CRS_DEP_TIME</th>\n",
              "      <th>DEP_DELAY</th>\n",
              "      <th>TAXI_OUT</th>\n",
              "      <th>WHEELS_OFF</th>\n",
              "      <th>WHEELS_ON</th>\n",
              "      <th>TAXI_IN</th>\n",
              "      <th>CRS_ARR_TIME</th>\n",
              "      <th>ARR_DELAY</th>\n",
              "      <th>CRS_ELAPSED_TIME</th>\n",
              "      <th>ACTUAL_ELAPSED_TIME</th>\n",
              "      <th>AIR_TIME</th>\n",
              "      <th>DISTANCE</th>\n",
              "      <th>CARRIER_DELAY</th>\n",
              "      <th>WEATHER_DELAY</th>\n",
              "      <th>NAS_DELAY</th>\n",
              "      <th>SECURITY_DELAY</th>\n",
              "      <th>LATE_AIRCRAFT_DELAY</th>\n",
              "      <th>Org_Airport</th>\n",
              "      <th>Org_latitude</th>\n",
              "      <th>Org_longitude</th>\n",
              "      <th>Origin_city</th>\n",
              "      <th>Dest_Airport</th>\n",
              "      <th>Dest_latitude</th>\n",
              "      <th>Dest_longitude</th>\n",
              "      <th>Dest_city</th>\n",
              "      <th>month</th>\n",
              "      <th>Day</th>\n",
              "      <th>MONTH_abbr</th>\n",
              "      <th>DELAY_STATUS</th>\n",
              "      <th>WEEKDAY</th>\n",
              "    </tr>\n",
              "  </thead>\n",
              "  <tbody>\n",
              "    <tr>\n",
              "      <th>0</th>\n",
              "      <td>2018-01-01</td>\n",
              "      <td>United Airlines</td>\n",
              "      <td>3</td>\n",
              "      <td>-5.0</td>\n",
              "      <td>15.0</td>\n",
              "      <td>3</td>\n",
              "      <td>3</td>\n",
              "      <td>10.0</td>\n",
              "      <td>3</td>\n",
              "      <td>-23.0</td>\n",
              "      <td>268.0</td>\n",
              "      <td>250.0</td>\n",
              "      <td>225.0</td>\n",
              "      <td>1605.0</td>\n",
              "      <td>0.0</td>\n",
              "      <td>0.0</td>\n",
              "      <td>0.0</td>\n",
              "      <td>0.0</td>\n",
              "      <td>0.0</td>\n",
              "      <td>Newark Liberty International Airport</td>\n",
              "      <td>40.692501</td>\n",
              "      <td>-74.168701</td>\n",
              "      <td>New York</td>\n",
              "      <td>Denver International Airport</td>\n",
              "      <td>39.861698</td>\n",
              "      <td>-104.672996</td>\n",
              "      <td>Denver</td>\n",
              "      <td>1.0</td>\n",
              "      <td>1.0</td>\n",
              "      <td>Jan</td>\n",
              "      <td>0.0</td>\n",
              "      <td>0</td>\n",
              "    </tr>\n",
              "    <tr>\n",
              "      <th>1</th>\n",
              "      <td>2018-01-01</td>\n",
              "      <td>United Airlines</td>\n",
              "      <td>3</td>\n",
              "      <td>161.0</td>\n",
              "      <td>14.0</td>\n",
              "      <td>4</td>\n",
              "      <td>4</td>\n",
              "      <td>7.0</td>\n",
              "      <td>4</td>\n",
              "      <td>132.0</td>\n",
              "      <td>268.0</td>\n",
              "      <td>239.0</td>\n",
              "      <td>218.0</td>\n",
              "      <td>1605.0</td>\n",
              "      <td>16.0</td>\n",
              "      <td>0.0</td>\n",
              "      <td>0.0</td>\n",
              "      <td>0.0</td>\n",
              "      <td>116.0</td>\n",
              "      <td>Newark Liberty International Airport</td>\n",
              "      <td>40.692501</td>\n",
              "      <td>-74.168701</td>\n",
              "      <td>New York</td>\n",
              "      <td>Denver International Airport</td>\n",
              "      <td>39.861698</td>\n",
              "      <td>-104.672996</td>\n",
              "      <td>Denver</td>\n",
              "      <td>1.0</td>\n",
              "      <td>1.0</td>\n",
              "      <td>Jan</td>\n",
              "      <td>1.0</td>\n",
              "      <td>0</td>\n",
              "    </tr>\n",
              "    <tr>\n",
              "      <th>2</th>\n",
              "      <td>2018-01-01</td>\n",
              "      <td>United Airlines</td>\n",
              "      <td>1</td>\n",
              "      <td>-1.0</td>\n",
              "      <td>14.0</td>\n",
              "      <td>2</td>\n",
              "      <td>2</td>\n",
              "      <td>6.0</td>\n",
              "      <td>2</td>\n",
              "      <td>-23.0</td>\n",
              "      <td>275.0</td>\n",
              "      <td>253.0</td>\n",
              "      <td>233.0</td>\n",
              "      <td>1605.0</td>\n",
              "      <td>0.0</td>\n",
              "      <td>0.0</td>\n",
              "      <td>0.0</td>\n",
              "      <td>0.0</td>\n",
              "      <td>0.0</td>\n",
              "      <td>Newark Liberty International Airport</td>\n",
              "      <td>40.692501</td>\n",
              "      <td>-74.168701</td>\n",
              "      <td>New York</td>\n",
              "      <td>Denver International Airport</td>\n",
              "      <td>39.861698</td>\n",
              "      <td>-104.672996</td>\n",
              "      <td>Denver</td>\n",
              "      <td>1.0</td>\n",
              "      <td>1.0</td>\n",
              "      <td>Jan</td>\n",
              "      <td>0.0</td>\n",
              "      <td>0</td>\n",
              "    </tr>\n",
              "    <tr>\n",
              "      <th>3</th>\n",
              "      <td>2018-01-01</td>\n",
              "      <td>United Airlines</td>\n",
              "      <td>4</td>\n",
              "      <td>11.0</td>\n",
              "      <td>26.0</td>\n",
              "      <td>4</td>\n",
              "      <td>4</td>\n",
              "      <td>12.0</td>\n",
              "      <td>4</td>\n",
              "      <td>-2.0</td>\n",
              "      <td>271.0</td>\n",
              "      <td>258.0</td>\n",
              "      <td>220.0</td>\n",
              "      <td>1605.0</td>\n",
              "      <td>0.0</td>\n",
              "      <td>0.0</td>\n",
              "      <td>0.0</td>\n",
              "      <td>0.0</td>\n",
              "      <td>0.0</td>\n",
              "      <td>Newark Liberty International Airport</td>\n",
              "      <td>40.692501</td>\n",
              "      <td>-74.168701</td>\n",
              "      <td>New York</td>\n",
              "      <td>Denver International Airport</td>\n",
              "      <td>39.861698</td>\n",
              "      <td>-104.672996</td>\n",
              "      <td>Denver</td>\n",
              "      <td>1.0</td>\n",
              "      <td>1.0</td>\n",
              "      <td>Jan</td>\n",
              "      <td>0.0</td>\n",
              "      <td>0</td>\n",
              "    </tr>\n",
              "    <tr>\n",
              "      <th>4</th>\n",
              "      <td>2018-01-01</td>\n",
              "      <td>United Airlines</td>\n",
              "      <td>2</td>\n",
              "      <td>-1.0</td>\n",
              "      <td>13.0</td>\n",
              "      <td>3</td>\n",
              "      <td>3</td>\n",
              "      <td>7.0</td>\n",
              "      <td>3</td>\n",
              "      <td>-18.0</td>\n",
              "      <td>268.0</td>\n",
              "      <td>251.0</td>\n",
              "      <td>231.0</td>\n",
              "      <td>1605.0</td>\n",
              "      <td>0.0</td>\n",
              "      <td>0.0</td>\n",
              "      <td>0.0</td>\n",
              "      <td>0.0</td>\n",
              "      <td>0.0</td>\n",
              "      <td>Newark Liberty International Airport</td>\n",
              "      <td>40.692501</td>\n",
              "      <td>-74.168701</td>\n",
              "      <td>New York</td>\n",
              "      <td>Denver International Airport</td>\n",
              "      <td>39.861698</td>\n",
              "      <td>-104.672996</td>\n",
              "      <td>Denver</td>\n",
              "      <td>1.0</td>\n",
              "      <td>1.0</td>\n",
              "      <td>Jan</td>\n",
              "      <td>0.0</td>\n",
              "      <td>0</td>\n",
              "    </tr>\n",
              "  </tbody>\n",
              "</table>\n",
              "</div>\n",
              "      <button class=\"colab-df-convert\" onclick=\"convertToInteractive('df-9d53ec1c-b7ee-4b10-b945-c4991d31c90f')\"\n",
              "              title=\"Convert this dataframe to an interactive table.\"\n",
              "              style=\"display:none;\">\n",
              "        \n",
              "  <svg xmlns=\"http://www.w3.org/2000/svg\" height=\"24px\"viewBox=\"0 0 24 24\"\n",
              "       width=\"24px\">\n",
              "    <path d=\"M0 0h24v24H0V0z\" fill=\"none\"/>\n",
              "    <path d=\"M18.56 5.44l.94 2.06.94-2.06 2.06-.94-2.06-.94-.94-2.06-.94 2.06-2.06.94zm-11 1L8.5 8.5l.94-2.06 2.06-.94-2.06-.94L8.5 2.5l-.94 2.06-2.06.94zm10 10l.94 2.06.94-2.06 2.06-.94-2.06-.94-.94-2.06-.94 2.06-2.06.94z\"/><path d=\"M17.41 7.96l-1.37-1.37c-.4-.4-.92-.59-1.43-.59-.52 0-1.04.2-1.43.59L10.3 9.45l-7.72 7.72c-.78.78-.78 2.05 0 2.83L4 21.41c.39.39.9.59 1.41.59.51 0 1.02-.2 1.41-.59l7.78-7.78 2.81-2.81c.8-.78.8-2.07 0-2.86zM5.41 20L4 18.59l7.72-7.72 1.47 1.35L5.41 20z\"/>\n",
              "  </svg>\n",
              "      </button>\n",
              "      \n",
              "  <style>\n",
              "    .colab-df-container {\n",
              "      display:flex;\n",
              "      flex-wrap:wrap;\n",
              "      gap: 12px;\n",
              "    }\n",
              "\n",
              "    .colab-df-convert {\n",
              "      background-color: #E8F0FE;\n",
              "      border: none;\n",
              "      border-radius: 50%;\n",
              "      cursor: pointer;\n",
              "      display: none;\n",
              "      fill: #1967D2;\n",
              "      height: 32px;\n",
              "      padding: 0 0 0 0;\n",
              "      width: 32px;\n",
              "    }\n",
              "\n",
              "    .colab-df-convert:hover {\n",
              "      background-color: #E2EBFA;\n",
              "      box-shadow: 0px 1px 2px rgba(60, 64, 67, 0.3), 0px 1px 3px 1px rgba(60, 64, 67, 0.15);\n",
              "      fill: #174EA6;\n",
              "    }\n",
              "\n",
              "    [theme=dark] .colab-df-convert {\n",
              "      background-color: #3B4455;\n",
              "      fill: #D2E3FC;\n",
              "    }\n",
              "\n",
              "    [theme=dark] .colab-df-convert:hover {\n",
              "      background-color: #434B5C;\n",
              "      box-shadow: 0px 1px 3px 1px rgba(0, 0, 0, 0.15);\n",
              "      filter: drop-shadow(0px 1px 2px rgba(0, 0, 0, 0.3));\n",
              "      fill: #FFFFFF;\n",
              "    }\n",
              "  </style>\n",
              "\n",
              "      <script>\n",
              "        const buttonEl =\n",
              "          document.querySelector('#df-9d53ec1c-b7ee-4b10-b945-c4991d31c90f button.colab-df-convert');\n",
              "        buttonEl.style.display =\n",
              "          google.colab.kernel.accessAllowed ? 'block' : 'none';\n",
              "\n",
              "        async function convertToInteractive(key) {\n",
              "          const element = document.querySelector('#df-9d53ec1c-b7ee-4b10-b945-c4991d31c90f');\n",
              "          const dataTable =\n",
              "            await google.colab.kernel.invokeFunction('convertToInteractive',\n",
              "                                                     [key], {});\n",
              "          if (!dataTable) return;\n",
              "\n",
              "          const docLinkHtml = 'Like what you see? Visit the ' +\n",
              "            '<a target=\"_blank\" href=https://colab.research.google.com/notebooks/data_table.ipynb>data table notebook</a>'\n",
              "            + ' to learn more about interactive tables.';\n",
              "          element.innerHTML = '';\n",
              "          dataTable['output_type'] = 'display_data';\n",
              "          await google.colab.output.renderOutput(dataTable, element);\n",
              "          const docLink = document.createElement('div');\n",
              "          docLink.innerHTML = docLinkHtml;\n",
              "          element.appendChild(docLink);\n",
              "        }\n",
              "      </script>\n",
              "    </div>\n",
              "  </div>\n",
              "  "
            ],
            "text/plain": [
              "     FL_DATE       OP_CARRIER  CRS_DEP_TIME  ...  MONTH_abbr  DELAY_STATUS  WEEKDAY\n",
              "0 2018-01-01  United Airlines             3  ...         Jan           0.0        0\n",
              "1 2018-01-01  United Airlines             3  ...         Jan           1.0        0\n",
              "2 2018-01-01  United Airlines             1  ...         Jan           0.0        0\n",
              "3 2018-01-01  United Airlines             4  ...         Jan           0.0        0\n",
              "4 2018-01-01  United Airlines             2  ...         Jan           0.0        0\n",
              "\n",
              "[5 rows x 32 columns]"
            ]
          },
          "metadata": {},
          "execution_count": 106
        }
      ],
      "source": [
        "flight_df.head()"
      ]
    },
    {
      "cell_type": "code",
      "execution_count": null,
      "metadata": {
        "id": "iXkIixkMTV1r"
      },
      "outputs": [],
      "source": [
        "flight_df = flight_df.drop(['MONTH_abbr'], axis=1)\n",
        "flight_df = flight_df.drop(['Day'], axis=1)\n",
        "flight_df = flight_df.drop(['Dest_city'], axis=1)\n",
        "flight_df = flight_df.drop(['Origin_city'], axis=1)\n",
        "flight_df = flight_df.drop(['FL_DATE'], axis=1)\n",
        "\n"
      ]
    },
    {
      "cell_type": "code",
      "execution_count": null,
      "metadata": {
        "id": "cV106EBFTV1s",
        "outputId": "14b25b8b-2438-4aa0-8998-7236df035b82",
        "colab": {
          "base_uri": "https://localhost:8080/"
        }
      },
      "outputs": [
        {
          "output_type": "stream",
          "name": "stdout",
          "text": [
            "<class 'pandas.core.frame.DataFrame'>\n",
            "Int64Index: 3757800 entries, 0 to 3757799\n",
            "Data columns (total 27 columns):\n",
            " #   Column               Dtype  \n",
            "---  ------               -----  \n",
            " 0   OP_CARRIER           object \n",
            " 1   CRS_DEP_TIME         int64  \n",
            " 2   DEP_DELAY            float64\n",
            " 3   TAXI_OUT             float64\n",
            " 4   WHEELS_OFF           int64  \n",
            " 5   WHEELS_ON            int64  \n",
            " 6   TAXI_IN              float64\n",
            " 7   CRS_ARR_TIME         int64  \n",
            " 8   ARR_DELAY            float64\n",
            " 9   CRS_ELAPSED_TIME     float64\n",
            " 10  ACTUAL_ELAPSED_TIME  float64\n",
            " 11  AIR_TIME             float64\n",
            " 12  DISTANCE             float64\n",
            " 13  CARRIER_DELAY        float64\n",
            " 14  WEATHER_DELAY        float64\n",
            " 15  NAS_DELAY            float64\n",
            " 16  SECURITY_DELAY       float64\n",
            " 17  LATE_AIRCRAFT_DELAY  float64\n",
            " 18  Org_Airport          object \n",
            " 19  Org_latitude         float64\n",
            " 20  Org_longitude        float64\n",
            " 21  Dest_Airport         object \n",
            " 22  Dest_latitude        float64\n",
            " 23  Dest_longitude       float64\n",
            " 24  month                float64\n",
            " 25  DELAY_STATUS         float64\n",
            " 26  WEEKDAY              int64  \n",
            "dtypes: float64(19), int64(5), object(3)\n",
            "memory usage: 802.8+ MB\n"
          ]
        }
      ],
      "source": [
        "flight_df.info()"
      ]
    },
    {
      "cell_type": "code",
      "execution_count": null,
      "metadata": {
        "id": "tMZ7Uv848XYx"
      },
      "outputs": [],
      "source": [
        "from sklearn.preprocessing import LabelEncoder\n",
        "\n",
        "le = LabelEncoder()\n",
        "# Label encoding features to change categorical variables into numerical one\n",
        "flight_df['OP_CARRIER'] = le.fit_transform(flight_df['OP_CARRIER'])\n",
        "flight_df['Dest_Airport'] = le.fit_transform(flight_df['Dest_Airport'])\n",
        "flight_df['Org_Airport'] = le.fit_transform(flight_df['Org_Airport'])"
      ]
    },
    {
      "cell_type": "code",
      "source": [
        "#OP_CARRIER_dummies = pd.get_dummies(flight_df['OP_CARRIER'], prefix='OP_CARRIER', drop_first=True)\n",
        "#CRS_DEP_TIME_dummies = pd.get_dummies(flight_df['CRS_DEP_TIME'], prefix='CRS_DEP_TIME', drop_first=True)\n",
        "#CRS_ARR_TIME_dummines = pd.get_dummies(flight_df['CRS_ARR_TIME'], prefix='CRS_ARR_TIME', drop_first=True) \n",
        "#MONTH_dummies = pd.get_dummies(flight_df['month'], prefix='month', drop_first=True)\n",
        "#WEEKDAY_dummies = pd.get_dummies(flight_df['WEEKDAY'], prefix='WEEKDAY', drop_first=True)"
      ],
      "metadata": {
        "id": "jww6pJG3zonW"
      },
      "execution_count": null,
      "outputs": []
    },
    {
      "cell_type": "code",
      "source": [
        "#flight_df = flight_df.drop(['OP_CARRIER', 'CRS_DEP_TIME', 'CRS_ARR_TIME', 'month', 'WEEKDAY'], axis=1)"
      ],
      "metadata": {
        "id": "tgeOYrSm01Nv"
      },
      "execution_count": null,
      "outputs": []
    },
    {
      "cell_type": "code",
      "source": [
        "#flight_df = pd.concat([flight_df, OP_CARRIER_dummies, CRS_DEP_TIME_dummies, CRS_ARR_TIME_dummines, MONTH_dummies, WEEKDAY_dummies], axis=1)"
      ],
      "metadata": {
        "id": "ClQn-8Q609UH"
      },
      "execution_count": null,
      "outputs": []
    },
    {
      "cell_type": "code",
      "source": [
        "flight_df.head(2)\n",
        "\n"
      ],
      "metadata": {
        "colab": {
          "base_uri": "https://localhost:8080/",
          "height": 176
        },
        "id": "eb4-jB791Azf",
        "outputId": "d41ab0c7-27fa-4034-d0b4-bb7f613b590b"
      },
      "execution_count": null,
      "outputs": [
        {
          "output_type": "execute_result",
          "data": {
            "text/html": [
              "\n",
              "  <div id=\"df-bfac6cb4-5d86-44e5-a238-f533400a0128\">\n",
              "    <div class=\"colab-df-container\">\n",
              "      <div>\n",
              "<style scoped>\n",
              "    .dataframe tbody tr th:only-of-type {\n",
              "        vertical-align: middle;\n",
              "    }\n",
              "\n",
              "    .dataframe tbody tr th {\n",
              "        vertical-align: top;\n",
              "    }\n",
              "\n",
              "    .dataframe thead th {\n",
              "        text-align: right;\n",
              "    }\n",
              "</style>\n",
              "<table border=\"1\" class=\"dataframe\">\n",
              "  <thead>\n",
              "    <tr style=\"text-align: right;\">\n",
              "      <th></th>\n",
              "      <th>OP_CARRIER</th>\n",
              "      <th>CRS_DEP_TIME</th>\n",
              "      <th>DEP_DELAY</th>\n",
              "      <th>TAXI_OUT</th>\n",
              "      <th>WHEELS_OFF</th>\n",
              "      <th>WHEELS_ON</th>\n",
              "      <th>TAXI_IN</th>\n",
              "      <th>CRS_ARR_TIME</th>\n",
              "      <th>ARR_DELAY</th>\n",
              "      <th>CRS_ELAPSED_TIME</th>\n",
              "      <th>ACTUAL_ELAPSED_TIME</th>\n",
              "      <th>AIR_TIME</th>\n",
              "      <th>DISTANCE</th>\n",
              "      <th>CARRIER_DELAY</th>\n",
              "      <th>WEATHER_DELAY</th>\n",
              "      <th>NAS_DELAY</th>\n",
              "      <th>SECURITY_DELAY</th>\n",
              "      <th>LATE_AIRCRAFT_DELAY</th>\n",
              "      <th>Org_Airport</th>\n",
              "      <th>Org_latitude</th>\n",
              "      <th>Org_longitude</th>\n",
              "      <th>Dest_Airport</th>\n",
              "      <th>Dest_latitude</th>\n",
              "      <th>Dest_longitude</th>\n",
              "      <th>month</th>\n",
              "      <th>DELAY_STATUS</th>\n",
              "      <th>WEEKDAY</th>\n",
              "    </tr>\n",
              "  </thead>\n",
              "  <tbody>\n",
              "    <tr>\n",
              "      <th>0</th>\n",
              "      <td>16</td>\n",
              "      <td>3</td>\n",
              "      <td>-5.0</td>\n",
              "      <td>15.0</td>\n",
              "      <td>3</td>\n",
              "      <td>3</td>\n",
              "      <td>10.0</td>\n",
              "      <td>3</td>\n",
              "      <td>-23.0</td>\n",
              "      <td>268.0</td>\n",
              "      <td>250.0</td>\n",
              "      <td>225.0</td>\n",
              "      <td>1605.0</td>\n",
              "      <td>0.0</td>\n",
              "      <td>0.0</td>\n",
              "      <td>0.0</td>\n",
              "      <td>0.0</td>\n",
              "      <td>0.0</td>\n",
              "      <td>196</td>\n",
              "      <td>40.692501</td>\n",
              "      <td>-74.168701</td>\n",
              "      <td>10</td>\n",
              "      <td>39.861698</td>\n",
              "      <td>-104.672996</td>\n",
              "      <td>1.0</td>\n",
              "      <td>0.0</td>\n",
              "      <td>0</td>\n",
              "    </tr>\n",
              "    <tr>\n",
              "      <th>1</th>\n",
              "      <td>16</td>\n",
              "      <td>3</td>\n",
              "      <td>161.0</td>\n",
              "      <td>14.0</td>\n",
              "      <td>4</td>\n",
              "      <td>4</td>\n",
              "      <td>7.0</td>\n",
              "      <td>4</td>\n",
              "      <td>132.0</td>\n",
              "      <td>268.0</td>\n",
              "      <td>239.0</td>\n",
              "      <td>218.0</td>\n",
              "      <td>1605.0</td>\n",
              "      <td>16.0</td>\n",
              "      <td>0.0</td>\n",
              "      <td>0.0</td>\n",
              "      <td>0.0</td>\n",
              "      <td>116.0</td>\n",
              "      <td>196</td>\n",
              "      <td>40.692501</td>\n",
              "      <td>-74.168701</td>\n",
              "      <td>10</td>\n",
              "      <td>39.861698</td>\n",
              "      <td>-104.672996</td>\n",
              "      <td>1.0</td>\n",
              "      <td>1.0</td>\n",
              "      <td>0</td>\n",
              "    </tr>\n",
              "  </tbody>\n",
              "</table>\n",
              "</div>\n",
              "      <button class=\"colab-df-convert\" onclick=\"convertToInteractive('df-bfac6cb4-5d86-44e5-a238-f533400a0128')\"\n",
              "              title=\"Convert this dataframe to an interactive table.\"\n",
              "              style=\"display:none;\">\n",
              "        \n",
              "  <svg xmlns=\"http://www.w3.org/2000/svg\" height=\"24px\"viewBox=\"0 0 24 24\"\n",
              "       width=\"24px\">\n",
              "    <path d=\"M0 0h24v24H0V0z\" fill=\"none\"/>\n",
              "    <path d=\"M18.56 5.44l.94 2.06.94-2.06 2.06-.94-2.06-.94-.94-2.06-.94 2.06-2.06.94zm-11 1L8.5 8.5l.94-2.06 2.06-.94-2.06-.94L8.5 2.5l-.94 2.06-2.06.94zm10 10l.94 2.06.94-2.06 2.06-.94-2.06-.94-.94-2.06-.94 2.06-2.06.94z\"/><path d=\"M17.41 7.96l-1.37-1.37c-.4-.4-.92-.59-1.43-.59-.52 0-1.04.2-1.43.59L10.3 9.45l-7.72 7.72c-.78.78-.78 2.05 0 2.83L4 21.41c.39.39.9.59 1.41.59.51 0 1.02-.2 1.41-.59l7.78-7.78 2.81-2.81c.8-.78.8-2.07 0-2.86zM5.41 20L4 18.59l7.72-7.72 1.47 1.35L5.41 20z\"/>\n",
              "  </svg>\n",
              "      </button>\n",
              "      \n",
              "  <style>\n",
              "    .colab-df-container {\n",
              "      display:flex;\n",
              "      flex-wrap:wrap;\n",
              "      gap: 12px;\n",
              "    }\n",
              "\n",
              "    .colab-df-convert {\n",
              "      background-color: #E8F0FE;\n",
              "      border: none;\n",
              "      border-radius: 50%;\n",
              "      cursor: pointer;\n",
              "      display: none;\n",
              "      fill: #1967D2;\n",
              "      height: 32px;\n",
              "      padding: 0 0 0 0;\n",
              "      width: 32px;\n",
              "    }\n",
              "\n",
              "    .colab-df-convert:hover {\n",
              "      background-color: #E2EBFA;\n",
              "      box-shadow: 0px 1px 2px rgba(60, 64, 67, 0.3), 0px 1px 3px 1px rgba(60, 64, 67, 0.15);\n",
              "      fill: #174EA6;\n",
              "    }\n",
              "\n",
              "    [theme=dark] .colab-df-convert {\n",
              "      background-color: #3B4455;\n",
              "      fill: #D2E3FC;\n",
              "    }\n",
              "\n",
              "    [theme=dark] .colab-df-convert:hover {\n",
              "      background-color: #434B5C;\n",
              "      box-shadow: 0px 1px 3px 1px rgba(0, 0, 0, 0.15);\n",
              "      filter: drop-shadow(0px 1px 2px rgba(0, 0, 0, 0.3));\n",
              "      fill: #FFFFFF;\n",
              "    }\n",
              "  </style>\n",
              "\n",
              "      <script>\n",
              "        const buttonEl =\n",
              "          document.querySelector('#df-bfac6cb4-5d86-44e5-a238-f533400a0128 button.colab-df-convert');\n",
              "        buttonEl.style.display =\n",
              "          google.colab.kernel.accessAllowed ? 'block' : 'none';\n",
              "\n",
              "        async function convertToInteractive(key) {\n",
              "          const element = document.querySelector('#df-bfac6cb4-5d86-44e5-a238-f533400a0128');\n",
              "          const dataTable =\n",
              "            await google.colab.kernel.invokeFunction('convertToInteractive',\n",
              "                                                     [key], {});\n",
              "          if (!dataTable) return;\n",
              "\n",
              "          const docLinkHtml = 'Like what you see? Visit the ' +\n",
              "            '<a target=\"_blank\" href=https://colab.research.google.com/notebooks/data_table.ipynb>data table notebook</a>'\n",
              "            + ' to learn more about interactive tables.';\n",
              "          element.innerHTML = '';\n",
              "          dataTable['output_type'] = 'display_data';\n",
              "          await google.colab.output.renderOutput(dataTable, element);\n",
              "          const docLink = document.createElement('div');\n",
              "          docLink.innerHTML = docLinkHtml;\n",
              "          element.appendChild(docLink);\n",
              "        }\n",
              "      </script>\n",
              "    </div>\n",
              "  </div>\n",
              "  "
            ],
            "text/plain": [
              "   OP_CARRIER  CRS_DEP_TIME  DEP_DELAY  ...  month  DELAY_STATUS  WEEKDAY\n",
              "0          16             3       -5.0  ...    1.0           0.0        0\n",
              "1          16             3      161.0  ...    1.0           1.0        0\n",
              "\n",
              "[2 rows x 27 columns]"
            ]
          },
          "metadata": {},
          "execution_count": 110
        }
      ]
    },
    {
      "cell_type": "code",
      "source": [
        "flight_df['DELAY_STATUS'] = flight_df['DELAY_STATUS'].astype(int)"
      ],
      "metadata": {
        "id": "xERVRd6I4yet"
      },
      "execution_count": null,
      "outputs": []
    },
    {
      "cell_type": "code",
      "execution_count": null,
      "metadata": {
        "colab": {
          "base_uri": "https://localhost:8080/"
        },
        "id": "mVGUhlFi8dkd",
        "outputId": "5616ed71-6585-422e-d838-89ad23f40e44"
      },
      "outputs": [
        {
          "output_type": "execute_result",
          "data": {
            "text/plain": [
              "(3757800, 24)"
            ]
          },
          "metadata": {},
          "execution_count": 112
        }
      ],
      "source": [
        "X = flight_df.drop(['DELAY_STATUS','ARR_DELAY','DEP_DELAY'], axis = 1)\n",
        "X.shape"
      ]
    },
    {
      "cell_type": "code",
      "execution_count": null,
      "metadata": {
        "colab": {
          "base_uri": "https://localhost:8080/"
        },
        "id": "IuSWOdP08dnl",
        "outputId": "12fbb014-eada-4b7b-d472-1e5d1a1ec4b5"
      },
      "outputs": [
        {
          "output_type": "execute_result",
          "data": {
            "text/plain": [
              "0     0\n",
              "1     1\n",
              "2     0\n",
              "3     0\n",
              "4     0\n",
              "5     0\n",
              "6     0\n",
              "7     0\n",
              "8     0\n",
              "9     1\n",
              "10    1\n",
              "11    0\n",
              "12    0\n",
              "13    0\n",
              "14    0\n",
              "15    0\n",
              "16    0\n",
              "17    0\n",
              "18    1\n",
              "19    0\n",
              "Name: DELAY_STATUS, dtype: int64"
            ]
          },
          "metadata": {},
          "execution_count": 113
        }
      ],
      "source": [
        "y = flight_df['DELAY_STATUS']\n",
        "y.head(20)"
      ]
    },
    {
      "cell_type": "code",
      "execution_count": 116,
      "metadata": {
        "colab": {
          "base_uri": "https://localhost:8080/"
        },
        "id": "ZAAs0nvt8dzY",
        "outputId": "37b99a58-f62b-4f4c-9db0-ffec404b76d3"
      },
      "outputs": [
        {
          "output_type": "stream",
          "name": "stdout",
          "text": [
            "Testing Accuracy for Decision Tree Classifier: 0.7963294125995707\n"
          ]
        }
      ],
      "source": [
        "import datetime, warnings, scipy \n",
        "import pandas as pd\n",
        "import numpy as np\n",
        "import seaborn as sns\n",
        "import matplotlib.pyplot as plt\n",
        "import warnings\n",
        "warnings.filterwarnings('ignore')\n",
        "from sklearn.tree import DecisionTreeClassifier\n",
        "from imblearn.metrics import classification_report_imbalanced\n",
        "from sklearn.model_selection import train_test_split\n",
        "from sklearn.metrics import accuracy_score, confusion_matrix, classification_report, plot_confusion_matrix\n",
        "from sklearn.ensemble import BaggingClassifier, RandomForestClassifier\n",
        "\n",
        "# Perform the spli\n",
        "X_train,X_test,y_train,y_test = train_test_split(X,y,test_size=0.3,random_state = 2)\n",
        "\n",
        "\n",
        "\n",
        "\n",
        "# Build a regular tree as baseline\n",
        "tree_clf = DecisionTreeClassifier(criterion='gini', max_depth= 5, class_weight=\"balanced\")\n",
        "tree_clf.fit(X_train, y_train)\n",
        "\n",
        "\n",
        "\n",
        "\n",
        "# Test set predictions\n",
        "pred = tree_clf.predict(X_test)\n",
        "\n",
        "\n",
        "\n",
        "print('Testing Accuracy for Decision Tree Classifier:', accuracy_score(y_test, pred))\n",
        "\n",
        "\n",
        "\n"
      ]
    },
    {
      "cell_type": "code",
      "source": [
        "print('Classificiation Report')\n",
        "print('---------------------')\n",
        "print(classification_report(y_test, pred))"
      ],
      "metadata": {
        "colab": {
          "base_uri": "https://localhost:8080/"
        },
        "id": "S6kIyYv_3lIz",
        "outputId": "71622498-f87e-4356-a9fb-111444f67743"
      },
      "execution_count": 117,
      "outputs": [
        {
          "output_type": "stream",
          "name": "stdout",
          "text": [
            "Classificiation Report\n",
            "---------------------\n",
            "              precision    recall  f1-score   support\n",
            "\n",
            "           0       0.82      0.87      0.84    701914\n",
            "           1       0.76      0.68      0.72    425426\n",
            "\n",
            "    accuracy                           0.80   1127340\n",
            "   macro avg       0.79      0.77      0.78   1127340\n",
            "weighted avg       0.79      0.80      0.79   1127340\n",
            "\n"
          ]
        }
      ]
    },
    {
      "cell_type": "code",
      "source": [
        "def plot_feature_importances(model):\n",
        "    n_features = X_train.shape[1]\n",
        "    plt.figure(figsize=(10, 20))\n",
        "    plt.barh(range(n_features), model.feature_importances_, color='k', align='center')\n",
        "    plt.yticks(np.arange(n_features), X_train.columns.values)\n",
        "    plt.xlabel('Feature importance')\n",
        "    plt.ylabel('Features')\n",
        "    plt.rcParams[\"figure.facecolor\"] = \"lightblue\"\n",
        "    plt.grid(True)\n",
        "\n",
        "\n",
        "\n"
      ],
      "metadata": {
        "id": "gBvtGPRqLkcY"
      },
      "execution_count": 139,
      "outputs": []
    },
    {
      "cell_type": "code",
      "source": [
        "plot_feature_importances(tree_clf)\n",
        "plt.rcParams[\"figure.facecolor\"] = \"lightblue\""
      ],
      "metadata": {
        "colab": {
          "base_uri": "https://localhost:8080/",
          "height": 1000
        },
        "id": "GAHVl_GHMY37",
        "outputId": "823ed1b9-d70e-444b-e11c-47a2f5e9c6fa"
      },
      "execution_count": 140,
      "outputs": [
        {
          "output_type": "display_data",
          "data": {
            "image/png": "[encoded data removed]",
            "text/plain": [
              "<Figure size 720x1440 with 1 Axes>"
            ]
          },
          "metadata": {}
        }
      ]
    },
    {
      "cell_type": "code",
      "source": [
        "# instantiating the BaggingClassifire\n",
        "bagged_tree =  BaggingClassifier(DecisionTreeClassifier(criterion='gini', max_depth=5), \n",
        "                                 n_estimators=20)\n",
        "\n",
        "\n",
        "# Now to fitting the training data:\n",
        "bagged_tree.fit(X_train, y_train)\n",
        "\n",
        "\n",
        "\n",
        "bagged_tree.score(X_train, y_train)\n",
        "\n"
      ],
      "metadata": {
        "id": "aI_kvcKx3yMu",
        "colab": {
          "base_uri": "https://localhost:8080/"
        },
        "outputId": "93256e3f-eff3-4b5d-c5eb-216d83ac2ac7"
      },
      "execution_count": 122,
      "outputs": [
        {
          "output_type": "execute_result",
          "data": {
            "text/plain": [
              "0.8194486895828106"
            ]
          },
          "metadata": {},
          "execution_count": 122
        }
      ]
    },
    {
      "cell_type": "code",
      "source": [
        "bagged_tree.score(X_test, y_test)"
      ],
      "metadata": {
        "colab": {
          "base_uri": "https://localhost:8080/"
        },
        "id": "P-wsXUqR4GQh",
        "outputId": "417ea7a3-a8a4-42a1-e3f4-6eac80777d64"
      },
      "execution_count": 123,
      "outputs": [
        {
          "output_type": "execute_result",
          "data": {
            "text/plain": [
              "0.8189339507158444"
            ]
          },
          "metadata": {},
          "execution_count": 123
        }
      ]
    },
    {
      "cell_type": "code",
      "source": [
        "# Test set predictions\n",
        "pred = bagged_tree.predict(X_test)\n",
        "print('Testing Accuracy for Bagging Classifire :', accuracy_score(y_test, pred))"
      ],
      "metadata": {
        "colab": {
          "base_uri": "https://localhost:8080/"
        },
        "id": "K3TajH939p4H",
        "outputId": "3503b5e4-74bf-453a-ff33-e4e5d9f95c28"
      },
      "execution_count": 124,
      "outputs": [
        {
          "output_type": "stream",
          "name": "stdout",
          "text": [
            "Testing Accuracy for BaggingClassifire : 0.8189339507158444\n"
          ]
        }
      ]
    },
    {
      "cell_type": "code",
      "source": [
        "# instantiating the RandomForestClassifier\n",
        "forest = RandomForestClassifier(n_estimators=100, max_depth=5)\n",
        "forest.fit(X_train, y_train)\n",
        "\n",
        "#check the accuracy score\n",
        "forest.score(X_train, y_train)\n",
        "\n"
      ],
      "metadata": {
        "colab": {
          "base_uri": "https://localhost:8080/"
        },
        "id": "6Ibh7Hem4qjc",
        "outputId": "9ad52281-be8f-4700-cbea-9226b1091660"
      },
      "execution_count": 125,
      "outputs": [
        {
          "output_type": "execute_result",
          "data": {
            "text/plain": [
              "0.8157215848178646"
            ]
          },
          "metadata": {},
          "execution_count": 125
        }
      ]
    },
    {
      "cell_type": "code",
      "source": [
        "forest.score(X_test, y_test)"
      ],
      "metadata": {
        "colab": {
          "base_uri": "https://localhost:8080/"
        },
        "id": "sAg3px5H5O0q",
        "outputId": "8b755bf4-eeb0-4ca1-ade1-89b3786b28c1"
      },
      "execution_count": 128,
      "outputs": [
        {
          "output_type": "execute_result",
          "data": {
            "text/plain": [
              "0.8152527187893626"
            ]
          },
          "metadata": {},
          "execution_count": 128
        }
      ]
    },
    {
      "cell_type": "code",
      "source": [
        "# Test set predictions\n",
        "pred = forest.predict(X_test)\n",
        "print('Testing Accuracy for Random Forest Classifier:', accuracy_score(y_test, pred))"
      ],
      "metadata": {
        "colab": {
          "base_uri": "https://localhost:8080/"
        },
        "id": "uHQaw4x3-4t2",
        "outputId": "94abd14e-f173-41c0-9073-4a8a3fa49bf4"
      },
      "execution_count": 129,
      "outputs": [
        {
          "output_type": "stream",
          "name": "stdout",
          "text": [
            "Testing Accuracy for Random Forest Classifier: 0.8152527187893626\n"
          ]
        }
      ]
    },
    {
      "cell_type": "code",
      "source": [
        "\n",
        "\n",
        "plot_feature_importances(forest)\n",
        "plt.rcParams[\"figure.facecolor\"] = \"lightblue\"\n",
        "\n"
      ],
      "metadata": {
        "colab": {
          "base_uri": "https://localhost:8080/",
          "height": 1000
        },
        "id": "cRQ6eMU9LiSe",
        "outputId": "31b83f3e-6ee0-4e60-ba42-1ff6dbc88add"
      },
      "execution_count": 131,
      "outputs": [
        {
          "output_type": "display_data",
          "data": {
            "image/png": "[encoded data removed]",
            "text/plain": [
              "<Figure size 720x1440 with 1 Axes>"
            ]
          },
          "metadata": {}
        }
      ]
    }
  ],
  "metadata": {
    "colab": {
      "collapsed_sections": [],
      "name": "Model_final.ipynb",
      "provenance": []
    },
    "kernelspec": {
      "display_name": "PythonData",
      "language": "python",
      "name": "pythondata"
    },
    "language_info": {
      "codemirror_mode": {
        "name": "ipython",
        "version": 3
      },
      "file_extension": ".py",
      "mimetype": "text/x-python",
      "name": "python",
      "nbconvert_exporter": "python",
      "pygments_lexer": "ipython3",
      "version": "3.7.10"
    }
  },
  "nbformat": 4,
  "nbformat_minor": 0
}