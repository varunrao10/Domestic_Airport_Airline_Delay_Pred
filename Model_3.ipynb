{
  "cells": [
    {
      "cell_type": "code",
      "execution_count": 22,
      "metadata": {
        "id": "Gtt063w97Asa"
      },
      "outputs": [],
      "source": [
        "import pandas as pd\n",
        "import numpy as np"
      ]
    },
    {
      "cell_type": "code",
      "execution_count": 23,
      "metadata": {
        "colab": {
          "base_uri": "https://localhost:8080/"
        },
        "id": "8dD0b8Nt7Jbc",
        "outputId": "210887a6-bb10-441e-f42b-4d0e1d09c1ed"
      },
      "outputs": [
        {
          "output_type": "stream",
          "name": "stderr",
          "text": [
            "/usr/local/lib/python3.7/dist-packages/IPython/core/interactiveshell.py:2882: FutureWarning: The error_bad_lines argument has been deprecated and will be removed in a future version.\n",
            "\n",
            "\n",
            "  exec(code_obj, self.user_global_ns, self.user_ns)\n"
          ]
        }
      ],
      "source": [
        "# Data Loading\n",
        "file_path = '2018_clean_final.csv'\n",
        "flight_df = pd.read_csv(file_path, error_bad_lines=False)"
      ]
    },
    {
      "cell_type": "code",
      "execution_count": 24,
      "metadata": {
        "colab": {
          "base_uri": "https://localhost:8080/"
        },
        "id": "4xIOcXbB7cS2",
        "outputId": "ca7101e0-0a3b-445f-919e-f4fd75bbd536"
      },
      "outputs": [
        {
          "output_type": "stream",
          "name": "stdout",
          "text": [
            "<class 'pandas.core.frame.DataFrame'>\n",
            "RangeIndex: 2493979 entries, 0 to 2493978\n",
            "Data columns (total 31 columns):\n",
            " #   Column               Dtype  \n",
            "---  ------               -----  \n",
            " 0   FL_DATE              object \n",
            " 1   OP_CARRIER           object \n",
            " 2   CRS_DEP_TIME         int64  \n",
            " 3   DEP_DELAY            float64\n",
            " 4   TAXI_OUT             float64\n",
            " 5   WHEELS_OFF           float64\n",
            " 6   WHEELS_ON            float64\n",
            " 7   TAXI_IN              float64\n",
            " 8   CRS_ARR_TIME         float64\n",
            " 9   ARR_DELAY            float64\n",
            " 10  CRS_ELAPSED_TIME     float64\n",
            " 11  ACTUAL_ELAPSED_TIME  float64\n",
            " 12  AIR_TIME             float64\n",
            " 13  DISTANCE             float64\n",
            " 14  CARRIER_DELAY        float64\n",
            " 15  WEATHER_DELAY        float64\n",
            " 16  NAS_DELAY            float64\n",
            " 17  SECURITY_DELAY       float64\n",
            " 18  LATE_AIRCRAFT_DELAY  float64\n",
            " 19  Org_Airport          object \n",
            " 20  Org_latitude         float64\n",
            " 21  Org_longitude        float64\n",
            " 22  Origin_city          object \n",
            " 23  Dest_Airport         object \n",
            " 24  Dest_latitude        float64\n",
            " 25  Dest_longitude       float64\n",
            " 26  Dest_city            object \n",
            " 27  month                float64\n",
            " 28  Day                  float64\n",
            " 29  MONTH_abbr           object \n",
            " 30  DELAY_STATUS         float64\n",
            "dtypes: float64(23), int64(1), object(7)\n",
            "memory usage: 589.9+ MB\n"
          ]
        }
      ],
      "source": [
        "flight_df.info()"
      ]
    },
    {
      "cell_type": "code",
      "execution_count": 25,
      "metadata": {
        "colab": {
          "base_uri": "https://localhost:8080/"
        },
        "id": "ceOO8Xf7-eUd",
        "outputId": "0bd8c0a6-6759-45b2-f7bd-a660ca89dbf0"
      },
      "outputs": [
        {
          "output_type": "execute_result",
          "data": {
            "text/plain": [
              "(2493979, 31)"
            ]
          },
          "metadata": {},
          "execution_count": 25
        }
      ],
      "source": [
        "flight_df.shape"
      ]
    },
    {
      "cell_type": "code",
      "execution_count": 26,
      "metadata": {
        "colab": {
          "base_uri": "https://localhost:8080/"
        },
        "id": "qJXlVLzi-w-O",
        "outputId": "49b892fd-68f5-4398-c41d-ab4ee2337bc3"
      },
      "outputs": [
        {
          "output_type": "execute_result",
          "data": {
            "text/plain": [
              "FL_DATE                0\n",
              "OP_CARRIER             0\n",
              "CRS_DEP_TIME           0\n",
              "DEP_DELAY              0\n",
              "TAXI_OUT               1\n",
              "WHEELS_OFF             1\n",
              "WHEELS_ON              1\n",
              "TAXI_IN                1\n",
              "CRS_ARR_TIME           1\n",
              "ARR_DELAY              1\n",
              "CRS_ELAPSED_TIME       1\n",
              "ACTUAL_ELAPSED_TIME    1\n",
              "AIR_TIME               1\n",
              "DISTANCE               1\n",
              "CARRIER_DELAY          1\n",
              "WEATHER_DELAY          1\n",
              "NAS_DELAY              1\n",
              "SECURITY_DELAY         1\n",
              "LATE_AIRCRAFT_DELAY    1\n",
              "Org_Airport            1\n",
              "Org_latitude           1\n",
              "Org_longitude          1\n",
              "Origin_city            1\n",
              "Dest_Airport           1\n",
              "Dest_latitude          1\n",
              "Dest_longitude         1\n",
              "Dest_city              1\n",
              "month                  1\n",
              "Day                    1\n",
              "MONTH_abbr             1\n",
              "DELAY_STATUS           1\n",
              "dtype: int64"
            ]
          },
          "metadata": {},
          "execution_count": 26
        }
      ],
      "source": [
        "flight_df.isnull().sum()\n"
      ]
    },
    {
      "cell_type": "code",
      "execution_count": 27,
      "metadata": {
        "id": "Jdj5YVC75yz5"
      },
      "outputs": [],
      "source": [
        "flight_df = flight_df.dropna()"
      ]
    },
    {
      "cell_type": "code",
      "execution_count": 28,
      "metadata": {
        "colab": {
          "base_uri": "https://localhost:8080/"
        },
        "id": "MODvP1x56UXj",
        "outputId": "4154d134-9f4b-408b-9222-9babf97022e4"
      },
      "outputs": [
        {
          "output_type": "execute_result",
          "data": {
            "text/plain": [
              "FL_DATE                0\n",
              "OP_CARRIER             0\n",
              "CRS_DEP_TIME           0\n",
              "DEP_DELAY              0\n",
              "TAXI_OUT               0\n",
              "WHEELS_OFF             0\n",
              "WHEELS_ON              0\n",
              "TAXI_IN                0\n",
              "CRS_ARR_TIME           0\n",
              "ARR_DELAY              0\n",
              "CRS_ELAPSED_TIME       0\n",
              "ACTUAL_ELAPSED_TIME    0\n",
              "AIR_TIME               0\n",
              "DISTANCE               0\n",
              "CARRIER_DELAY          0\n",
              "WEATHER_DELAY          0\n",
              "NAS_DELAY              0\n",
              "SECURITY_DELAY         0\n",
              "LATE_AIRCRAFT_DELAY    0\n",
              "Org_Airport            0\n",
              "Org_latitude           0\n",
              "Org_longitude          0\n",
              "Origin_city            0\n",
              "Dest_Airport           0\n",
              "Dest_latitude          0\n",
              "Dest_longitude         0\n",
              "Dest_city              0\n",
              "month                  0\n",
              "Day                    0\n",
              "MONTH_abbr             0\n",
              "DELAY_STATUS           0\n",
              "dtype: int64"
            ]
          },
          "metadata": {},
          "execution_count": 28
        }
      ],
      "source": [
        "flight_df.isnull().sum()"
      ]
    },
    {
      "cell_type": "code",
      "execution_count": 29,
      "metadata": {
        "colab": {
          "base_uri": "https://localhost:8080/"
        },
        "id": "v0vT1223Auih",
        "outputId": "4f116652-6086-4146-cdfd-9995c45e7419"
      },
      "outputs": [
        {
          "output_type": "execute_result",
          "data": {
            "text/plain": [
              "Index(['FL_DATE', 'OP_CARRIER', 'CRS_DEP_TIME', 'DEP_DELAY', 'TAXI_OUT',\n",
              "       'WHEELS_OFF', 'WHEELS_ON', 'TAXI_IN', 'CRS_ARR_TIME', 'ARR_DELAY',\n",
              "       'CRS_ELAPSED_TIME', 'ACTUAL_ELAPSED_TIME', 'AIR_TIME', 'DISTANCE',\n",
              "       'CARRIER_DELAY', 'WEATHER_DELAY', 'NAS_DELAY', 'SECURITY_DELAY',\n",
              "       'LATE_AIRCRAFT_DELAY', 'Org_Airport', 'Org_latitude', 'Org_longitude',\n",
              "       'Origin_city', 'Dest_Airport', 'Dest_latitude', 'Dest_longitude',\n",
              "       'Dest_city', 'month', 'Day', 'MONTH_abbr', 'DELAY_STATUS', 'WEEKDAY'],\n",
              "      dtype='object')"
            ]
          },
          "metadata": {},
          "execution_count": 29
        }
      ],
      "source": [
        "flight_df['FL_DATE'] = pd.to_datetime(flight_df['FL_DATE'])\n",
        "flight_df['WEEKDAY'] = flight_df['FL_DATE'].dt.dayofweek\n",
        "flight_df.columns"
      ]
    },
    {
      "cell_type": "code",
      "execution_count": 30,
      "metadata": {
        "colab": {
          "base_uri": "https://localhost:8080/"
        },
        "id": "3HU7MZ7vTV1k",
        "outputId": "9843f0ee-0e6c-4260-d626-24f3914e6606"
      },
      "outputs": [
        {
          "output_type": "execute_result",
          "data": {
            "text/plain": [
              "0    373406\n",
              "4    369875\n",
              "3    367545\n",
              "2    358990\n",
              "1    356293\n",
              "6    353981\n",
              "5    313888\n",
              "Name: WEEKDAY, dtype: int64"
            ]
          },
          "metadata": {},
          "execution_count": 30
        }
      ],
      "source": [
        "flight_df.WEEKDAY.value_counts()"
      ]
    },
    {
      "cell_type": "code",
      "execution_count": 31,
      "metadata": {
        "colab": {
          "base_uri": "https://localhost:8080/",
          "height": 531
        },
        "id": "12KGRfY5TV1l",
        "outputId": "293f8bfa-ae07-44ec-b073-43805461502f"
      },
      "outputs": [
        {
          "output_type": "execute_result",
          "data": {
            "text/html": [
              "\n",
              "  <div id=\"df-8de33693-922c-4c45-8c64-afdbdb7223ce\">\n",
              "    <div class=\"colab-df-container\">\n",
              "      <div>\n",
              "<style scoped>\n",
              "    .dataframe tbody tr th:only-of-type {\n",
              "        vertical-align: middle;\n",
              "    }\n",
              "\n",
              "    .dataframe tbody tr th {\n",
              "        vertical-align: top;\n",
              "    }\n",
              "\n",
              "    .dataframe thead th {\n",
              "        text-align: right;\n",
              "    }\n",
              "</style>\n",
              "<table border=\"1\" class=\"dataframe\">\n",
              "  <thead>\n",
              "    <tr style=\"text-align: right;\">\n",
              "      <th></th>\n",
              "      <th>FL_DATE</th>\n",
              "      <th>OP_CARRIER</th>\n",
              "      <th>CRS_DEP_TIME</th>\n",
              "      <th>DEP_DELAY</th>\n",
              "      <th>TAXI_OUT</th>\n",
              "      <th>WHEELS_OFF</th>\n",
              "      <th>WHEELS_ON</th>\n",
              "      <th>TAXI_IN</th>\n",
              "      <th>CRS_ARR_TIME</th>\n",
              "      <th>ARR_DELAY</th>\n",
              "      <th>CRS_ELAPSED_TIME</th>\n",
              "      <th>ACTUAL_ELAPSED_TIME</th>\n",
              "      <th>AIR_TIME</th>\n",
              "      <th>DISTANCE</th>\n",
              "      <th>CARRIER_DELAY</th>\n",
              "      <th>WEATHER_DELAY</th>\n",
              "      <th>NAS_DELAY</th>\n",
              "      <th>SECURITY_DELAY</th>\n",
              "      <th>LATE_AIRCRAFT_DELAY</th>\n",
              "      <th>Org_Airport</th>\n",
              "      <th>Org_latitude</th>\n",
              "      <th>Org_longitude</th>\n",
              "      <th>Origin_city</th>\n",
              "      <th>Dest_Airport</th>\n",
              "      <th>Dest_latitude</th>\n",
              "      <th>Dest_longitude</th>\n",
              "      <th>Dest_city</th>\n",
              "      <th>month</th>\n",
              "      <th>Day</th>\n",
              "      <th>MONTH_abbr</th>\n",
              "      <th>DELAY_STATUS</th>\n",
              "      <th>WEEKDAY</th>\n",
              "    </tr>\n",
              "  </thead>\n",
              "  <tbody>\n",
              "    <tr>\n",
              "      <th>0</th>\n",
              "      <td>2018-01-01</td>\n",
              "      <td>United Airlines</td>\n",
              "      <td>1517</td>\n",
              "      <td>-5.0</td>\n",
              "      <td>15.0</td>\n",
              "      <td>1527.0</td>\n",
              "      <td>1712.0</td>\n",
              "      <td>10.0</td>\n",
              "      <td>1745.0</td>\n",
              "      <td>-23.0</td>\n",
              "      <td>268.0</td>\n",
              "      <td>250.0</td>\n",
              "      <td>225.0</td>\n",
              "      <td>1605.0</td>\n",
              "      <td>0.0</td>\n",
              "      <td>0.0</td>\n",
              "      <td>0.0</td>\n",
              "      <td>0.0</td>\n",
              "      <td>0.0</td>\n",
              "      <td>Newark Liberty International Airport</td>\n",
              "      <td>40.692501</td>\n",
              "      <td>-74.168701</td>\n",
              "      <td>New York</td>\n",
              "      <td>Denver International Airport</td>\n",
              "      <td>39.861698</td>\n",
              "      <td>-104.672996</td>\n",
              "      <td>Denver</td>\n",
              "      <td>1.0</td>\n",
              "      <td>1.0</td>\n",
              "      <td>Jan</td>\n",
              "      <td>0.0</td>\n",
              "      <td>0</td>\n",
              "    </tr>\n",
              "    <tr>\n",
              "      <th>1</th>\n",
              "      <td>2018-01-01</td>\n",
              "      <td>United Airlines</td>\n",
              "      <td>1657</td>\n",
              "      <td>161.0</td>\n",
              "      <td>14.0</td>\n",
              "      <td>1952.0</td>\n",
              "      <td>2130.0</td>\n",
              "      <td>7.0</td>\n",
              "      <td>1925.0</td>\n",
              "      <td>132.0</td>\n",
              "      <td>268.0</td>\n",
              "      <td>239.0</td>\n",
              "      <td>218.0</td>\n",
              "      <td>1605.0</td>\n",
              "      <td>16.0</td>\n",
              "      <td>0.0</td>\n",
              "      <td>0.0</td>\n",
              "      <td>0.0</td>\n",
              "      <td>116.0</td>\n",
              "      <td>Newark Liberty International Airport</td>\n",
              "      <td>40.692501</td>\n",
              "      <td>-74.168701</td>\n",
              "      <td>New York</td>\n",
              "      <td>Denver International Airport</td>\n",
              "      <td>39.861698</td>\n",
              "      <td>-104.672996</td>\n",
              "      <td>Denver</td>\n",
              "      <td>1.0</td>\n",
              "      <td>1.0</td>\n",
              "      <td>Jan</td>\n",
              "      <td>1.0</td>\n",
              "      <td>0</td>\n",
              "    </tr>\n",
              "    <tr>\n",
              "      <th>2</th>\n",
              "      <td>2018-01-01</td>\n",
              "      <td>United Airlines</td>\n",
              "      <td>600</td>\n",
              "      <td>-1.0</td>\n",
              "      <td>14.0</td>\n",
              "      <td>613.0</td>\n",
              "      <td>806.0</td>\n",
              "      <td>6.0</td>\n",
              "      <td>835.0</td>\n",
              "      <td>-23.0</td>\n",
              "      <td>275.0</td>\n",
              "      <td>253.0</td>\n",
              "      <td>233.0</td>\n",
              "      <td>1605.0</td>\n",
              "      <td>0.0</td>\n",
              "      <td>0.0</td>\n",
              "      <td>0.0</td>\n",
              "      <td>0.0</td>\n",
              "      <td>0.0</td>\n",
              "      <td>Newark Liberty International Airport</td>\n",
              "      <td>40.692501</td>\n",
              "      <td>-74.168701</td>\n",
              "      <td>New York</td>\n",
              "      <td>Denver International Airport</td>\n",
              "      <td>39.861698</td>\n",
              "      <td>-104.672996</td>\n",
              "      <td>Denver</td>\n",
              "      <td>1.0</td>\n",
              "      <td>1.0</td>\n",
              "      <td>Jan</td>\n",
              "      <td>0.0</td>\n",
              "      <td>0</td>\n",
              "    </tr>\n",
              "    <tr>\n",
              "      <th>3</th>\n",
              "      <td>2018-01-01</td>\n",
              "      <td>United Airlines</td>\n",
              "      <td>1855</td>\n",
              "      <td>11.0</td>\n",
              "      <td>26.0</td>\n",
              "      <td>1932.0</td>\n",
              "      <td>2112.0</td>\n",
              "      <td>12.0</td>\n",
              "      <td>2126.0</td>\n",
              "      <td>-2.0</td>\n",
              "      <td>271.0</td>\n",
              "      <td>258.0</td>\n",
              "      <td>220.0</td>\n",
              "      <td>1605.0</td>\n",
              "      <td>0.0</td>\n",
              "      <td>0.0</td>\n",
              "      <td>0.0</td>\n",
              "      <td>0.0</td>\n",
              "      <td>0.0</td>\n",
              "      <td>Newark Liberty International Airport</td>\n",
              "      <td>40.692501</td>\n",
              "      <td>-74.168701</td>\n",
              "      <td>New York</td>\n",
              "      <td>Denver International Airport</td>\n",
              "      <td>39.861698</td>\n",
              "      <td>-104.672996</td>\n",
              "      <td>Denver</td>\n",
              "      <td>1.0</td>\n",
              "      <td>1.0</td>\n",
              "      <td>Jan</td>\n",
              "      <td>0.0</td>\n",
              "      <td>0</td>\n",
              "    </tr>\n",
              "    <tr>\n",
              "      <th>4</th>\n",
              "      <td>2018-01-01</td>\n",
              "      <td>United Airlines</td>\n",
              "      <td>1150</td>\n",
              "      <td>-1.0</td>\n",
              "      <td>13.0</td>\n",
              "      <td>1202.0</td>\n",
              "      <td>1353.0</td>\n",
              "      <td>7.0</td>\n",
              "      <td>1418.0</td>\n",
              "      <td>-18.0</td>\n",
              "      <td>268.0</td>\n",
              "      <td>251.0</td>\n",
              "      <td>231.0</td>\n",
              "      <td>1605.0</td>\n",
              "      <td>0.0</td>\n",
              "      <td>0.0</td>\n",
              "      <td>0.0</td>\n",
              "      <td>0.0</td>\n",
              "      <td>0.0</td>\n",
              "      <td>Newark Liberty International Airport</td>\n",
              "      <td>40.692501</td>\n",
              "      <td>-74.168701</td>\n",
              "      <td>New York</td>\n",
              "      <td>Denver International Airport</td>\n",
              "      <td>39.861698</td>\n",
              "      <td>-104.672996</td>\n",
              "      <td>Denver</td>\n",
              "      <td>1.0</td>\n",
              "      <td>1.0</td>\n",
              "      <td>Jan</td>\n",
              "      <td>0.0</td>\n",
              "      <td>0</td>\n",
              "    </tr>\n",
              "  </tbody>\n",
              "</table>\n",
              "</div>\n",
              "      <button class=\"colab-df-convert\" onclick=\"convertToInteractive('df-8de33693-922c-4c45-8c64-afdbdb7223ce')\"\n",
              "              title=\"Convert this dataframe to an interactive table.\"\n",
              "              style=\"display:none;\">\n",
              "        \n",
              "  <svg xmlns=\"http://www.w3.org/2000/svg\" height=\"24px\"viewBox=\"0 0 24 24\"\n",
              "       width=\"24px\">\n",
              "    <path d=\"M0 0h24v24H0V0z\" fill=\"none\"/>\n",
              "    <path d=\"M18.56 5.44l.94 2.06.94-2.06 2.06-.94-2.06-.94-.94-2.06-.94 2.06-2.06.94zm-11 1L8.5 8.5l.94-2.06 2.06-.94-2.06-.94L8.5 2.5l-.94 2.06-2.06.94zm10 10l.94 2.06.94-2.06 2.06-.94-2.06-.94-.94-2.06-.94 2.06-2.06.94z\"/><path d=\"M17.41 7.96l-1.37-1.37c-.4-.4-.92-.59-1.43-.59-.52 0-1.04.2-1.43.59L10.3 9.45l-7.72 7.72c-.78.78-.78 2.05 0 2.83L4 21.41c.39.39.9.59 1.41.59.51 0 1.02-.2 1.41-.59l7.78-7.78 2.81-2.81c.8-.78.8-2.07 0-2.86zM5.41 20L4 18.59l7.72-7.72 1.47 1.35L5.41 20z\"/>\n",
              "  </svg>\n",
              "      </button>\n",
              "      \n",
              "  <style>\n",
              "    .colab-df-container {\n",
              "      display:flex;\n",
              "      flex-wrap:wrap;\n",
              "      gap: 12px;\n",
              "    }\n",
              "\n",
              "    .colab-df-convert {\n",
              "      background-color: #E8F0FE;\n",
              "      border: none;\n",
              "      border-radius: 50%;\n",
              "      cursor: pointer;\n",
              "      display: none;\n",
              "      fill: #1967D2;\n",
              "      height: 32px;\n",
              "      padding: 0 0 0 0;\n",
              "      width: 32px;\n",
              "    }\n",
              "\n",
              "    .colab-df-convert:hover {\n",
              "      background-color: #E2EBFA;\n",
              "      box-shadow: 0px 1px 2px rgba(60, 64, 67, 0.3), 0px 1px 3px 1px rgba(60, 64, 67, 0.15);\n",
              "      fill: #174EA6;\n",
              "    }\n",
              "\n",
              "    [theme=dark] .colab-df-convert {\n",
              "      background-color: #3B4455;\n",
              "      fill: #D2E3FC;\n",
              "    }\n",
              "\n",
              "    [theme=dark] .colab-df-convert:hover {\n",
              "      background-color: #434B5C;\n",
              "      box-shadow: 0px 1px 3px 1px rgba(0, 0, 0, 0.15);\n",
              "      filter: drop-shadow(0px 1px 2px rgba(0, 0, 0, 0.3));\n",
              "      fill: #FFFFFF;\n",
              "    }\n",
              "  </style>\n",
              "\n",
              "      <script>\n",
              "        const buttonEl =\n",
              "          document.querySelector('#df-8de33693-922c-4c45-8c64-afdbdb7223ce button.colab-df-convert');\n",
              "        buttonEl.style.display =\n",
              "          google.colab.kernel.accessAllowed ? 'block' : 'none';\n",
              "\n",
              "        async function convertToInteractive(key) {\n",
              "          const element = document.querySelector('#df-8de33693-922c-4c45-8c64-afdbdb7223ce');\n",
              "          const dataTable =\n",
              "            await google.colab.kernel.invokeFunction('convertToInteractive',\n",
              "                                                     [key], {});\n",
              "          if (!dataTable) return;\n",
              "\n",
              "          const docLinkHtml = 'Like what you see? Visit the ' +\n",
              "            '<a target=\"_blank\" href=https://colab.research.google.com/notebooks/data_table.ipynb>data table notebook</a>'\n",
              "            + ' to learn more about interactive tables.';\n",
              "          element.innerHTML = '';\n",
              "          dataTable['output_type'] = 'display_data';\n",
              "          await google.colab.output.renderOutput(dataTable, element);\n",
              "          const docLink = document.createElement('div');\n",
              "          docLink.innerHTML = docLinkHtml;\n",
              "          element.appendChild(docLink);\n",
              "        }\n",
              "      </script>\n",
              "    </div>\n",
              "  </div>\n",
              "  "
            ],
            "text/plain": [
              "     FL_DATE       OP_CARRIER  CRS_DEP_TIME  ...  MONTH_abbr  DELAY_STATUS  WEEKDAY\n",
              "0 2018-01-01  United Airlines          1517  ...         Jan           0.0        0\n",
              "1 2018-01-01  United Airlines          1657  ...         Jan           1.0        0\n",
              "2 2018-01-01  United Airlines           600  ...         Jan           0.0        0\n",
              "3 2018-01-01  United Airlines          1855  ...         Jan           0.0        0\n",
              "4 2018-01-01  United Airlines          1150  ...         Jan           0.0        0\n",
              "\n",
              "[5 rows x 32 columns]"
            ]
          },
          "metadata": {},
          "execution_count": 31
        }
      ],
      "source": [
        "flight_df.head()"
      ]
    },
    {
      "cell_type": "code",
      "execution_count": 32,
      "metadata": {
        "id": "llxCzW1QTV1m"
      },
      "outputs": [],
      "source": [
        "flight_df['CRS_DEP_TIME'] = np.ceil(flight_df['CRS_DEP_TIME']/600).apply(int)\n",
        "flight_df['WHEELS_OFF'] = np.ceil(flight_df['WHEELS_OFF']/600).apply(int) \n",
        "flight_df['WHEELS_ON'] = np.ceil(flight_df['WHEELS_ON']/600).apply(int)\n",
        "flight_df['CRS_ARR_TIME'] = np.ceil(flight_df['CRS_ARR_TIME']/600).apply(int)"
      ]
    },
    {
      "cell_type": "code",
      "execution_count": null,
      "metadata": {
        "colab": {
          "base_uri": "https://localhost:8080/"
        },
        "id": "94Spy00pTV1o",
        "outputId": "076fc27f-7652-4eb6-fd3c-e5dd1a9ec09c"
      },
      "outputs": [
        {
          "output_type": "execute_result",
          "data": {
            "text/plain": [
              "2    0.386484\n",
              "3    0.355911\n",
              "4    0.189423\n",
              "1    0.068182\n",
              "Name: CRS_DEP_TIME, dtype: float64"
            ]
          },
          "metadata": {},
          "execution_count": 13
        }
      ],
      "source": [
        "flight_df.CRS_DEP_TIME.value_counts(normalize=True)"
      ]
    },
    {
      "cell_type": "code",
      "execution_count": null,
      "metadata": {
        "colab": {
          "base_uri": "https://localhost:8080/"
        },
        "id": "qGdVbbVHTV1p",
        "outputId": "93c3589e-eeea-48dd-ea36-9228e75a9eb4"
      },
      "outputs": [
        {
          "output_type": "execute_result",
          "data": {
            "text/plain": [
              "3    0.336078\n",
              "2    0.322003\n",
              "4    0.311326\n",
              "1    0.030593\n",
              "Name: CRS_ARR_TIME, dtype: float64"
            ]
          },
          "metadata": {},
          "execution_count": 14
        }
      ],
      "source": [
        "flight_df.CRS_ARR_TIME.value_counts(normalize=True)"
      ]
    },
    {
      "cell_type": "code",
      "execution_count": 33,
      "metadata": {
        "colab": {
          "base_uri": "https://localhost:8080/",
          "height": 531
        },
        "id": "rtnV-477TV1q",
        "outputId": "11112418-f72e-4ba5-9333-e07cf782c21f"
      },
      "outputs": [
        {
          "output_type": "execute_result",
          "data": {
            "text/html": [
              "\n",
              "  <div id=\"df-c68b7f86-e93f-4528-abdc-ab21437e74d1\">\n",
              "    <div class=\"colab-df-container\">\n",
              "      <div>\n",
              "<style scoped>\n",
              "    .dataframe tbody tr th:only-of-type {\n",
              "        vertical-align: middle;\n",
              "    }\n",
              "\n",
              "    .dataframe tbody tr th {\n",
              "        vertical-align: top;\n",
              "    }\n",
              "\n",
              "    .dataframe thead th {\n",
              "        text-align: right;\n",
              "    }\n",
              "</style>\n",
              "<table border=\"1\" class=\"dataframe\">\n",
              "  <thead>\n",
              "    <tr style=\"text-align: right;\">\n",
              "      <th></th>\n",
              "      <th>FL_DATE</th>\n",
              "      <th>OP_CARRIER</th>\n",
              "      <th>CRS_DEP_TIME</th>\n",
              "      <th>DEP_DELAY</th>\n",
              "      <th>TAXI_OUT</th>\n",
              "      <th>WHEELS_OFF</th>\n",
              "      <th>WHEELS_ON</th>\n",
              "      <th>TAXI_IN</th>\n",
              "      <th>CRS_ARR_TIME</th>\n",
              "      <th>ARR_DELAY</th>\n",
              "      <th>CRS_ELAPSED_TIME</th>\n",
              "      <th>ACTUAL_ELAPSED_TIME</th>\n",
              "      <th>AIR_TIME</th>\n",
              "      <th>DISTANCE</th>\n",
              "      <th>CARRIER_DELAY</th>\n",
              "      <th>WEATHER_DELAY</th>\n",
              "      <th>NAS_DELAY</th>\n",
              "      <th>SECURITY_DELAY</th>\n",
              "      <th>LATE_AIRCRAFT_DELAY</th>\n",
              "      <th>Org_Airport</th>\n",
              "      <th>Org_latitude</th>\n",
              "      <th>Org_longitude</th>\n",
              "      <th>Origin_city</th>\n",
              "      <th>Dest_Airport</th>\n",
              "      <th>Dest_latitude</th>\n",
              "      <th>Dest_longitude</th>\n",
              "      <th>Dest_city</th>\n",
              "      <th>month</th>\n",
              "      <th>Day</th>\n",
              "      <th>MONTH_abbr</th>\n",
              "      <th>DELAY_STATUS</th>\n",
              "      <th>WEEKDAY</th>\n",
              "    </tr>\n",
              "  </thead>\n",
              "  <tbody>\n",
              "    <tr>\n",
              "      <th>0</th>\n",
              "      <td>2018-01-01</td>\n",
              "      <td>United Airlines</td>\n",
              "      <td>3</td>\n",
              "      <td>-5.0</td>\n",
              "      <td>15.0</td>\n",
              "      <td>3</td>\n",
              "      <td>3</td>\n",
              "      <td>10.0</td>\n",
              "      <td>3</td>\n",
              "      <td>-23.0</td>\n",
              "      <td>268.0</td>\n",
              "      <td>250.0</td>\n",
              "      <td>225.0</td>\n",
              "      <td>1605.0</td>\n",
              "      <td>0.0</td>\n",
              "      <td>0.0</td>\n",
              "      <td>0.0</td>\n",
              "      <td>0.0</td>\n",
              "      <td>0.0</td>\n",
              "      <td>Newark Liberty International Airport</td>\n",
              "      <td>40.692501</td>\n",
              "      <td>-74.168701</td>\n",
              "      <td>New York</td>\n",
              "      <td>Denver International Airport</td>\n",
              "      <td>39.861698</td>\n",
              "      <td>-104.672996</td>\n",
              "      <td>Denver</td>\n",
              "      <td>1.0</td>\n",
              "      <td>1.0</td>\n",
              "      <td>Jan</td>\n",
              "      <td>0.0</td>\n",
              "      <td>0</td>\n",
              "    </tr>\n",
              "    <tr>\n",
              "      <th>1</th>\n",
              "      <td>2018-01-01</td>\n",
              "      <td>United Airlines</td>\n",
              "      <td>3</td>\n",
              "      <td>161.0</td>\n",
              "      <td>14.0</td>\n",
              "      <td>4</td>\n",
              "      <td>4</td>\n",
              "      <td>7.0</td>\n",
              "      <td>4</td>\n",
              "      <td>132.0</td>\n",
              "      <td>268.0</td>\n",
              "      <td>239.0</td>\n",
              "      <td>218.0</td>\n",
              "      <td>1605.0</td>\n",
              "      <td>16.0</td>\n",
              "      <td>0.0</td>\n",
              "      <td>0.0</td>\n",
              "      <td>0.0</td>\n",
              "      <td>116.0</td>\n",
              "      <td>Newark Liberty International Airport</td>\n",
              "      <td>40.692501</td>\n",
              "      <td>-74.168701</td>\n",
              "      <td>New York</td>\n",
              "      <td>Denver International Airport</td>\n",
              "      <td>39.861698</td>\n",
              "      <td>-104.672996</td>\n",
              "      <td>Denver</td>\n",
              "      <td>1.0</td>\n",
              "      <td>1.0</td>\n",
              "      <td>Jan</td>\n",
              "      <td>1.0</td>\n",
              "      <td>0</td>\n",
              "    </tr>\n",
              "    <tr>\n",
              "      <th>2</th>\n",
              "      <td>2018-01-01</td>\n",
              "      <td>United Airlines</td>\n",
              "      <td>1</td>\n",
              "      <td>-1.0</td>\n",
              "      <td>14.0</td>\n",
              "      <td>2</td>\n",
              "      <td>2</td>\n",
              "      <td>6.0</td>\n",
              "      <td>2</td>\n",
              "      <td>-23.0</td>\n",
              "      <td>275.0</td>\n",
              "      <td>253.0</td>\n",
              "      <td>233.0</td>\n",
              "      <td>1605.0</td>\n",
              "      <td>0.0</td>\n",
              "      <td>0.0</td>\n",
              "      <td>0.0</td>\n",
              "      <td>0.0</td>\n",
              "      <td>0.0</td>\n",
              "      <td>Newark Liberty International Airport</td>\n",
              "      <td>40.692501</td>\n",
              "      <td>-74.168701</td>\n",
              "      <td>New York</td>\n",
              "      <td>Denver International Airport</td>\n",
              "      <td>39.861698</td>\n",
              "      <td>-104.672996</td>\n",
              "      <td>Denver</td>\n",
              "      <td>1.0</td>\n",
              "      <td>1.0</td>\n",
              "      <td>Jan</td>\n",
              "      <td>0.0</td>\n",
              "      <td>0</td>\n",
              "    </tr>\n",
              "    <tr>\n",
              "      <th>3</th>\n",
              "      <td>2018-01-01</td>\n",
              "      <td>United Airlines</td>\n",
              "      <td>4</td>\n",
              "      <td>11.0</td>\n",
              "      <td>26.0</td>\n",
              "      <td>4</td>\n",
              "      <td>4</td>\n",
              "      <td>12.0</td>\n",
              "      <td>4</td>\n",
              "      <td>-2.0</td>\n",
              "      <td>271.0</td>\n",
              "      <td>258.0</td>\n",
              "      <td>220.0</td>\n",
              "      <td>1605.0</td>\n",
              "      <td>0.0</td>\n",
              "      <td>0.0</td>\n",
              "      <td>0.0</td>\n",
              "      <td>0.0</td>\n",
              "      <td>0.0</td>\n",
              "      <td>Newark Liberty International Airport</td>\n",
              "      <td>40.692501</td>\n",
              "      <td>-74.168701</td>\n",
              "      <td>New York</td>\n",
              "      <td>Denver International Airport</td>\n",
              "      <td>39.861698</td>\n",
              "      <td>-104.672996</td>\n",
              "      <td>Denver</td>\n",
              "      <td>1.0</td>\n",
              "      <td>1.0</td>\n",
              "      <td>Jan</td>\n",
              "      <td>0.0</td>\n",
              "      <td>0</td>\n",
              "    </tr>\n",
              "    <tr>\n",
              "      <th>4</th>\n",
              "      <td>2018-01-01</td>\n",
              "      <td>United Airlines</td>\n",
              "      <td>2</td>\n",
              "      <td>-1.0</td>\n",
              "      <td>13.0</td>\n",
              "      <td>3</td>\n",
              "      <td>3</td>\n",
              "      <td>7.0</td>\n",
              "      <td>3</td>\n",
              "      <td>-18.0</td>\n",
              "      <td>268.0</td>\n",
              "      <td>251.0</td>\n",
              "      <td>231.0</td>\n",
              "      <td>1605.0</td>\n",
              "      <td>0.0</td>\n",
              "      <td>0.0</td>\n",
              "      <td>0.0</td>\n",
              "      <td>0.0</td>\n",
              "      <td>0.0</td>\n",
              "      <td>Newark Liberty International Airport</td>\n",
              "      <td>40.692501</td>\n",
              "      <td>-74.168701</td>\n",
              "      <td>New York</td>\n",
              "      <td>Denver International Airport</td>\n",
              "      <td>39.861698</td>\n",
              "      <td>-104.672996</td>\n",
              "      <td>Denver</td>\n",
              "      <td>1.0</td>\n",
              "      <td>1.0</td>\n",
              "      <td>Jan</td>\n",
              "      <td>0.0</td>\n",
              "      <td>0</td>\n",
              "    </tr>\n",
              "  </tbody>\n",
              "</table>\n",
              "</div>\n",
              "      <button class=\"colab-df-convert\" onclick=\"convertToInteractive('df-c68b7f86-e93f-4528-abdc-ab21437e74d1')\"\n",
              "              title=\"Convert this dataframe to an interactive table.\"\n",
              "              style=\"display:none;\">\n",
              "        \n",
              "  <svg xmlns=\"http://www.w3.org/2000/svg\" height=\"24px\"viewBox=\"0 0 24 24\"\n",
              "       width=\"24px\">\n",
              "    <path d=\"M0 0h24v24H0V0z\" fill=\"none\"/>\n",
              "    <path d=\"M18.56 5.44l.94 2.06.94-2.06 2.06-.94-2.06-.94-.94-2.06-.94 2.06-2.06.94zm-11 1L8.5 8.5l.94-2.06 2.06-.94-2.06-.94L8.5 2.5l-.94 2.06-2.06.94zm10 10l.94 2.06.94-2.06 2.06-.94-2.06-.94-.94-2.06-.94 2.06-2.06.94z\"/><path d=\"M17.41 7.96l-1.37-1.37c-.4-.4-.92-.59-1.43-.59-.52 0-1.04.2-1.43.59L10.3 9.45l-7.72 7.72c-.78.78-.78 2.05 0 2.83L4 21.41c.39.39.9.59 1.41.59.51 0 1.02-.2 1.41-.59l7.78-7.78 2.81-2.81c.8-.78.8-2.07 0-2.86zM5.41 20L4 18.59l7.72-7.72 1.47 1.35L5.41 20z\"/>\n",
              "  </svg>\n",
              "      </button>\n",
              "      \n",
              "  <style>\n",
              "    .colab-df-container {\n",
              "      display:flex;\n",
              "      flex-wrap:wrap;\n",
              "      gap: 12px;\n",
              "    }\n",
              "\n",
              "    .colab-df-convert {\n",
              "      background-color: #E8F0FE;\n",
              "      border: none;\n",
              "      border-radius: 50%;\n",
              "      cursor: pointer;\n",
              "      display: none;\n",
              "      fill: #1967D2;\n",
              "      height: 32px;\n",
              "      padding: 0 0 0 0;\n",
              "      width: 32px;\n",
              "    }\n",
              "\n",
              "    .colab-df-convert:hover {\n",
              "      background-color: #E2EBFA;\n",
              "      box-shadow: 0px 1px 2px rgba(60, 64, 67, 0.3), 0px 1px 3px 1px rgba(60, 64, 67, 0.15);\n",
              "      fill: #174EA6;\n",
              "    }\n",
              "\n",
              "    [theme=dark] .colab-df-convert {\n",
              "      background-color: #3B4455;\n",
              "      fill: #D2E3FC;\n",
              "    }\n",
              "\n",
              "    [theme=dark] .colab-df-convert:hover {\n",
              "      background-color: #434B5C;\n",
              "      box-shadow: 0px 1px 3px 1px rgba(0, 0, 0, 0.15);\n",
              "      filter: drop-shadow(0px 1px 2px rgba(0, 0, 0, 0.3));\n",
              "      fill: #FFFFFF;\n",
              "    }\n",
              "  </style>\n",
              "\n",
              "      <script>\n",
              "        const buttonEl =\n",
              "          document.querySelector('#df-c68b7f86-e93f-4528-abdc-ab21437e74d1 button.colab-df-convert');\n",
              "        buttonEl.style.display =\n",
              "          google.colab.kernel.accessAllowed ? 'block' : 'none';\n",
              "\n",
              "        async function convertToInteractive(key) {\n",
              "          const element = document.querySelector('#df-c68b7f86-e93f-4528-abdc-ab21437e74d1');\n",
              "          const dataTable =\n",
              "            await google.colab.kernel.invokeFunction('convertToInteractive',\n",
              "                                                     [key], {});\n",
              "          if (!dataTable) return;\n",
              "\n",
              "          const docLinkHtml = 'Like what you see? Visit the ' +\n",
              "            '<a target=\"_blank\" href=https://colab.research.google.com/notebooks/data_table.ipynb>data table notebook</a>'\n",
              "            + ' to learn more about interactive tables.';\n",
              "          element.innerHTML = '';\n",
              "          dataTable['output_type'] = 'display_data';\n",
              "          await google.colab.output.renderOutput(dataTable, element);\n",
              "          const docLink = document.createElement('div');\n",
              "          docLink.innerHTML = docLinkHtml;\n",
              "          element.appendChild(docLink);\n",
              "        }\n",
              "      </script>\n",
              "    </div>\n",
              "  </div>\n",
              "  "
            ],
            "text/plain": [
              "     FL_DATE       OP_CARRIER  CRS_DEP_TIME  ...  MONTH_abbr  DELAY_STATUS  WEEKDAY\n",
              "0 2018-01-01  United Airlines             3  ...         Jan           0.0        0\n",
              "1 2018-01-01  United Airlines             3  ...         Jan           1.0        0\n",
              "2 2018-01-01  United Airlines             1  ...         Jan           0.0        0\n",
              "3 2018-01-01  United Airlines             4  ...         Jan           0.0        0\n",
              "4 2018-01-01  United Airlines             2  ...         Jan           0.0        0\n",
              "\n",
              "[5 rows x 32 columns]"
            ]
          },
          "metadata": {},
          "execution_count": 33
        }
      ],
      "source": [
        "flight_df.head()"
      ]
    },
    {
      "cell_type": "code",
      "execution_count": 34,
      "metadata": {
        "id": "iXkIixkMTV1r"
      },
      "outputs": [],
      "source": [
        "flight_df = flight_df.drop(['MONTH_abbr'], axis=1)\n",
        "flight_df = flight_df.drop(['Day'], axis=1)\n",
        "flight_df = flight_df.drop(['Dest_city'], axis=1)\n",
        "flight_df = flight_df.drop(['Origin_city'], axis=1)\n",
        "flight_df = flight_df.drop(['FL_DATE'], axis=1)\n",
        "flight_df = flight_df.drop(['Dest_Airport'], axis=1)\n",
        "flight_df = flight_df.drop(['Org_Airport'], axis=1)\n",
        "flight_df = flight_df.drop(['Dest_latitude'], axis=1)\n",
        "flight_df = flight_df.drop(['Dest_longitude'], axis=1)\n",
        "flight_df = flight_df.drop(['Org_latitude'], axis=1)\n",
        "flight_df = flight_df.drop(['Org_longitude'], axis=1)\n",
        "flight_df = flight_df.drop(['month'], axis=1)\n",
        "flight_df = flight_df.drop(['WEEKDAY'], axis=1)\n"
      ]
    },
    {
      "cell_type": "code",
      "execution_count": 35,
      "metadata": {
        "colab": {
          "base_uri": "https://localhost:8080/"
        },
        "id": "cV106EBFTV1s",
        "outputId": "90989f4d-13c8-49bb-e2da-02291428d8ad"
      },
      "outputs": [
        {
          "output_type": "stream",
          "name": "stdout",
          "text": [
            "<class 'pandas.core.frame.DataFrame'>\n",
            "Int64Index: 2493978 entries, 0 to 2493977\n",
            "Data columns (total 19 columns):\n",
            " #   Column               Dtype  \n",
            "---  ------               -----  \n",
            " 0   OP_CARRIER           object \n",
            " 1   CRS_DEP_TIME         int64  \n",
            " 2   DEP_DELAY            float64\n",
            " 3   TAXI_OUT             float64\n",
            " 4   WHEELS_OFF           int64  \n",
            " 5   WHEELS_ON            int64  \n",
            " 6   TAXI_IN              float64\n",
            " 7   CRS_ARR_TIME         int64  \n",
            " 8   ARR_DELAY            float64\n",
            " 9   CRS_ELAPSED_TIME     float64\n",
            " 10  ACTUAL_ELAPSED_TIME  float64\n",
            " 11  AIR_TIME             float64\n",
            " 12  DISTANCE             float64\n",
            " 13  CARRIER_DELAY        float64\n",
            " 14  WEATHER_DELAY        float64\n",
            " 15  NAS_DELAY            float64\n",
            " 16  SECURITY_DELAY       float64\n",
            " 17  LATE_AIRCRAFT_DELAY  float64\n",
            " 18  DELAY_STATUS         float64\n",
            "dtypes: float64(14), int64(4), object(1)\n",
            "memory usage: 380.6+ MB\n"
          ]
        }
      ],
      "source": [
        "flight_df.info()"
      ]
    },
    {
      "cell_type": "code",
      "execution_count": 36,
      "metadata": {
        "id": "tMZ7Uv848XYx"
      },
      "outputs": [],
      "source": [
        "from sklearn.preprocessing import LabelEncoder\n",
        "\n",
        "le = LabelEncoder()\n",
        "# Label encoding features to change categorical variables into numerical one\n",
        "flight_df['OP_CARRIER'] = le.fit_transform(flight_df['OP_CARRIER'])\n"
      ]
    },
    {
      "cell_type": "code",
      "execution_count": 37,
      "metadata": {
        "colab": {
          "base_uri": "https://localhost:8080/",
          "height": 176
        },
        "id": "eb4-jB791Azf",
        "outputId": "54b4b691-652e-4e43-bb4c-b8aa454ae84b"
      },
      "outputs": [
        {
          "output_type": "execute_result",
          "data": {
            "text/html": [
              "\n",
              "  <div id=\"df-7693f5b3-5d5f-4904-8866-77b2ee72eacc\">\n",
              "    <div class=\"colab-df-container\">\n",
              "      <div>\n",
              "<style scoped>\n",
              "    .dataframe tbody tr th:only-of-type {\n",
              "        vertical-align: middle;\n",
              "    }\n",
              "\n",
              "    .dataframe tbody tr th {\n",
              "        vertical-align: top;\n",
              "    }\n",
              "\n",
              "    .dataframe thead th {\n",
              "        text-align: right;\n",
              "    }\n",
              "</style>\n",
              "<table border=\"1\" class=\"dataframe\">\n",
              "  <thead>\n",
              "    <tr style=\"text-align: right;\">\n",
              "      <th></th>\n",
              "      <th>OP_CARRIER</th>\n",
              "      <th>CRS_DEP_TIME</th>\n",
              "      <th>DEP_DELAY</th>\n",
              "      <th>TAXI_OUT</th>\n",
              "      <th>WHEELS_OFF</th>\n",
              "      <th>WHEELS_ON</th>\n",
              "      <th>TAXI_IN</th>\n",
              "      <th>CRS_ARR_TIME</th>\n",
              "      <th>ARR_DELAY</th>\n",
              "      <th>CRS_ELAPSED_TIME</th>\n",
              "      <th>ACTUAL_ELAPSED_TIME</th>\n",
              "      <th>AIR_TIME</th>\n",
              "      <th>DISTANCE</th>\n",
              "      <th>CARRIER_DELAY</th>\n",
              "      <th>WEATHER_DELAY</th>\n",
              "      <th>NAS_DELAY</th>\n",
              "      <th>SECURITY_DELAY</th>\n",
              "      <th>LATE_AIRCRAFT_DELAY</th>\n",
              "      <th>DELAY_STATUS</th>\n",
              "    </tr>\n",
              "  </thead>\n",
              "  <tbody>\n",
              "    <tr>\n",
              "      <th>0</th>\n",
              "      <td>16</td>\n",
              "      <td>3</td>\n",
              "      <td>-5.0</td>\n",
              "      <td>15.0</td>\n",
              "      <td>3</td>\n",
              "      <td>3</td>\n",
              "      <td>10.0</td>\n",
              "      <td>3</td>\n",
              "      <td>-23.0</td>\n",
              "      <td>268.0</td>\n",
              "      <td>250.0</td>\n",
              "      <td>225.0</td>\n",
              "      <td>1605.0</td>\n",
              "      <td>0.0</td>\n",
              "      <td>0.0</td>\n",
              "      <td>0.0</td>\n",
              "      <td>0.0</td>\n",
              "      <td>0.0</td>\n",
              "      <td>0.0</td>\n",
              "    </tr>\n",
              "    <tr>\n",
              "      <th>1</th>\n",
              "      <td>16</td>\n",
              "      <td>3</td>\n",
              "      <td>161.0</td>\n",
              "      <td>14.0</td>\n",
              "      <td>4</td>\n",
              "      <td>4</td>\n",
              "      <td>7.0</td>\n",
              "      <td>4</td>\n",
              "      <td>132.0</td>\n",
              "      <td>268.0</td>\n",
              "      <td>239.0</td>\n",
              "      <td>218.0</td>\n",
              "      <td>1605.0</td>\n",
              "      <td>16.0</td>\n",
              "      <td>0.0</td>\n",
              "      <td>0.0</td>\n",
              "      <td>0.0</td>\n",
              "      <td>116.0</td>\n",
              "      <td>1.0</td>\n",
              "    </tr>\n",
              "  </tbody>\n",
              "</table>\n",
              "</div>\n",
              "      <button class=\"colab-df-convert\" onclick=\"convertToInteractive('df-7693f5b3-5d5f-4904-8866-77b2ee72eacc')\"\n",
              "              title=\"Convert this dataframe to an interactive table.\"\n",
              "              style=\"display:none;\">\n",
              "        \n",
              "  <svg xmlns=\"http://www.w3.org/2000/svg\" height=\"24px\"viewBox=\"0 0 24 24\"\n",
              "       width=\"24px\">\n",
              "    <path d=\"M0 0h24v24H0V0z\" fill=\"none\"/>\n",
              "    <path d=\"M18.56 5.44l.94 2.06.94-2.06 2.06-.94-2.06-.94-.94-2.06-.94 2.06-2.06.94zm-11 1L8.5 8.5l.94-2.06 2.06-.94-2.06-.94L8.5 2.5l-.94 2.06-2.06.94zm10 10l.94 2.06.94-2.06 2.06-.94-2.06-.94-.94-2.06-.94 2.06-2.06.94z\"/><path d=\"M17.41 7.96l-1.37-1.37c-.4-.4-.92-.59-1.43-.59-.52 0-1.04.2-1.43.59L10.3 9.45l-7.72 7.72c-.78.78-.78 2.05 0 2.83L4 21.41c.39.39.9.59 1.41.59.51 0 1.02-.2 1.41-.59l7.78-7.78 2.81-2.81c.8-.78.8-2.07 0-2.86zM5.41 20L4 18.59l7.72-7.72 1.47 1.35L5.41 20z\"/>\n",
              "  </svg>\n",
              "      </button>\n",
              "      \n",
              "  <style>\n",
              "    .colab-df-container {\n",
              "      display:flex;\n",
              "      flex-wrap:wrap;\n",
              "      gap: 12px;\n",
              "    }\n",
              "\n",
              "    .colab-df-convert {\n",
              "      background-color: #E8F0FE;\n",
              "      border: none;\n",
              "      border-radius: 50%;\n",
              "      cursor: pointer;\n",
              "      display: none;\n",
              "      fill: #1967D2;\n",
              "      height: 32px;\n",
              "      padding: 0 0 0 0;\n",
              "      width: 32px;\n",
              "    }\n",
              "\n",
              "    .colab-df-convert:hover {\n",
              "      background-color: #E2EBFA;\n",
              "      box-shadow: 0px 1px 2px rgba(60, 64, 67, 0.3), 0px 1px 3px 1px rgba(60, 64, 67, 0.15);\n",
              "      fill: #174EA6;\n",
              "    }\n",
              "\n",
              "    [theme=dark] .colab-df-convert {\n",
              "      background-color: #3B4455;\n",
              "      fill: #D2E3FC;\n",
              "    }\n",
              "\n",
              "    [theme=dark] .colab-df-convert:hover {\n",
              "      background-color: #434B5C;\n",
              "      box-shadow: 0px 1px 3px 1px rgba(0, 0, 0, 0.15);\n",
              "      filter: drop-shadow(0px 1px 2px rgba(0, 0, 0, 0.3));\n",
              "      fill: #FFFFFF;\n",
              "    }\n",
              "  </style>\n",
              "\n",
              "      <script>\n",
              "        const buttonEl =\n",
              "          document.querySelector('#df-7693f5b3-5d5f-4904-8866-77b2ee72eacc button.colab-df-convert');\n",
              "        buttonEl.style.display =\n",
              "          google.colab.kernel.accessAllowed ? 'block' : 'none';\n",
              "\n",
              "        async function convertToInteractive(key) {\n",
              "          const element = document.querySelector('#df-7693f5b3-5d5f-4904-8866-77b2ee72eacc');\n",
              "          const dataTable =\n",
              "            await google.colab.kernel.invokeFunction('convertToInteractive',\n",
              "                                                     [key], {});\n",
              "          if (!dataTable) return;\n",
              "\n",
              "          const docLinkHtml = 'Like what you see? Visit the ' +\n",
              "            '<a target=\"_blank\" href=https://colab.research.google.com/notebooks/data_table.ipynb>data table notebook</a>'\n",
              "            + ' to learn more about interactive tables.';\n",
              "          element.innerHTML = '';\n",
              "          dataTable['output_type'] = 'display_data';\n",
              "          await google.colab.output.renderOutput(dataTable, element);\n",
              "          const docLink = document.createElement('div');\n",
              "          docLink.innerHTML = docLinkHtml;\n",
              "          element.appendChild(docLink);\n",
              "        }\n",
              "      </script>\n",
              "    </div>\n",
              "  </div>\n",
              "  "
            ],
            "text/plain": [
              "   OP_CARRIER  CRS_DEP_TIME  ...  LATE_AIRCRAFT_DELAY  DELAY_STATUS\n",
              "0          16             3  ...                  0.0           0.0\n",
              "1          16             3  ...                116.0           1.0\n",
              "\n",
              "[2 rows x 19 columns]"
            ]
          },
          "metadata": {},
          "execution_count": 37
        }
      ],
      "source": [
        "flight_df.head(2)\n",
        "\n"
      ]
    },
    {
      "cell_type": "code",
      "execution_count": 38,
      "metadata": {
        "id": "xERVRd6I4yet"
      },
      "outputs": [],
      "source": [
        "flight_df['DELAY_STATUS'] = flight_df['DELAY_STATUS'].astype(int)"
      ]
    },
    {
      "cell_type": "code",
      "execution_count": 39,
      "metadata": {
        "colab": {
          "base_uri": "https://localhost:8080/"
        },
        "id": "mVGUhlFi8dkd",
        "outputId": "80f88941-003c-41c5-c0e6-45a9ca49b843"
      },
      "outputs": [
        {
          "output_type": "execute_result",
          "data": {
            "text/plain": [
              "(2493978, 16)"
            ]
          },
          "metadata": {},
          "execution_count": 39
        }
      ],
      "source": [
        "X = flight_df.drop(['DELAY_STATUS','ARR_DELAY','DEP_DELAY'], axis = 1)\n",
        "X.shape"
      ]
    },
    {
      "cell_type": "code",
      "execution_count": 40,
      "metadata": {
        "colab": {
          "base_uri": "https://localhost:8080/"
        },
        "id": "IuSWOdP08dnl",
        "outputId": "8c2b4b32-c2a0-4cad-973a-2477e631eccb"
      },
      "outputs": [
        {
          "output_type": "execute_result",
          "data": {
            "text/plain": [
              "0     0\n",
              "1     1\n",
              "2     0\n",
              "3     0\n",
              "4     0\n",
              "5     0\n",
              "6     0\n",
              "7     0\n",
              "8     0\n",
              "9     1\n",
              "10    1\n",
              "11    0\n",
              "12    0\n",
              "13    0\n",
              "14    0\n",
              "15    0\n",
              "16    0\n",
              "17    0\n",
              "18    1\n",
              "19    0\n",
              "Name: DELAY_STATUS, dtype: int64"
            ]
          },
          "metadata": {},
          "execution_count": 40
        }
      ],
      "source": [
        "y = flight_df['DELAY_STATUS']\n",
        "y.head(20)"
      ]
    },
    {
      "cell_type": "code",
      "execution_count": 41,
      "metadata": {
        "id": "XAie6xS-2heN"
      },
      "outputs": [],
      "source": [
        "import datetime, warnings, scipy \n",
        "import pandas as pd\n",
        "import numpy as np\n",
        "import seaborn as sns\n",
        "import matplotlib.pyplot as plt\n",
        "import warnings\n",
        "warnings.filterwarnings('ignore')\n",
        "from sklearn.tree import DecisionTreeClassifier\n",
        "from imblearn.metrics import classification_report_imbalanced\n",
        "from sklearn.model_selection import train_test_split\n",
        "from sklearn.metrics import accuracy_score, confusion_matrix, classification_report, plot_confusion_matrix\n",
        "from sklearn.ensemble import BaggingClassifier, RandomForestClassifier\n",
        "from pathlib import Path\n",
        "from sklearn.linear_model import LinearRegression\n",
        "from sklearn.linear_model import LogisticRegression\n",
        "from imblearn.metrics import classification_report_imbalanced\n",
        "from imblearn.ensemble import BalancedRandomForestClassifier, EasyEnsembleClassifier\n",
        "from sklearn.metrics import balanced_accuracy_score\n",
        "from imblearn.ensemble import EasyEnsembleClassifier\n",
        "\n",
        "\n",
        "# Perform the split\n",
        "X_train,X_test,y_train,y_test = train_test_split(X,y,test_size=0.3,random_state = 2)"
      ]
    },
    {
      "cell_type": "markdown",
      "metadata": {
        "id": "tW1nPRzk21OK"
      },
      "source": [
        "**Balanced Random Forest Classifier**"
      ]
    },
    {
      "cell_type": "code",
      "execution_count": 42,
      "metadata": {
        "colab": {
          "base_uri": "https://localhost:8080/"
        },
        "id": "jdH5eaZCzmpb",
        "outputId": "c13aff5d-cd4e-41a2-af32-b60ef1f6d312"
      },
      "outputs": [
        {
          "output_type": "stream",
          "name": "stdout",
          "text": [
            "Testing Accuracy for Balanced Random Forest Classifier: 0.8651180346683911\n"
          ]
        }
      ],
      "source": [
        "# Resample the training data with the BalancedRandomForestClassifier\n",
        "brf_model = BalancedRandomForestClassifier(n_estimators=100, random_state=1)\n",
        "brf_model.fit(X_train, y_train)\n",
        "# Calculated the balanced accuracy score\n",
        "y_pred = brf_model.predict(X_test)\n",
        "\n",
        "print('Testing Accuracy for Balanced Random Forest Classifier:', balanced_accuracy_score(y_test, y_pred))"
      ]
    },
    {
      "cell_type": "code",
      "execution_count": 43,
      "metadata": {
        "colab": {
          "base_uri": "https://localhost:8080/"
        },
        "id": "tB39Nmzk0HZ9",
        "outputId": "dfff9850-b814-42d9-a5db-9e2ab1f18bb2"
      },
      "outputs": [
        {
          "output_type": "stream",
          "name": "stdout",
          "text": [
            "                   pre       rec       spe        f1       geo       iba       sup\n",
            "\n",
            "          0       0.89      0.92      0.81      0.90      0.86      0.75    468229\n",
            "          1       0.85      0.81      0.92      0.83      0.86      0.74    279965\n",
            "\n",
            "avg / total       0.88      0.88      0.85      0.88      0.86      0.75    748194\n",
            "\n"
          ]
        }
      ],
      "source": [
        "# Print the imbalanced classification report for Balanced Random Forest Classifier\n",
        "print(classification_report_imbalanced(y_test, y_pred))"
      ]
    },
    {
      "cell_type": "code",
      "execution_count": 44,
      "metadata": {
        "colab": {
          "base_uri": "https://localhost:8080/",
          "height": 1000
        },
        "id": "Q6lDl8It0M7l",
        "outputId": "a81c406c-c1dc-4d03-f2b1-f55334266f8c"
      },
      "outputs": [
        {
          "output_type": "display_data",
          "data": {
            "image/png": "[encoded data removed]",
            "text/plain": [
              "<Figure size 720x1440 with 1 Axes>"
            ]
          },
          "metadata": {
            "needs_background": "light"
          }
        }
      ],
      "source": [
        "def plot_feature_importances(model):\n",
        "    n_features = X_train.shape[1]\n",
        "    plt.figure(figsize=(10, 20))\n",
        "    plt.barh(range(n_features), model.feature_importances_, color='k', align='center')\n",
        "    plt.yticks(np.arange(n_features), X_train.columns.values)\n",
        "    plt.xlabel('Feature importance')\n",
        "    plt.ylabel('Features')\n",
        "    plt.rcParams[\"figure.facecolor\"] = \"lightblue\"\n",
        "    plt.grid(True)\n",
        "\n",
        "\n",
        "plot_feature_importances(brf_model)\n",
        "plt.rcParams[\"figure.facecolor\"] = \"lightblue\""
      ]
    },
    {
      "cell_type": "code",
      "execution_count": 45,
      "metadata": {
        "id": "DvLV7-OeQUkj",
        "colab": {
          "base_uri": "https://localhost:8080/",
          "height": 290
        },
        "outputId": "28d358a8-ba01-4dcd-936a-3d8b31136f67"
      },
      "outputs": [
        {
          "output_type": "display_data",
          "data": {
            "image/png": "[encoded data removed]",
            "text/plain": [
              "<Figure size 432x288 with 2 Axes>"
            ]
          },
          "metadata": {}
        }
      ],
      "source": [
        "# Alternative confusion matrix\n",
        "plot_confusion_matrix(brf_model, X, y, values_format='.3g')\n",
        "plt.show()"
      ]
    }
  ],
  "metadata": {
    "colab": {
      "collapsed_sections": [],
      "name": "Model_3.ipynb",
      "provenance": []
    },
    "kernelspec": {
      "display_name": "PythonData",
      "language": "python",
      "name": "pythondata"
    },
    "language_info": {
      "codemirror_mode": {
        "name": "ipython",
        "version": 3
      },
      "file_extension": ".py",
      "mimetype": "text/x-python",
      "name": "python",
      "nbconvert_exporter": "python",
      "pygments_lexer": "ipython3",
      "version": "3.7.10"
    }
  },
  "nbformat": 4,
  "nbformat_minor": 0
}